{
 "cells": [
  {
   "cell_type": "code",
   "execution_count": 51,
   "metadata": {
    "collapsed": true
   },
   "outputs": [
    {
     "name": "stdout",
     "output_type": "stream",
     "text": [
      "Python 3.10.4\n"
     ]
    }
   ],
   "source": [
    "!python -V"
   ]
  },
  {
   "cell_type": "code",
   "execution_count": 52,
   "outputs": [],
   "source": [
    "import pandas as pd\n",
    "import numpy as np\n",
    "import matplotlib.pyplot as plt\n",
    "import seaborn as sns\n",
    "\n",
    "from sklearn.linear_model import LinearRegression\n",
    "from sklearn.model_selection import train_test_split, GridSearchCV\n",
    "from sklearn.metrics import r2_score\n",
    "# % matplotlib inline"
   ],
   "metadata": {
    "collapsed": false,
    "pycharm": {
     "name": "#%%\n"
    }
   }
  },
  {
   "cell_type": "code",
   "execution_count": 53,
   "outputs": [
    {
     "data": {
      "text/plain": "                                Loan ID                           Customer ID  \\\n0  14dd8831-6af5-400b-83ec-68e61888a048  981165ec-3274-42f5-a3b4-d104041a9ca9   \n1  4771cc26-131a-45db-b5aa-537ea4ba5342  2de017a3-2e01-49cb-a581-08169e83be29   \n2  4eed4e6a-aa2f-4c91-8651-ce984ee8fb26  5efb2b2b-bf11-4dfd-a572-3761a2694725   \n3  77598f7b-32e7-4e3b-a6e5-06ba0d98fe8a  e777faab-98ae-45af-9a86-7ce5b33b1011   \n4  d4062e70-befa-4995-8643-a0de73938182  81536ad9-5ccf-4eb8-befb-47a4d608658e   \n\n  Loan Status  Current Loan Amount        Term  Credit Score  Annual Income  \\\n0  Fully Paid               445412  Short Term         709.0      1167493.0   \n1  Fully Paid               262328  Short Term           NaN            NaN   \n2  Fully Paid             99999999  Short Term         741.0      2231892.0   \n3  Fully Paid               347666   Long Term         721.0       806949.0   \n4  Fully Paid               176220  Short Term           NaN            NaN   \n\n  Years in current job Home Ownership             Purpose  Monthly Debt  \\\n0              8 years  Home Mortgage   Home Improvements       5214.74   \n1            10+ years  Home Mortgage  Debt Consolidation      33295.98   \n2              8 years       Own Home  Debt Consolidation      29200.53   \n3              3 years       Own Home  Debt Consolidation       8741.90   \n4              5 years           Rent  Debt Consolidation      20639.70   \n\n   Years of Credit History  Months since last delinquent  \\\n0                     17.2                           NaN   \n1                     21.1                           8.0   \n2                     14.9                          29.0   \n3                     12.0                           NaN   \n4                      6.1                           NaN   \n\n   Number of Open Accounts  Number of Credit Problems  Current Credit Balance  \\\n0                        6                          1                  228190   \n1                       35                          0                  229976   \n2                       18                          1                  297996   \n3                        9                          0                  256329   \n4                       15                          0                  253460   \n\n   Maximum Open Credit  Bankruptcies  Tax Liens  \n0             416746.0           1.0        0.0  \n1             850784.0           0.0        0.0  \n2             750090.0           0.0        0.0  \n3             386958.0           0.0        0.0  \n4             427174.0           0.0        0.0  ",
      "text/html": "<div>\n<style scoped>\n    .dataframe tbody tr th:only-of-type {\n        vertical-align: middle;\n    }\n\n    .dataframe tbody tr th {\n        vertical-align: top;\n    }\n\n    .dataframe thead th {\n        text-align: right;\n    }\n</style>\n<table border=\"1\" class=\"dataframe\">\n  <thead>\n    <tr style=\"text-align: right;\">\n      <th></th>\n      <th>Loan ID</th>\n      <th>Customer ID</th>\n      <th>Loan Status</th>\n      <th>Current Loan Amount</th>\n      <th>Term</th>\n      <th>Credit Score</th>\n      <th>Annual Income</th>\n      <th>Years in current job</th>\n      <th>Home Ownership</th>\n      <th>Purpose</th>\n      <th>Monthly Debt</th>\n      <th>Years of Credit History</th>\n      <th>Months since last delinquent</th>\n      <th>Number of Open Accounts</th>\n      <th>Number of Credit Problems</th>\n      <th>Current Credit Balance</th>\n      <th>Maximum Open Credit</th>\n      <th>Bankruptcies</th>\n      <th>Tax Liens</th>\n    </tr>\n  </thead>\n  <tbody>\n    <tr>\n      <th>0</th>\n      <td>14dd8831-6af5-400b-83ec-68e61888a048</td>\n      <td>981165ec-3274-42f5-a3b4-d104041a9ca9</td>\n      <td>Fully Paid</td>\n      <td>445412</td>\n      <td>Short Term</td>\n      <td>709.0</td>\n      <td>1167493.0</td>\n      <td>8 years</td>\n      <td>Home Mortgage</td>\n      <td>Home Improvements</td>\n      <td>5214.74</td>\n      <td>17.2</td>\n      <td>NaN</td>\n      <td>6</td>\n      <td>1</td>\n      <td>228190</td>\n      <td>416746.0</td>\n      <td>1.0</td>\n      <td>0.0</td>\n    </tr>\n    <tr>\n      <th>1</th>\n      <td>4771cc26-131a-45db-b5aa-537ea4ba5342</td>\n      <td>2de017a3-2e01-49cb-a581-08169e83be29</td>\n      <td>Fully Paid</td>\n      <td>262328</td>\n      <td>Short Term</td>\n      <td>NaN</td>\n      <td>NaN</td>\n      <td>10+ years</td>\n      <td>Home Mortgage</td>\n      <td>Debt Consolidation</td>\n      <td>33295.98</td>\n      <td>21.1</td>\n      <td>8.0</td>\n      <td>35</td>\n      <td>0</td>\n      <td>229976</td>\n      <td>850784.0</td>\n      <td>0.0</td>\n      <td>0.0</td>\n    </tr>\n    <tr>\n      <th>2</th>\n      <td>4eed4e6a-aa2f-4c91-8651-ce984ee8fb26</td>\n      <td>5efb2b2b-bf11-4dfd-a572-3761a2694725</td>\n      <td>Fully Paid</td>\n      <td>99999999</td>\n      <td>Short Term</td>\n      <td>741.0</td>\n      <td>2231892.0</td>\n      <td>8 years</td>\n      <td>Own Home</td>\n      <td>Debt Consolidation</td>\n      <td>29200.53</td>\n      <td>14.9</td>\n      <td>29.0</td>\n      <td>18</td>\n      <td>1</td>\n      <td>297996</td>\n      <td>750090.0</td>\n      <td>0.0</td>\n      <td>0.0</td>\n    </tr>\n    <tr>\n      <th>3</th>\n      <td>77598f7b-32e7-4e3b-a6e5-06ba0d98fe8a</td>\n      <td>e777faab-98ae-45af-9a86-7ce5b33b1011</td>\n      <td>Fully Paid</td>\n      <td>347666</td>\n      <td>Long Term</td>\n      <td>721.0</td>\n      <td>806949.0</td>\n      <td>3 years</td>\n      <td>Own Home</td>\n      <td>Debt Consolidation</td>\n      <td>8741.90</td>\n      <td>12.0</td>\n      <td>NaN</td>\n      <td>9</td>\n      <td>0</td>\n      <td>256329</td>\n      <td>386958.0</td>\n      <td>0.0</td>\n      <td>0.0</td>\n    </tr>\n    <tr>\n      <th>4</th>\n      <td>d4062e70-befa-4995-8643-a0de73938182</td>\n      <td>81536ad9-5ccf-4eb8-befb-47a4d608658e</td>\n      <td>Fully Paid</td>\n      <td>176220</td>\n      <td>Short Term</td>\n      <td>NaN</td>\n      <td>NaN</td>\n      <td>5 years</td>\n      <td>Rent</td>\n      <td>Debt Consolidation</td>\n      <td>20639.70</td>\n      <td>6.1</td>\n      <td>NaN</td>\n      <td>15</td>\n      <td>0</td>\n      <td>253460</td>\n      <td>427174.0</td>\n      <td>0.0</td>\n      <td>0.0</td>\n    </tr>\n  </tbody>\n</table>\n</div>"
     },
     "execution_count": 53,
     "metadata": {},
     "output_type": "execute_result"
    }
   ],
   "source": [
    "data_scoring = pd.read_csv(\"data/credit.csv\")\n",
    "data_scoring.head()"
   ],
   "metadata": {
    "collapsed": false,
    "pycharm": {
     "name": "#%%\n"
    }
   }
  },
  {
   "cell_type": "markdown",
   "source": [
    "### Описание полей\n",
    "* Loan ID: уникальный идентификатор кредита;\n",
    "* Customer ID: уникальный идентификатор клиента;\n",
    "* Loan Status: категориальный признак - кредит погашен (\"Fully Paid\") или не погашен (\"Charged Off\");\n",
    "* Current Loan Amount: размер кредита;\n",
    "* Term: срок кредита;\n",
    "* Credit Score: кредитный рейтинг - число от 0 до 800;\n",
    "* Years in current job: стаж на текущем месте работы;\n",
    "* Home Ownership: статус недвижимости - собственность (\"Own\"), ипотека (\"Home Mortgage\") или аренда (\"Rent\");\n",
    "* Annual Income: годовой доход;\n",
    "* Purpose: цель кредита;\n",
    "* Monthly Debt: размер ежемесячного платежа по текущим кредитам;\n",
    "* Years of Credit History: количество лет кредитной истории;\n",
    "* Months since last delinquent: количество месяцев с последнего нарушения условий кредита;\n",
    "* Number of Open Accounts: количество открытых кредитных карт;\n",
    "* Number of Credit Problems: количество кредитных проблем;\n",
    "* Current Credit Balance: суммарный текущий долг;\n",
    "* Maximum Open Credit: максимальный кредитный лимит из всех источников;\n",
    "* Bankruptcies: количество банкротств;\n",
    "* Tax Liens: количество нарушений налогового законодательства."
   ],
   "metadata": {
    "collapsed": false,
    "pycharm": {
     "name": "#%% md\n"
    }
   }
  },
  {
   "cell_type": "code",
   "execution_count": 54,
   "outputs": [
    {
     "data": {
      "text/plain": "(100000, 19)"
     },
     "execution_count": 54,
     "metadata": {},
     "output_type": "execute_result"
    }
   ],
   "source": [
    "data_scoring.shape"
   ],
   "metadata": {
    "collapsed": false,
    "pycharm": {
     "name": "#%%\n"
    }
   }
  },
  {
   "cell_type": "code",
   "execution_count": 55,
   "outputs": [
    {
     "name": "stdout",
     "output_type": "stream",
     "text": [
      "<class 'pandas.core.frame.DataFrame'>\n",
      "RangeIndex: 100000 entries, 0 to 99999\n",
      "Data columns (total 19 columns):\n",
      " #   Column                        Non-Null Count   Dtype  \n",
      "---  ------                        --------------   -----  \n",
      " 0   Loan ID                       100000 non-null  object \n",
      " 1   Customer ID                   100000 non-null  object \n",
      " 2   Loan Status                   100000 non-null  object \n",
      " 3   Current Loan Amount           100000 non-null  int64  \n",
      " 4   Term                          100000 non-null  object \n",
      " 5   Credit Score                  80846 non-null   float64\n",
      " 6   Annual Income                 80846 non-null   float64\n",
      " 7   Years in current job          95778 non-null   object \n",
      " 8   Home Ownership                100000 non-null  object \n",
      " 9   Purpose                       100000 non-null  object \n",
      " 10  Monthly Debt                  100000 non-null  float64\n",
      " 11  Years of Credit History       100000 non-null  float64\n",
      " 12  Months since last delinquent  46859 non-null   float64\n",
      " 13  Number of Open Accounts       100000 non-null  int64  \n",
      " 14  Number of Credit Problems     100000 non-null  int64  \n",
      " 15  Current Credit Balance        100000 non-null  int64  \n",
      " 16  Maximum Open Credit           99998 non-null   float64\n",
      " 17  Bankruptcies                  99796 non-null   float64\n",
      " 18  Tax Liens                     99990 non-null   float64\n",
      "dtypes: float64(8), int64(4), object(7)\n",
      "memory usage: 14.5+ MB\n"
     ]
    }
   ],
   "source": [
    "data_scoring.info()"
   ],
   "metadata": {
    "collapsed": false,
    "pycharm": {
     "name": "#%%\n"
    }
   }
  },
  {
   "cell_type": "code",
   "execution_count": 56,
   "outputs": [
    {
     "data": {
      "text/plain": "  Loan Status  Current Loan Amount        Term  Credit Score  Annual Income  \\\n0  Fully Paid               445412  Short Term         709.0      1167493.0   \n1  Fully Paid               262328  Short Term           NaN            NaN   \n2  Fully Paid             99999999  Short Term         741.0      2231892.0   \n3  Fully Paid               347666   Long Term         721.0       806949.0   \n4  Fully Paid               176220  Short Term           NaN            NaN   \n\n  Years in current job Home Ownership             Purpose  Monthly Debt  \\\n0              8 years  Home Mortgage   Home Improvements       5214.74   \n1            10+ years  Home Mortgage  Debt Consolidation      33295.98   \n2              8 years       Own Home  Debt Consolidation      29200.53   \n3              3 years       Own Home  Debt Consolidation       8741.90   \n4              5 years           Rent  Debt Consolidation      20639.70   \n\n   Years of Credit History  Months since last delinquent  \\\n0                     17.2                           NaN   \n1                     21.1                           8.0   \n2                     14.9                          29.0   \n3                     12.0                           NaN   \n4                      6.1                           NaN   \n\n   Number of Open Accounts  Number of Credit Problems  Current Credit Balance  \\\n0                        6                          1                  228190   \n1                       35                          0                  229976   \n2                       18                          1                  297996   \n3                        9                          0                  256329   \n4                       15                          0                  253460   \n\n   Maximum Open Credit  Bankruptcies  Tax Liens  \n0             416746.0           1.0        0.0  \n1             850784.0           0.0        0.0  \n2             750090.0           0.0        0.0  \n3             386958.0           0.0        0.0  \n4             427174.0           0.0        0.0  ",
      "text/html": "<div>\n<style scoped>\n    .dataframe tbody tr th:only-of-type {\n        vertical-align: middle;\n    }\n\n    .dataframe tbody tr th {\n        vertical-align: top;\n    }\n\n    .dataframe thead th {\n        text-align: right;\n    }\n</style>\n<table border=\"1\" class=\"dataframe\">\n  <thead>\n    <tr style=\"text-align: right;\">\n      <th></th>\n      <th>Loan Status</th>\n      <th>Current Loan Amount</th>\n      <th>Term</th>\n      <th>Credit Score</th>\n      <th>Annual Income</th>\n      <th>Years in current job</th>\n      <th>Home Ownership</th>\n      <th>Purpose</th>\n      <th>Monthly Debt</th>\n      <th>Years of Credit History</th>\n      <th>Months since last delinquent</th>\n      <th>Number of Open Accounts</th>\n      <th>Number of Credit Problems</th>\n      <th>Current Credit Balance</th>\n      <th>Maximum Open Credit</th>\n      <th>Bankruptcies</th>\n      <th>Tax Liens</th>\n    </tr>\n  </thead>\n  <tbody>\n    <tr>\n      <th>0</th>\n      <td>Fully Paid</td>\n      <td>445412</td>\n      <td>Short Term</td>\n      <td>709.0</td>\n      <td>1167493.0</td>\n      <td>8 years</td>\n      <td>Home Mortgage</td>\n      <td>Home Improvements</td>\n      <td>5214.74</td>\n      <td>17.2</td>\n      <td>NaN</td>\n      <td>6</td>\n      <td>1</td>\n      <td>228190</td>\n      <td>416746.0</td>\n      <td>1.0</td>\n      <td>0.0</td>\n    </tr>\n    <tr>\n      <th>1</th>\n      <td>Fully Paid</td>\n      <td>262328</td>\n      <td>Short Term</td>\n      <td>NaN</td>\n      <td>NaN</td>\n      <td>10+ years</td>\n      <td>Home Mortgage</td>\n      <td>Debt Consolidation</td>\n      <td>33295.98</td>\n      <td>21.1</td>\n      <td>8.0</td>\n      <td>35</td>\n      <td>0</td>\n      <td>229976</td>\n      <td>850784.0</td>\n      <td>0.0</td>\n      <td>0.0</td>\n    </tr>\n    <tr>\n      <th>2</th>\n      <td>Fully Paid</td>\n      <td>99999999</td>\n      <td>Short Term</td>\n      <td>741.0</td>\n      <td>2231892.0</td>\n      <td>8 years</td>\n      <td>Own Home</td>\n      <td>Debt Consolidation</td>\n      <td>29200.53</td>\n      <td>14.9</td>\n      <td>29.0</td>\n      <td>18</td>\n      <td>1</td>\n      <td>297996</td>\n      <td>750090.0</td>\n      <td>0.0</td>\n      <td>0.0</td>\n    </tr>\n    <tr>\n      <th>3</th>\n      <td>Fully Paid</td>\n      <td>347666</td>\n      <td>Long Term</td>\n      <td>721.0</td>\n      <td>806949.0</td>\n      <td>3 years</td>\n      <td>Own Home</td>\n      <td>Debt Consolidation</td>\n      <td>8741.90</td>\n      <td>12.0</td>\n      <td>NaN</td>\n      <td>9</td>\n      <td>0</td>\n      <td>256329</td>\n      <td>386958.0</td>\n      <td>0.0</td>\n      <td>0.0</td>\n    </tr>\n    <tr>\n      <th>4</th>\n      <td>Fully Paid</td>\n      <td>176220</td>\n      <td>Short Term</td>\n      <td>NaN</td>\n      <td>NaN</td>\n      <td>5 years</td>\n      <td>Rent</td>\n      <td>Debt Consolidation</td>\n      <td>20639.70</td>\n      <td>6.1</td>\n      <td>NaN</td>\n      <td>15</td>\n      <td>0</td>\n      <td>253460</td>\n      <td>427174.0</td>\n      <td>0.0</td>\n      <td>0.0</td>\n    </tr>\n  </tbody>\n</table>\n</div>"
     },
     "execution_count": 56,
     "metadata": {},
     "output_type": "execute_result"
    }
   ],
   "source": [
    "data_scoring = data_scoring.drop(columns=[\"Loan ID\", \"Customer ID\"])\n",
    "data_scoring.head()"
   ],
   "metadata": {
    "collapsed": false,
    "pycharm": {
     "name": "#%%\n"
    }
   }
  },
  {
   "cell_type": "code",
   "execution_count": 57,
   "outputs": [
    {
     "data": {
      "text/plain": "(100000, 17)"
     },
     "execution_count": 57,
     "metadata": {},
     "output_type": "execute_result"
    }
   ],
   "source": [
    "data_scoring.shape"
   ],
   "metadata": {
    "collapsed": false,
    "pycharm": {
     "name": "#%%\n"
    }
   }
  },
  {
   "cell_type": "code",
   "execution_count": 58,
   "outputs": [
    {
     "data": {
      "text/plain": "       Current Loan Amount  Credit Score  Annual Income   Monthly Debt  \\\ncount         1.000000e+05  80846.000000   8.084600e+04  100000.000000   \nmean          1.176045e+07   1076.456089   1.378277e+06   18472.412336   \nstd           3.178394e+07   1475.403791   1.081360e+06   12174.992609   \nmin           1.080200e+04    585.000000   7.662700e+04       0.000000   \n25%           1.796520e+05    705.000000   8.488440e+05   10214.162500   \n50%           3.122460e+05    724.000000   1.174162e+06   16220.300000   \n75%           5.249420e+05    741.000000   1.650663e+06   24012.057500   \nmax           1.000000e+08   7510.000000   1.655574e+08  435843.280000   \n\n       Years of Credit History  Months since last delinquent  \\\ncount            100000.000000                  46859.000000   \nmean                 18.199141                     34.901321   \nstd                   7.015324                     21.997829   \nmin                   3.600000                      0.000000   \n25%                  13.500000                     16.000000   \n50%                  16.900000                     32.000000   \n75%                  21.700000                     51.000000   \nmax                  70.500000                    176.000000   \n\n       Number of Open Accounts  Number of Credit Problems  \\\ncount             100000.00000              100000.000000   \nmean                  11.12853                   0.168310   \nstd                    5.00987                   0.482705   \nmin                    0.00000                   0.000000   \n25%                    8.00000                   0.000000   \n50%                   10.00000                   0.000000   \n75%                   14.00000                   0.000000   \nmax                   76.00000                  15.000000   \n\n       Current Credit Balance  Maximum Open Credit  Bankruptcies     Tax Liens  \ncount            1.000000e+05         9.999800e+04  99796.000000  99990.000000  \nmean             2.946374e+05         7.607984e+05      0.117740      0.029313  \nstd              3.761709e+05         8.384503e+06      0.351424      0.258182  \nmin              0.000000e+00         0.000000e+00      0.000000      0.000000  \n25%              1.126700e+05         2.734380e+05      0.000000      0.000000  \n50%              2.098170e+05         4.678740e+05      0.000000      0.000000  \n75%              3.679588e+05         7.829580e+05      0.000000      0.000000  \nmax              3.287897e+07         1.539738e+09      7.000000     15.000000  ",
      "text/html": "<div>\n<style scoped>\n    .dataframe tbody tr th:only-of-type {\n        vertical-align: middle;\n    }\n\n    .dataframe tbody tr th {\n        vertical-align: top;\n    }\n\n    .dataframe thead th {\n        text-align: right;\n    }\n</style>\n<table border=\"1\" class=\"dataframe\">\n  <thead>\n    <tr style=\"text-align: right;\">\n      <th></th>\n      <th>Current Loan Amount</th>\n      <th>Credit Score</th>\n      <th>Annual Income</th>\n      <th>Monthly Debt</th>\n      <th>Years of Credit History</th>\n      <th>Months since last delinquent</th>\n      <th>Number of Open Accounts</th>\n      <th>Number of Credit Problems</th>\n      <th>Current Credit Balance</th>\n      <th>Maximum Open Credit</th>\n      <th>Bankruptcies</th>\n      <th>Tax Liens</th>\n    </tr>\n  </thead>\n  <tbody>\n    <tr>\n      <th>count</th>\n      <td>1.000000e+05</td>\n      <td>80846.000000</td>\n      <td>8.084600e+04</td>\n      <td>100000.000000</td>\n      <td>100000.000000</td>\n      <td>46859.000000</td>\n      <td>100000.00000</td>\n      <td>100000.000000</td>\n      <td>1.000000e+05</td>\n      <td>9.999800e+04</td>\n      <td>99796.000000</td>\n      <td>99990.000000</td>\n    </tr>\n    <tr>\n      <th>mean</th>\n      <td>1.176045e+07</td>\n      <td>1076.456089</td>\n      <td>1.378277e+06</td>\n      <td>18472.412336</td>\n      <td>18.199141</td>\n      <td>34.901321</td>\n      <td>11.12853</td>\n      <td>0.168310</td>\n      <td>2.946374e+05</td>\n      <td>7.607984e+05</td>\n      <td>0.117740</td>\n      <td>0.029313</td>\n    </tr>\n    <tr>\n      <th>std</th>\n      <td>3.178394e+07</td>\n      <td>1475.403791</td>\n      <td>1.081360e+06</td>\n      <td>12174.992609</td>\n      <td>7.015324</td>\n      <td>21.997829</td>\n      <td>5.00987</td>\n      <td>0.482705</td>\n      <td>3.761709e+05</td>\n      <td>8.384503e+06</td>\n      <td>0.351424</td>\n      <td>0.258182</td>\n    </tr>\n    <tr>\n      <th>min</th>\n      <td>1.080200e+04</td>\n      <td>585.000000</td>\n      <td>7.662700e+04</td>\n      <td>0.000000</td>\n      <td>3.600000</td>\n      <td>0.000000</td>\n      <td>0.00000</td>\n      <td>0.000000</td>\n      <td>0.000000e+00</td>\n      <td>0.000000e+00</td>\n      <td>0.000000</td>\n      <td>0.000000</td>\n    </tr>\n    <tr>\n      <th>25%</th>\n      <td>1.796520e+05</td>\n      <td>705.000000</td>\n      <td>8.488440e+05</td>\n      <td>10214.162500</td>\n      <td>13.500000</td>\n      <td>16.000000</td>\n      <td>8.00000</td>\n      <td>0.000000</td>\n      <td>1.126700e+05</td>\n      <td>2.734380e+05</td>\n      <td>0.000000</td>\n      <td>0.000000</td>\n    </tr>\n    <tr>\n      <th>50%</th>\n      <td>3.122460e+05</td>\n      <td>724.000000</td>\n      <td>1.174162e+06</td>\n      <td>16220.300000</td>\n      <td>16.900000</td>\n      <td>32.000000</td>\n      <td>10.00000</td>\n      <td>0.000000</td>\n      <td>2.098170e+05</td>\n      <td>4.678740e+05</td>\n      <td>0.000000</td>\n      <td>0.000000</td>\n    </tr>\n    <tr>\n      <th>75%</th>\n      <td>5.249420e+05</td>\n      <td>741.000000</td>\n      <td>1.650663e+06</td>\n      <td>24012.057500</td>\n      <td>21.700000</td>\n      <td>51.000000</td>\n      <td>14.00000</td>\n      <td>0.000000</td>\n      <td>3.679588e+05</td>\n      <td>7.829580e+05</td>\n      <td>0.000000</td>\n      <td>0.000000</td>\n    </tr>\n    <tr>\n      <th>max</th>\n      <td>1.000000e+08</td>\n      <td>7510.000000</td>\n      <td>1.655574e+08</td>\n      <td>435843.280000</td>\n      <td>70.500000</td>\n      <td>176.000000</td>\n      <td>76.00000</td>\n      <td>15.000000</td>\n      <td>3.287897e+07</td>\n      <td>1.539738e+09</td>\n      <td>7.000000</td>\n      <td>15.000000</td>\n    </tr>\n  </tbody>\n</table>\n</div>"
     },
     "execution_count": 58,
     "metadata": {},
     "output_type": "execute_result"
    }
   ],
   "source": [
    "data_scoring.describe()"
   ],
   "metadata": {
    "collapsed": false,
    "pycharm": {
     "name": "#%%\n"
    }
   }
  },
  {
   "cell_type": "code",
   "execution_count": 59,
   "outputs": [
    {
     "data": {
      "text/plain": "<Figure size 1080x504 with 0 Axes>"
     },
     "execution_count": 59,
     "metadata": {},
     "output_type": "execute_result"
    },
    {
     "data": {
      "text/plain": "<Figure size 1080x504 with 0 Axes>"
     },
     "metadata": {},
     "output_type": "display_data"
    }
   ],
   "source": [
    "plt.figure(figsize=(15, 7))\n",
    "\n",
    "ax = sns.bar"
   ],
   "metadata": {
    "collapsed": false,
    "pycharm": {
     "name": "#%%\n"
    }
   }
  },
  {
   "cell_type": "code",
   "execution_count": 60,
   "outputs": [
    {
     "data": {
      "text/plain": "0        Fully Paid\n1        Fully Paid\n2        Fully Paid\n3        Fully Paid\n4        Fully Paid\n            ...    \n99995    Fully Paid\n99996    Fully Paid\n99997    Fully Paid\n99998    Fully Paid\n99999    Fully Paid\nName: Loan Status, Length: 100000, dtype: object"
     },
     "execution_count": 60,
     "metadata": {},
     "output_type": "execute_result"
    }
   ],
   "source": [
    "data_scoring[\"Loan Status\"]"
   ],
   "metadata": {
    "collapsed": false,
    "pycharm": {
     "name": "#%%\n"
    }
   }
  },
  {
   "cell_type": "code",
   "execution_count": null,
   "outputs": [],
   "source": [],
   "metadata": {
    "collapsed": false,
    "pycharm": {
     "name": "#%%\n"
    }
   }
  },
  {
   "cell_type": "code",
   "execution_count": null,
   "outputs": [],
   "source": [],
   "metadata": {
    "collapsed": false,
    "pycharm": {
     "name": "#%%\n"
    }
   }
  },
  {
   "cell_type": "code",
   "execution_count": null,
   "outputs": [],
   "source": [],
   "metadata": {
    "collapsed": false,
    "pycharm": {
     "name": "#%%\n"
    }
   }
  },
  {
   "cell_type": "code",
   "execution_count": null,
   "outputs": [],
   "source": [],
   "metadata": {
    "collapsed": false,
    "pycharm": {
     "name": "#%%\n"
    }
   }
  },
  {
   "cell_type": "code",
   "execution_count": null,
   "outputs": [],
   "source": [],
   "metadata": {
    "collapsed": false,
    "pycharm": {
     "name": "#%%\n"
    }
   }
  },
  {
   "cell_type": "code",
   "execution_count": null,
   "outputs": [],
   "source": [],
   "metadata": {
    "collapsed": false,
    "pycharm": {
     "name": "#%%\n"
    }
   }
  },
  {
   "cell_type": "code",
   "execution_count": null,
   "outputs": [],
   "source": [],
   "metadata": {
    "collapsed": false,
    "pycharm": {
     "name": "#%%\n"
    }
   }
  },
  {
   "cell_type": "code",
   "execution_count": null,
   "outputs": [],
   "source": [],
   "metadata": {
    "collapsed": false,
    "pycharm": {
     "name": "#%%\n"
    }
   }
  },
  {
   "cell_type": "code",
   "execution_count": null,
   "outputs": [],
   "source": [],
   "metadata": {
    "collapsed": false,
    "pycharm": {
     "name": "#%%\n"
    }
   }
  },
  {
   "cell_type": "code",
   "execution_count": 28,
   "outputs": [],
   "source": [
    "data_scoring['Years in current job'].fillna('10+ years', inplace=True)\n",
    "data_scoring['Credit Score'].fillna(data_scoring['Credit Score'].median(), inplace=True)\n",
    "data_scoring['Annual Income'].fillna(data_scoring['Annual Income'].median(), inplace=True)\n",
    "data_scoring['Months since last delinquent'].fillna(data_scoring['Months since last delinquent'].median(), inplace=True)\n",
    "data_scoring['Maximum Open Credit'].fillna(data_scoring['Maximum Open Credit'].median(), inplace=True)\n",
    "data_scoring['Bankruptcies'].fillna(data_scoring['Bankruptcies'].median(), inplace=True)\n",
    "data_scoring['Tax Liens'].fillna(data_scoring['Tax Liens'].median(), inplace=True)"
   ],
   "metadata": {
    "collapsed": false,
    "pycharm": {
     "name": "#%%\n"
    }
   }
  },
  {
   "cell_type": "code",
   "execution_count": 29,
   "outputs": [
    {
     "data": {
      "text/plain": "       Years in current job_1 year  Years in current job_10+ years  \\\n0                                0                               0   \n1                                0                               1   \n2                                0                               0   \n3                                0                               0   \n4                                0                               0   \n...                            ...                             ...   \n99995                            0                               0   \n99996                            1                               0   \n99997                            0                               0   \n99998                            0                               0   \n99999                            0                               1   \n\n       Years in current job_2 years  Years in current job_3 years  \\\n0                                 0                             0   \n1                                 0                             0   \n2                                 0                             0   \n3                                 0                             1   \n4                                 0                             0   \n...                             ...                           ...   \n99995                             0                             0   \n99996                             0                             0   \n99997                             0                             0   \n99998                             0                             0   \n99999                             0                             0   \n\n       Years in current job_4 years  Years in current job_5 years  \\\n0                                 0                             0   \n1                                 0                             0   \n2                                 0                             0   \n3                                 0                             0   \n4                                 0                             1   \n...                             ...                           ...   \n99995                             0                             0   \n99996                             0                             0   \n99997                             0                             0   \n99998                             0                             0   \n99999                             0                             0   \n\n       Years in current job_6 years  Years in current job_7 years  \\\n0                                 0                             0   \n1                                 0                             0   \n2                                 0                             0   \n3                                 0                             0   \n4                                 0                             0   \n...                             ...                           ...   \n99995                             0                             1   \n99996                             0                             0   \n99997                             1                             0   \n99998                             0                             0   \n99999                             0                             0   \n\n       Years in current job_8 years  Years in current job_9 years  \\\n0                                 1                             0   \n1                                 0                             0   \n2                                 1                             0   \n3                                 0                             0   \n4                                 0                             0   \n...                             ...                           ...   \n99995                             0                             0   \n99996                             0                             0   \n99997                             0                             0   \n99998                             0                             1   \n99999                             0                             0   \n\n       Years in current job_< 1 year  \n0                                  0  \n1                                  0  \n2                                  0  \n3                                  0  \n4                                  0  \n...                              ...  \n99995                              0  \n99996                              0  \n99997                              0  \n99998                              0  \n99999                              0  \n\n[100000 rows x 11 columns]",
      "text/html": "<div>\n<style scoped>\n    .dataframe tbody tr th:only-of-type {\n        vertical-align: middle;\n    }\n\n    .dataframe tbody tr th {\n        vertical-align: top;\n    }\n\n    .dataframe thead th {\n        text-align: right;\n    }\n</style>\n<table border=\"1\" class=\"dataframe\">\n  <thead>\n    <tr style=\"text-align: right;\">\n      <th></th>\n      <th>Years in current job_1 year</th>\n      <th>Years in current job_10+ years</th>\n      <th>Years in current job_2 years</th>\n      <th>Years in current job_3 years</th>\n      <th>Years in current job_4 years</th>\n      <th>Years in current job_5 years</th>\n      <th>Years in current job_6 years</th>\n      <th>Years in current job_7 years</th>\n      <th>Years in current job_8 years</th>\n      <th>Years in current job_9 years</th>\n      <th>Years in current job_&lt; 1 year</th>\n    </tr>\n  </thead>\n  <tbody>\n    <tr>\n      <th>0</th>\n      <td>0</td>\n      <td>0</td>\n      <td>0</td>\n      <td>0</td>\n      <td>0</td>\n      <td>0</td>\n      <td>0</td>\n      <td>0</td>\n      <td>1</td>\n      <td>0</td>\n      <td>0</td>\n    </tr>\n    <tr>\n      <th>1</th>\n      <td>0</td>\n      <td>1</td>\n      <td>0</td>\n      <td>0</td>\n      <td>0</td>\n      <td>0</td>\n      <td>0</td>\n      <td>0</td>\n      <td>0</td>\n      <td>0</td>\n      <td>0</td>\n    </tr>\n    <tr>\n      <th>2</th>\n      <td>0</td>\n      <td>0</td>\n      <td>0</td>\n      <td>0</td>\n      <td>0</td>\n      <td>0</td>\n      <td>0</td>\n      <td>0</td>\n      <td>1</td>\n      <td>0</td>\n      <td>0</td>\n    </tr>\n    <tr>\n      <th>3</th>\n      <td>0</td>\n      <td>0</td>\n      <td>0</td>\n      <td>1</td>\n      <td>0</td>\n      <td>0</td>\n      <td>0</td>\n      <td>0</td>\n      <td>0</td>\n      <td>0</td>\n      <td>0</td>\n    </tr>\n    <tr>\n      <th>4</th>\n      <td>0</td>\n      <td>0</td>\n      <td>0</td>\n      <td>0</td>\n      <td>0</td>\n      <td>1</td>\n      <td>0</td>\n      <td>0</td>\n      <td>0</td>\n      <td>0</td>\n      <td>0</td>\n    </tr>\n    <tr>\n      <th>...</th>\n      <td>...</td>\n      <td>...</td>\n      <td>...</td>\n      <td>...</td>\n      <td>...</td>\n      <td>...</td>\n      <td>...</td>\n      <td>...</td>\n      <td>...</td>\n      <td>...</td>\n      <td>...</td>\n    </tr>\n    <tr>\n      <th>99995</th>\n      <td>0</td>\n      <td>0</td>\n      <td>0</td>\n      <td>0</td>\n      <td>0</td>\n      <td>0</td>\n      <td>0</td>\n      <td>1</td>\n      <td>0</td>\n      <td>0</td>\n      <td>0</td>\n    </tr>\n    <tr>\n      <th>99996</th>\n      <td>1</td>\n      <td>0</td>\n      <td>0</td>\n      <td>0</td>\n      <td>0</td>\n      <td>0</td>\n      <td>0</td>\n      <td>0</td>\n      <td>0</td>\n      <td>0</td>\n      <td>0</td>\n    </tr>\n    <tr>\n      <th>99997</th>\n      <td>0</td>\n      <td>0</td>\n      <td>0</td>\n      <td>0</td>\n      <td>0</td>\n      <td>0</td>\n      <td>1</td>\n      <td>0</td>\n      <td>0</td>\n      <td>0</td>\n      <td>0</td>\n    </tr>\n    <tr>\n      <th>99998</th>\n      <td>0</td>\n      <td>0</td>\n      <td>0</td>\n      <td>0</td>\n      <td>0</td>\n      <td>0</td>\n      <td>0</td>\n      <td>0</td>\n      <td>0</td>\n      <td>1</td>\n      <td>0</td>\n    </tr>\n    <tr>\n      <th>99999</th>\n      <td>0</td>\n      <td>1</td>\n      <td>0</td>\n      <td>0</td>\n      <td>0</td>\n      <td>0</td>\n      <td>0</td>\n      <td>0</td>\n      <td>0</td>\n      <td>0</td>\n      <td>0</td>\n    </tr>\n  </tbody>\n</table>\n<p>100000 rows × 11 columns</p>\n</div>"
     },
     "execution_count": 29,
     "metadata": {},
     "output_type": "execute_result"
    }
   ],
   "source": [
    "pd.get_dummies(data_scoring['Years in current job'], prefix=\"Years in current job\")"
   ],
   "metadata": {
    "collapsed": false,
    "pycharm": {
     "name": "#%%\n"
    }
   }
  },
  {
   "cell_type": "code",
   "execution_count": 30,
   "outputs": [
    {
     "data": {
      "text/plain": "       Term_Long Term  Term_Short Term\n0                   0                1\n1                   0                1\n2                   0                1\n3                   1                0\n4                   0                1\n...               ...              ...\n99995               0                1\n99996               0                1\n99997               0                1\n99998               0                1\n99999               0                1\n\n[100000 rows x 2 columns]",
      "text/html": "<div>\n<style scoped>\n    .dataframe tbody tr th:only-of-type {\n        vertical-align: middle;\n    }\n\n    .dataframe tbody tr th {\n        vertical-align: top;\n    }\n\n    .dataframe thead th {\n        text-align: right;\n    }\n</style>\n<table border=\"1\" class=\"dataframe\">\n  <thead>\n    <tr style=\"text-align: right;\">\n      <th></th>\n      <th>Term_Long Term</th>\n      <th>Term_Short Term</th>\n    </tr>\n  </thead>\n  <tbody>\n    <tr>\n      <th>0</th>\n      <td>0</td>\n      <td>1</td>\n    </tr>\n    <tr>\n      <th>1</th>\n      <td>0</td>\n      <td>1</td>\n    </tr>\n    <tr>\n      <th>2</th>\n      <td>0</td>\n      <td>1</td>\n    </tr>\n    <tr>\n      <th>3</th>\n      <td>1</td>\n      <td>0</td>\n    </tr>\n    <tr>\n      <th>4</th>\n      <td>0</td>\n      <td>1</td>\n    </tr>\n    <tr>\n      <th>...</th>\n      <td>...</td>\n      <td>...</td>\n    </tr>\n    <tr>\n      <th>99995</th>\n      <td>0</td>\n      <td>1</td>\n    </tr>\n    <tr>\n      <th>99996</th>\n      <td>0</td>\n      <td>1</td>\n    </tr>\n    <tr>\n      <th>99997</th>\n      <td>0</td>\n      <td>1</td>\n    </tr>\n    <tr>\n      <th>99998</th>\n      <td>0</td>\n      <td>1</td>\n    </tr>\n    <tr>\n      <th>99999</th>\n      <td>0</td>\n      <td>1</td>\n    </tr>\n  </tbody>\n</table>\n<p>100000 rows × 2 columns</p>\n</div>"
     },
     "execution_count": 30,
     "metadata": {},
     "output_type": "execute_result"
    }
   ],
   "source": [
    "pd.get_dummies(data_scoring['Term'], prefix=\"Term\")"
   ],
   "metadata": {
    "collapsed": false,
    "pycharm": {
     "name": "#%%\n"
    }
   }
  },
  {
   "cell_type": "code",
   "execution_count": 31,
   "outputs": [
    {
     "data": {
      "text/plain": "       Home Ownership_HaveMortgage  Home Ownership_Home Mortgage  \\\n0                                0                             1   \n1                                0                             1   \n2                                0                             0   \n3                                0                             0   \n4                                0                             0   \n...                            ...                           ...   \n99995                            0                             0   \n99996                            0                             0   \n99997                            0                             0   \n99998                            0                             0   \n99999                            0                             0   \n\n       Home Ownership_Own Home  Home Ownership_Rent  \n0                            0                    0  \n1                            0                    0  \n2                            1                    0  \n3                            1                    0  \n4                            0                    1  \n...                        ...                  ...  \n99995                        1                    0  \n99996                        0                    1  \n99997                        0                    1  \n99998                        0                    1  \n99999                        1                    0  \n\n[100000 rows x 4 columns]",
      "text/html": "<div>\n<style scoped>\n    .dataframe tbody tr th:only-of-type {\n        vertical-align: middle;\n    }\n\n    .dataframe tbody tr th {\n        vertical-align: top;\n    }\n\n    .dataframe thead th {\n        text-align: right;\n    }\n</style>\n<table border=\"1\" class=\"dataframe\">\n  <thead>\n    <tr style=\"text-align: right;\">\n      <th></th>\n      <th>Home Ownership_HaveMortgage</th>\n      <th>Home Ownership_Home Mortgage</th>\n      <th>Home Ownership_Own Home</th>\n      <th>Home Ownership_Rent</th>\n    </tr>\n  </thead>\n  <tbody>\n    <tr>\n      <th>0</th>\n      <td>0</td>\n      <td>1</td>\n      <td>0</td>\n      <td>0</td>\n    </tr>\n    <tr>\n      <th>1</th>\n      <td>0</td>\n      <td>1</td>\n      <td>0</td>\n      <td>0</td>\n    </tr>\n    <tr>\n      <th>2</th>\n      <td>0</td>\n      <td>0</td>\n      <td>1</td>\n      <td>0</td>\n    </tr>\n    <tr>\n      <th>3</th>\n      <td>0</td>\n      <td>0</td>\n      <td>1</td>\n      <td>0</td>\n    </tr>\n    <tr>\n      <th>4</th>\n      <td>0</td>\n      <td>0</td>\n      <td>0</td>\n      <td>1</td>\n    </tr>\n    <tr>\n      <th>...</th>\n      <td>...</td>\n      <td>...</td>\n      <td>...</td>\n      <td>...</td>\n    </tr>\n    <tr>\n      <th>99995</th>\n      <td>0</td>\n      <td>0</td>\n      <td>1</td>\n      <td>0</td>\n    </tr>\n    <tr>\n      <th>99996</th>\n      <td>0</td>\n      <td>0</td>\n      <td>0</td>\n      <td>1</td>\n    </tr>\n    <tr>\n      <th>99997</th>\n      <td>0</td>\n      <td>0</td>\n      <td>0</td>\n      <td>1</td>\n    </tr>\n    <tr>\n      <th>99998</th>\n      <td>0</td>\n      <td>0</td>\n      <td>0</td>\n      <td>1</td>\n    </tr>\n    <tr>\n      <th>99999</th>\n      <td>0</td>\n      <td>0</td>\n      <td>1</td>\n      <td>0</td>\n    </tr>\n  </tbody>\n</table>\n<p>100000 rows × 4 columns</p>\n</div>"
     },
     "execution_count": 31,
     "metadata": {},
     "output_type": "execute_result"
    }
   ],
   "source": [
    "pd.get_dummies(data_scoring['Home Ownership'], prefix=\"Home Ownership\")"
   ],
   "metadata": {
    "collapsed": false,
    "pycharm": {
     "name": "#%%\n"
    }
   }
  },
  {
   "cell_type": "code",
   "execution_count": 32,
   "outputs": [
    {
     "data": {
      "text/plain": "  Loan Status  Current Loan Amount  Credit Score  Annual Income  Monthly Debt  \\\n0  Fully Paid               445412         709.0      1167493.0       5214.74   \n1  Fully Paid               262328         724.0      1174162.0      33295.98   \n2  Fully Paid             99999999         741.0      2231892.0      29200.53   \n3  Fully Paid               347666         721.0       806949.0       8741.90   \n4  Fully Paid               176220         724.0      1174162.0      20639.70   \n\n   Years of Credit History  Months since last delinquent  \\\n0                     17.2                          32.0   \n1                     21.1                           8.0   \n2                     14.9                          29.0   \n3                     12.0                          32.0   \n4                      6.1                          32.0   \n\n   Number of Open Accounts  Number of Credit Problems  Current Credit Balance  \\\n0                        6                          1                  228190   \n1                       35                          0                  229976   \n2                       18                          1                  297996   \n3                        9                          0                  256329   \n4                       15                          0                  253460   \n\n   ...  Purpose_Medical Bills  Purpose_Other  Purpose_Take a Trip  \\\n0  ...                      0              0                    0   \n1  ...                      0              0                    0   \n2  ...                      0              0                    0   \n3  ...                      0              0                    0   \n4  ...                      0              0                    0   \n\n   Purpose_major_purchase  Purpose_moving  Purpose_other  \\\n0                       0               0              0   \n1                       0               0              0   \n2                       0               0              0   \n3                       0               0              0   \n4                       0               0              0   \n\n   Purpose_renewable_energy  Purpose_small_business  Purpose_vacation  \\\n0                         0                       0                 0   \n1                         0                       0                 0   \n2                         0                       0                 0   \n3                         0                       0                 0   \n4                         0                       0                 0   \n\n   Purpose_wedding  \n0                0  \n1                0  \n2                0  \n3                0  \n4                0  \n\n[5 rows x 46 columns]",
      "text/html": "<div>\n<style scoped>\n    .dataframe tbody tr th:only-of-type {\n        vertical-align: middle;\n    }\n\n    .dataframe tbody tr th {\n        vertical-align: top;\n    }\n\n    .dataframe thead th {\n        text-align: right;\n    }\n</style>\n<table border=\"1\" class=\"dataframe\">\n  <thead>\n    <tr style=\"text-align: right;\">\n      <th></th>\n      <th>Loan Status</th>\n      <th>Current Loan Amount</th>\n      <th>Credit Score</th>\n      <th>Annual Income</th>\n      <th>Monthly Debt</th>\n      <th>Years of Credit History</th>\n      <th>Months since last delinquent</th>\n      <th>Number of Open Accounts</th>\n      <th>Number of Credit Problems</th>\n      <th>Current Credit Balance</th>\n      <th>...</th>\n      <th>Purpose_Medical Bills</th>\n      <th>Purpose_Other</th>\n      <th>Purpose_Take a Trip</th>\n      <th>Purpose_major_purchase</th>\n      <th>Purpose_moving</th>\n      <th>Purpose_other</th>\n      <th>Purpose_renewable_energy</th>\n      <th>Purpose_small_business</th>\n      <th>Purpose_vacation</th>\n      <th>Purpose_wedding</th>\n    </tr>\n  </thead>\n  <tbody>\n    <tr>\n      <th>0</th>\n      <td>Fully Paid</td>\n      <td>445412</td>\n      <td>709.0</td>\n      <td>1167493.0</td>\n      <td>5214.74</td>\n      <td>17.2</td>\n      <td>32.0</td>\n      <td>6</td>\n      <td>1</td>\n      <td>228190</td>\n      <td>...</td>\n      <td>0</td>\n      <td>0</td>\n      <td>0</td>\n      <td>0</td>\n      <td>0</td>\n      <td>0</td>\n      <td>0</td>\n      <td>0</td>\n      <td>0</td>\n      <td>0</td>\n    </tr>\n    <tr>\n      <th>1</th>\n      <td>Fully Paid</td>\n      <td>262328</td>\n      <td>724.0</td>\n      <td>1174162.0</td>\n      <td>33295.98</td>\n      <td>21.1</td>\n      <td>8.0</td>\n      <td>35</td>\n      <td>0</td>\n      <td>229976</td>\n      <td>...</td>\n      <td>0</td>\n      <td>0</td>\n      <td>0</td>\n      <td>0</td>\n      <td>0</td>\n      <td>0</td>\n      <td>0</td>\n      <td>0</td>\n      <td>0</td>\n      <td>0</td>\n    </tr>\n    <tr>\n      <th>2</th>\n      <td>Fully Paid</td>\n      <td>99999999</td>\n      <td>741.0</td>\n      <td>2231892.0</td>\n      <td>29200.53</td>\n      <td>14.9</td>\n      <td>29.0</td>\n      <td>18</td>\n      <td>1</td>\n      <td>297996</td>\n      <td>...</td>\n      <td>0</td>\n      <td>0</td>\n      <td>0</td>\n      <td>0</td>\n      <td>0</td>\n      <td>0</td>\n      <td>0</td>\n      <td>0</td>\n      <td>0</td>\n      <td>0</td>\n    </tr>\n    <tr>\n      <th>3</th>\n      <td>Fully Paid</td>\n      <td>347666</td>\n      <td>721.0</td>\n      <td>806949.0</td>\n      <td>8741.90</td>\n      <td>12.0</td>\n      <td>32.0</td>\n      <td>9</td>\n      <td>0</td>\n      <td>256329</td>\n      <td>...</td>\n      <td>0</td>\n      <td>0</td>\n      <td>0</td>\n      <td>0</td>\n      <td>0</td>\n      <td>0</td>\n      <td>0</td>\n      <td>0</td>\n      <td>0</td>\n      <td>0</td>\n    </tr>\n    <tr>\n      <th>4</th>\n      <td>Fully Paid</td>\n      <td>176220</td>\n      <td>724.0</td>\n      <td>1174162.0</td>\n      <td>20639.70</td>\n      <td>6.1</td>\n      <td>32.0</td>\n      <td>15</td>\n      <td>0</td>\n      <td>253460</td>\n      <td>...</td>\n      <td>0</td>\n      <td>0</td>\n      <td>0</td>\n      <td>0</td>\n      <td>0</td>\n      <td>0</td>\n      <td>0</td>\n      <td>0</td>\n      <td>0</td>\n      <td>0</td>\n    </tr>\n  </tbody>\n</table>\n<p>5 rows × 46 columns</p>\n</div>"
     },
     "execution_count": 32,
     "metadata": {},
     "output_type": "execute_result"
    }
   ],
   "source": [
    "data_scoring = pd.concat([data_scoring,\n",
    "                          pd.get_dummies(data_scoring['Years in current job'], prefix=\"Years in current job\"),\n",
    "                          pd.get_dummies(data_scoring['Term'], prefix=\"Term\"),\n",
    "                          pd.get_dummies(data_scoring['Home Ownership'], prefix=\"Home Ownership\"),\n",
    "                          pd.get_dummies(data_scoring['Purpose'], prefix=\"Purpose\")], axis=1)\n",
    "data_scoring.drop(columns=['Years in current job', 'Term', 'Home Ownership', 'Purpose'], inplace=True)\n",
    "data_scoring.head()"
   ],
   "metadata": {
    "collapsed": false,
    "pycharm": {
     "name": "#%%\n"
    }
   }
  },
  {
   "cell_type": "code",
   "execution_count": 33,
   "outputs": [
    {
     "data": {
      "text/plain": "(100000, 46)"
     },
     "execution_count": 33,
     "metadata": {},
     "output_type": "execute_result"
    }
   ],
   "source": [
    "data_scoring.shape"
   ],
   "metadata": {
    "collapsed": false,
    "pycharm": {
     "name": "#%%\n"
    }
   }
  },
  {
   "cell_type": "code",
   "execution_count": 41,
   "outputs": [
    {
     "data": {
      "text/plain": "   Loan Status  Current Loan Amount  Credit Score  Annual Income  \\\n0            0               445412         709.0      1167493.0   \n1            0               262328         724.0      1174162.0   \n2            0             99999999         741.0      2231892.0   \n3            0               347666         721.0       806949.0   \n4            0               176220         724.0      1174162.0   \n\n   Monthly Debt  Years of Credit History  Months since last delinquent  \\\n0       5214.74                     17.2                          32.0   \n1      33295.98                     21.1                           8.0   \n2      29200.53                     14.9                          29.0   \n3       8741.90                     12.0                          32.0   \n4      20639.70                      6.1                          32.0   \n\n   Number of Open Accounts  Number of Credit Problems  Current Credit Balance  \\\n0                        6                          1                  228190   \n1                       35                          0                  229976   \n2                       18                          1                  297996   \n3                        9                          0                  256329   \n4                       15                          0                  253460   \n\n   ...  Purpose_Medical Bills  Purpose_Other  Purpose_Take a Trip  \\\n0  ...                      0              0                    0   \n1  ...                      0              0                    0   \n2  ...                      0              0                    0   \n3  ...                      0              0                    0   \n4  ...                      0              0                    0   \n\n   Purpose_major_purchase  Purpose_moving  Purpose_other  \\\n0                       0               0              0   \n1                       0               0              0   \n2                       0               0              0   \n3                       0               0              0   \n4                       0               0              0   \n\n   Purpose_renewable_energy  Purpose_small_business  Purpose_vacation  \\\n0                         0                       0                 0   \n1                         0                       0                 0   \n2                         0                       0                 0   \n3                         0                       0                 0   \n4                         0                       0                 0   \n\n   Purpose_wedding  \n0                0  \n1                0  \n2                0  \n3                0  \n4                0  \n\n[5 rows x 46 columns]",
      "text/html": "<div>\n<style scoped>\n    .dataframe tbody tr th:only-of-type {\n        vertical-align: middle;\n    }\n\n    .dataframe tbody tr th {\n        vertical-align: top;\n    }\n\n    .dataframe thead th {\n        text-align: right;\n    }\n</style>\n<table border=\"1\" class=\"dataframe\">\n  <thead>\n    <tr style=\"text-align: right;\">\n      <th></th>\n      <th>Loan Status</th>\n      <th>Current Loan Amount</th>\n      <th>Credit Score</th>\n      <th>Annual Income</th>\n      <th>Monthly Debt</th>\n      <th>Years of Credit History</th>\n      <th>Months since last delinquent</th>\n      <th>Number of Open Accounts</th>\n      <th>Number of Credit Problems</th>\n      <th>Current Credit Balance</th>\n      <th>...</th>\n      <th>Purpose_Medical Bills</th>\n      <th>Purpose_Other</th>\n      <th>Purpose_Take a Trip</th>\n      <th>Purpose_major_purchase</th>\n      <th>Purpose_moving</th>\n      <th>Purpose_other</th>\n      <th>Purpose_renewable_energy</th>\n      <th>Purpose_small_business</th>\n      <th>Purpose_vacation</th>\n      <th>Purpose_wedding</th>\n    </tr>\n  </thead>\n  <tbody>\n    <tr>\n      <th>0</th>\n      <td>0</td>\n      <td>445412</td>\n      <td>709.0</td>\n      <td>1167493.0</td>\n      <td>5214.74</td>\n      <td>17.2</td>\n      <td>32.0</td>\n      <td>6</td>\n      <td>1</td>\n      <td>228190</td>\n      <td>...</td>\n      <td>0</td>\n      <td>0</td>\n      <td>0</td>\n      <td>0</td>\n      <td>0</td>\n      <td>0</td>\n      <td>0</td>\n      <td>0</td>\n      <td>0</td>\n      <td>0</td>\n    </tr>\n    <tr>\n      <th>1</th>\n      <td>0</td>\n      <td>262328</td>\n      <td>724.0</td>\n      <td>1174162.0</td>\n      <td>33295.98</td>\n      <td>21.1</td>\n      <td>8.0</td>\n      <td>35</td>\n      <td>0</td>\n      <td>229976</td>\n      <td>...</td>\n      <td>0</td>\n      <td>0</td>\n      <td>0</td>\n      <td>0</td>\n      <td>0</td>\n      <td>0</td>\n      <td>0</td>\n      <td>0</td>\n      <td>0</td>\n      <td>0</td>\n    </tr>\n    <tr>\n      <th>2</th>\n      <td>0</td>\n      <td>99999999</td>\n      <td>741.0</td>\n      <td>2231892.0</td>\n      <td>29200.53</td>\n      <td>14.9</td>\n      <td>29.0</td>\n      <td>18</td>\n      <td>1</td>\n      <td>297996</td>\n      <td>...</td>\n      <td>0</td>\n      <td>0</td>\n      <td>0</td>\n      <td>0</td>\n      <td>0</td>\n      <td>0</td>\n      <td>0</td>\n      <td>0</td>\n      <td>0</td>\n      <td>0</td>\n    </tr>\n    <tr>\n      <th>3</th>\n      <td>0</td>\n      <td>347666</td>\n      <td>721.0</td>\n      <td>806949.0</td>\n      <td>8741.90</td>\n      <td>12.0</td>\n      <td>32.0</td>\n      <td>9</td>\n      <td>0</td>\n      <td>256329</td>\n      <td>...</td>\n      <td>0</td>\n      <td>0</td>\n      <td>0</td>\n      <td>0</td>\n      <td>0</td>\n      <td>0</td>\n      <td>0</td>\n      <td>0</td>\n      <td>0</td>\n      <td>0</td>\n    </tr>\n    <tr>\n      <th>4</th>\n      <td>0</td>\n      <td>176220</td>\n      <td>724.0</td>\n      <td>1174162.0</td>\n      <td>20639.70</td>\n      <td>6.1</td>\n      <td>32.0</td>\n      <td>15</td>\n      <td>0</td>\n      <td>253460</td>\n      <td>...</td>\n      <td>0</td>\n      <td>0</td>\n      <td>0</td>\n      <td>0</td>\n      <td>0</td>\n      <td>0</td>\n      <td>0</td>\n      <td>0</td>\n      <td>0</td>\n      <td>0</td>\n    </tr>\n  </tbody>\n</table>\n<p>5 rows × 46 columns</p>\n</div>"
     },
     "execution_count": 41,
     "metadata": {},
     "output_type": "execute_result"
    }
   ],
   "source": [
    "data_scoring['Loan Status'] = data_scoring['Loan Status'].factorize()[0]\n",
    "data_scoring.head()"
   ],
   "metadata": {
    "collapsed": false,
    "pycharm": {
     "name": "#%%\n"
    }
   }
  },
  {
   "cell_type": "code",
   "execution_count": 42,
   "outputs": [],
   "source": [
    "X = data_scoring.drop(['Loan Status'], axis=1)\n",
    "y = data_scoring['Loan Status']"
   ],
   "metadata": {
    "collapsed": false,
    "pycharm": {
     "name": "#%%\n"
    }
   }
  },
  {
   "cell_type": "code",
   "execution_count": 43,
   "outputs": [
    {
     "data": {
      "text/plain": "   Current Loan Amount  Credit Score  Annual Income  Monthly Debt  \\\n0               445412         709.0      1167493.0       5214.74   \n1               262328         724.0      1174162.0      33295.98   \n2             99999999         741.0      2231892.0      29200.53   \n3               347666         721.0       806949.0       8741.90   \n4               176220         724.0      1174162.0      20639.70   \n\n   Years of Credit History  Months since last delinquent  \\\n0                     17.2                          32.0   \n1                     21.1                           8.0   \n2                     14.9                          29.0   \n3                     12.0                          32.0   \n4                      6.1                          32.0   \n\n   Number of Open Accounts  Number of Credit Problems  Current Credit Balance  \\\n0                        6                          1                  228190   \n1                       35                          0                  229976   \n2                       18                          1                  297996   \n3                        9                          0                  256329   \n4                       15                          0                  253460   \n\n   Maximum Open Credit  ...  Purpose_Medical Bills  Purpose_Other  \\\n0             416746.0  ...                      0              0   \n1             850784.0  ...                      0              0   \n2             750090.0  ...                      0              0   \n3             386958.0  ...                      0              0   \n4             427174.0  ...                      0              0   \n\n   Purpose_Take a Trip  Purpose_major_purchase  Purpose_moving  Purpose_other  \\\n0                    0                       0               0              0   \n1                    0                       0               0              0   \n2                    0                       0               0              0   \n3                    0                       0               0              0   \n4                    0                       0               0              0   \n\n   Purpose_renewable_energy  Purpose_small_business  Purpose_vacation  \\\n0                         0                       0                 0   \n1                         0                       0                 0   \n2                         0                       0                 0   \n3                         0                       0                 0   \n4                         0                       0                 0   \n\n   Purpose_wedding  \n0                0  \n1                0  \n2                0  \n3                0  \n4                0  \n\n[5 rows x 45 columns]",
      "text/html": "<div>\n<style scoped>\n    .dataframe tbody tr th:only-of-type {\n        vertical-align: middle;\n    }\n\n    .dataframe tbody tr th {\n        vertical-align: top;\n    }\n\n    .dataframe thead th {\n        text-align: right;\n    }\n</style>\n<table border=\"1\" class=\"dataframe\">\n  <thead>\n    <tr style=\"text-align: right;\">\n      <th></th>\n      <th>Current Loan Amount</th>\n      <th>Credit Score</th>\n      <th>Annual Income</th>\n      <th>Monthly Debt</th>\n      <th>Years of Credit History</th>\n      <th>Months since last delinquent</th>\n      <th>Number of Open Accounts</th>\n      <th>Number of Credit Problems</th>\n      <th>Current Credit Balance</th>\n      <th>Maximum Open Credit</th>\n      <th>...</th>\n      <th>Purpose_Medical Bills</th>\n      <th>Purpose_Other</th>\n      <th>Purpose_Take a Trip</th>\n      <th>Purpose_major_purchase</th>\n      <th>Purpose_moving</th>\n      <th>Purpose_other</th>\n      <th>Purpose_renewable_energy</th>\n      <th>Purpose_small_business</th>\n      <th>Purpose_vacation</th>\n      <th>Purpose_wedding</th>\n    </tr>\n  </thead>\n  <tbody>\n    <tr>\n      <th>0</th>\n      <td>445412</td>\n      <td>709.0</td>\n      <td>1167493.0</td>\n      <td>5214.74</td>\n      <td>17.2</td>\n      <td>32.0</td>\n      <td>6</td>\n      <td>1</td>\n      <td>228190</td>\n      <td>416746.0</td>\n      <td>...</td>\n      <td>0</td>\n      <td>0</td>\n      <td>0</td>\n      <td>0</td>\n      <td>0</td>\n      <td>0</td>\n      <td>0</td>\n      <td>0</td>\n      <td>0</td>\n      <td>0</td>\n    </tr>\n    <tr>\n      <th>1</th>\n      <td>262328</td>\n      <td>724.0</td>\n      <td>1174162.0</td>\n      <td>33295.98</td>\n      <td>21.1</td>\n      <td>8.0</td>\n      <td>35</td>\n      <td>0</td>\n      <td>229976</td>\n      <td>850784.0</td>\n      <td>...</td>\n      <td>0</td>\n      <td>0</td>\n      <td>0</td>\n      <td>0</td>\n      <td>0</td>\n      <td>0</td>\n      <td>0</td>\n      <td>0</td>\n      <td>0</td>\n      <td>0</td>\n    </tr>\n    <tr>\n      <th>2</th>\n      <td>99999999</td>\n      <td>741.0</td>\n      <td>2231892.0</td>\n      <td>29200.53</td>\n      <td>14.9</td>\n      <td>29.0</td>\n      <td>18</td>\n      <td>1</td>\n      <td>297996</td>\n      <td>750090.0</td>\n      <td>...</td>\n      <td>0</td>\n      <td>0</td>\n      <td>0</td>\n      <td>0</td>\n      <td>0</td>\n      <td>0</td>\n      <td>0</td>\n      <td>0</td>\n      <td>0</td>\n      <td>0</td>\n    </tr>\n    <tr>\n      <th>3</th>\n      <td>347666</td>\n      <td>721.0</td>\n      <td>806949.0</td>\n      <td>8741.90</td>\n      <td>12.0</td>\n      <td>32.0</td>\n      <td>9</td>\n      <td>0</td>\n      <td>256329</td>\n      <td>386958.0</td>\n      <td>...</td>\n      <td>0</td>\n      <td>0</td>\n      <td>0</td>\n      <td>0</td>\n      <td>0</td>\n      <td>0</td>\n      <td>0</td>\n      <td>0</td>\n      <td>0</td>\n      <td>0</td>\n    </tr>\n    <tr>\n      <th>4</th>\n      <td>176220</td>\n      <td>724.0</td>\n      <td>1174162.0</td>\n      <td>20639.70</td>\n      <td>6.1</td>\n      <td>32.0</td>\n      <td>15</td>\n      <td>0</td>\n      <td>253460</td>\n      <td>427174.0</td>\n      <td>...</td>\n      <td>0</td>\n      <td>0</td>\n      <td>0</td>\n      <td>0</td>\n      <td>0</td>\n      <td>0</td>\n      <td>0</td>\n      <td>0</td>\n      <td>0</td>\n      <td>0</td>\n    </tr>\n  </tbody>\n</table>\n<p>5 rows × 45 columns</p>\n</div>"
     },
     "execution_count": 43,
     "metadata": {},
     "output_type": "execute_result"
    }
   ],
   "source": [
    "X.head()"
   ],
   "metadata": {
    "collapsed": false,
    "pycharm": {
     "name": "#%%\n"
    }
   }
  },
  {
   "cell_type": "code",
   "execution_count": 44,
   "outputs": [
    {
     "data": {
      "text/plain": "0    0\n1    0\n2    0\n3    0\n4    0\nName: Loan Status, dtype: int64"
     },
     "execution_count": 44,
     "metadata": {},
     "output_type": "execute_result"
    }
   ],
   "source": [
    "y.head()"
   ],
   "metadata": {
    "collapsed": false,
    "pycharm": {
     "name": "#%%\n"
    }
   }
  },
  {
   "cell_type": "code",
   "execution_count": 46,
   "outputs": [
    {
     "data": {
      "text/plain": "                      model  train_score  test_score\n0             MLPClassifier            0           0\n1         Linear Regression            0           0\n2  Random Forest Classifier            0           0",
      "text/html": "<div>\n<style scoped>\n    .dataframe tbody tr th:only-of-type {\n        vertical-align: middle;\n    }\n\n    .dataframe tbody tr th {\n        vertical-align: top;\n    }\n\n    .dataframe thead th {\n        text-align: right;\n    }\n</style>\n<table border=\"1\" class=\"dataframe\">\n  <thead>\n    <tr style=\"text-align: right;\">\n      <th></th>\n      <th>model</th>\n      <th>train_score</th>\n      <th>test_score</th>\n    </tr>\n  </thead>\n  <tbody>\n    <tr>\n      <th>0</th>\n      <td>MLPClassifier</td>\n      <td>0</td>\n      <td>0</td>\n    </tr>\n    <tr>\n      <th>1</th>\n      <td>Linear Regression</td>\n      <td>0</td>\n      <td>0</td>\n    </tr>\n    <tr>\n      <th>2</th>\n      <td>Random Forest Classifier</td>\n      <td>0</td>\n      <td>0</td>\n    </tr>\n  </tbody>\n</table>\n</div>"
     },
     "execution_count": 46,
     "metadata": {},
     "output_type": "execute_result"
    }
   ],
   "source": [
    "result = pd.DataFrame({'model' : ['MLPClassifier', 'Linear Regression', 'Random Forest Classifier', ],\n",
    "                       'train_score': 0, 'test_score': 0})\n",
    "result"
   ],
   "metadata": {
    "collapsed": false,
    "pycharm": {
     "name": "#%%\n"
    }
   }
  },
  {
   "cell_type": "code",
   "execution_count": 47,
   "outputs": [],
   "source": [
    "X_train, X_test, y_train, y_test = train_test_split(X, y, train_size=0.80, random_state=43)"
   ],
   "metadata": {
    "collapsed": false,
    "pycharm": {
     "name": "#%%\n"
    }
   }
  },
  {
   "cell_type": "code",
   "execution_count": 49,
   "outputs": [
    {
     "data": {
      "text/plain": "(array([[ 0.6065484 ,  0.81695766,  1.05132077, ..., -0.36453805,\n          0.16466507, -0.76780375],\n        [-3.05376438,  0.92116205, -1.45832446, ...,  0.20437739,\n         -1.55269878, -0.4466992 ],\n        [ 0.60640394,  0.68064537,  1.02124813, ...,  1.03703898,\n         -0.83001099, -0.03599018],\n        ...,\n        [-2.30803851, -1.42368943,  1.14256392, ..., -0.24701649,\n         -0.37911961,  0.27610275],\n        [-1.53702887,  2.14957042,  0.32455352, ...,  2.15323347,\n          1.31972591, -0.8797298 ],\n        [ 0.37167029, -0.95543218, -0.1484898 , ..., -0.6294416 ,\n          0.14225137,  0.78002714]]),\n array([1, 1, 1, 0, 0, 0, 0, 1, 0, 1, 0, 0, 0, 1, 0, 1, 1, 0, 1, 0, 1, 1,\n        0, 1, 0, 0, 0, 1, 0, 1, 0, 1, 1, 0, 0, 1, 1, 1, 1, 1, 1, 1, 0, 1,\n        0, 0, 0, 1, 1, 1, 1, 0, 0, 1, 0, 1, 1, 1, 0, 0, 1, 0, 1, 1, 1, 0,\n        0, 0, 0, 1, 0, 0, 1, 1, 0, 1, 0, 1, 0, 0, 0, 0, 1, 0, 1, 0, 0, 0,\n        1, 0, 0, 1, 0, 0, 1, 1, 1, 0, 1, 0]))"
     },
     "execution_count": 49,
     "metadata": {},
     "output_type": "execute_result"
    }
   ],
   "source": [
    "from sklearn.datasets import make_classification\n",
    "\n",
    "make_classification(n_samples=100, random_state=1)"
   ],
   "metadata": {
    "collapsed": false,
    "pycharm": {
     "name": "#%%\n"
    }
   }
  },
  {
   "cell_type": "code",
   "execution_count": null,
   "outputs": [],
   "source": [],
   "metadata": {
    "collapsed": false,
    "pycharm": {
     "name": "#%%\n"
    }
   }
  }
 ],
 "metadata": {
  "kernelspec": {
   "display_name": "Python 3",
   "language": "python",
   "name": "python3"
  },
  "language_info": {
   "codemirror_mode": {
    "name": "ipython",
    "version": 2
   },
   "file_extension": ".py",
   "mimetype": "text/x-python",
   "name": "python",
   "nbconvert_exporter": "python",
   "pygments_lexer": "ipython2",
   "version": "2.7.6"
  }
 },
 "nbformat": 4,
 "nbformat_minor": 0
}