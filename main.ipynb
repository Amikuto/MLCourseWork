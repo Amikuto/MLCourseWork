{
 "cells": [
  {
   "cell_type": "code",
   "execution_count": 1,
   "metadata": {
    "collapsed": true
   },
   "outputs": [
    {
     "name": "stdout",
     "output_type": "stream",
     "text": [
      "Python 3.10.4\n"
     ]
    }
   ],
   "source": [
    "!python -V"
   ]
  },
  {
   "cell_type": "markdown",
   "source": [
    "## Импортируем нужные библиотеки и считываем данные"
   ],
   "metadata": {
    "collapsed": false,
    "pycharm": {
     "name": "#%% md\n"
    }
   }
  },
  {
   "cell_type": "code",
   "execution_count": 2,
   "outputs": [],
   "source": [
    "import pandas as pd\n",
    "import numpy as np\n",
    "import matplotlib.pyplot as plt\n",
    "import seaborn as sns\n",
    "\n",
    "from sklearn.linear_model import LinearRegression\n",
    "from sklearn.model_selection import train_test_split, GridSearchCV\n",
    "from sklearn.metrics import r2_score\n",
    "# % matplotlib inline"
   ],
   "metadata": {
    "collapsed": false,
    "pycharm": {
     "name": "#%%\n"
    }
   }
  },
  {
   "cell_type": "code",
   "execution_count": 35,
   "outputs": [
    {
     "data": {
      "text/plain": "                                Loan ID                           Customer ID  \\\n0  14dd8831-6af5-400b-83ec-68e61888a048  981165ec-3274-42f5-a3b4-d104041a9ca9   \n1  4771cc26-131a-45db-b5aa-537ea4ba5342  2de017a3-2e01-49cb-a581-08169e83be29   \n2  4eed4e6a-aa2f-4c91-8651-ce984ee8fb26  5efb2b2b-bf11-4dfd-a572-3761a2694725   \n3  77598f7b-32e7-4e3b-a6e5-06ba0d98fe8a  e777faab-98ae-45af-9a86-7ce5b33b1011   \n4  d4062e70-befa-4995-8643-a0de73938182  81536ad9-5ccf-4eb8-befb-47a4d608658e   \n\n  Loan Status  Current Loan Amount        Term  Credit Score  Annual Income  \\\n0  Fully Paid               445412  Short Term         709.0      1167493.0   \n1  Fully Paid               262328  Short Term           NaN            NaN   \n2  Fully Paid             99999999  Short Term         741.0      2231892.0   \n3  Fully Paid               347666   Long Term         721.0       806949.0   \n4  Fully Paid               176220  Short Term           NaN            NaN   \n\n  Years in current job Home Ownership             Purpose  Monthly Debt  \\\n0              8 years  Home Mortgage   Home Improvements       5214.74   \n1            10+ years  Home Mortgage  Debt Consolidation      33295.98   \n2              8 years       Own Home  Debt Consolidation      29200.53   \n3              3 years       Own Home  Debt Consolidation       8741.90   \n4              5 years           Rent  Debt Consolidation      20639.70   \n\n   Years of Credit History  Months since last delinquent  \\\n0                     17.2                           NaN   \n1                     21.1                           8.0   \n2                     14.9                          29.0   \n3                     12.0                           NaN   \n4                      6.1                           NaN   \n\n   Number of Open Accounts  Number of Credit Problems  Current Credit Balance  \\\n0                        6                          1                  228190   \n1                       35                          0                  229976   \n2                       18                          1                  297996   \n3                        9                          0                  256329   \n4                       15                          0                  253460   \n\n   Maximum Open Credit  Bankruptcies  Tax Liens  \n0             416746.0           1.0        0.0  \n1             850784.0           0.0        0.0  \n2             750090.0           0.0        0.0  \n3             386958.0           0.0        0.0  \n4             427174.0           0.0        0.0  ",
      "text/html": "<div>\n<style scoped>\n    .dataframe tbody tr th:only-of-type {\n        vertical-align: middle;\n    }\n\n    .dataframe tbody tr th {\n        vertical-align: top;\n    }\n\n    .dataframe thead th {\n        text-align: right;\n    }\n</style>\n<table border=\"1\" class=\"dataframe\">\n  <thead>\n    <tr style=\"text-align: right;\">\n      <th></th>\n      <th>Loan ID</th>\n      <th>Customer ID</th>\n      <th>Loan Status</th>\n      <th>Current Loan Amount</th>\n      <th>Term</th>\n      <th>Credit Score</th>\n      <th>Annual Income</th>\n      <th>Years in current job</th>\n      <th>Home Ownership</th>\n      <th>Purpose</th>\n      <th>Monthly Debt</th>\n      <th>Years of Credit History</th>\n      <th>Months since last delinquent</th>\n      <th>Number of Open Accounts</th>\n      <th>Number of Credit Problems</th>\n      <th>Current Credit Balance</th>\n      <th>Maximum Open Credit</th>\n      <th>Bankruptcies</th>\n      <th>Tax Liens</th>\n    </tr>\n  </thead>\n  <tbody>\n    <tr>\n      <th>0</th>\n      <td>14dd8831-6af5-400b-83ec-68e61888a048</td>\n      <td>981165ec-3274-42f5-a3b4-d104041a9ca9</td>\n      <td>Fully Paid</td>\n      <td>445412</td>\n      <td>Short Term</td>\n      <td>709.0</td>\n      <td>1167493.0</td>\n      <td>8 years</td>\n      <td>Home Mortgage</td>\n      <td>Home Improvements</td>\n      <td>5214.74</td>\n      <td>17.2</td>\n      <td>NaN</td>\n      <td>6</td>\n      <td>1</td>\n      <td>228190</td>\n      <td>416746.0</td>\n      <td>1.0</td>\n      <td>0.0</td>\n    </tr>\n    <tr>\n      <th>1</th>\n      <td>4771cc26-131a-45db-b5aa-537ea4ba5342</td>\n      <td>2de017a3-2e01-49cb-a581-08169e83be29</td>\n      <td>Fully Paid</td>\n      <td>262328</td>\n      <td>Short Term</td>\n      <td>NaN</td>\n      <td>NaN</td>\n      <td>10+ years</td>\n      <td>Home Mortgage</td>\n      <td>Debt Consolidation</td>\n      <td>33295.98</td>\n      <td>21.1</td>\n      <td>8.0</td>\n      <td>35</td>\n      <td>0</td>\n      <td>229976</td>\n      <td>850784.0</td>\n      <td>0.0</td>\n      <td>0.0</td>\n    </tr>\n    <tr>\n      <th>2</th>\n      <td>4eed4e6a-aa2f-4c91-8651-ce984ee8fb26</td>\n      <td>5efb2b2b-bf11-4dfd-a572-3761a2694725</td>\n      <td>Fully Paid</td>\n      <td>99999999</td>\n      <td>Short Term</td>\n      <td>741.0</td>\n      <td>2231892.0</td>\n      <td>8 years</td>\n      <td>Own Home</td>\n      <td>Debt Consolidation</td>\n      <td>29200.53</td>\n      <td>14.9</td>\n      <td>29.0</td>\n      <td>18</td>\n      <td>1</td>\n      <td>297996</td>\n      <td>750090.0</td>\n      <td>0.0</td>\n      <td>0.0</td>\n    </tr>\n    <tr>\n      <th>3</th>\n      <td>77598f7b-32e7-4e3b-a6e5-06ba0d98fe8a</td>\n      <td>e777faab-98ae-45af-9a86-7ce5b33b1011</td>\n      <td>Fully Paid</td>\n      <td>347666</td>\n      <td>Long Term</td>\n      <td>721.0</td>\n      <td>806949.0</td>\n      <td>3 years</td>\n      <td>Own Home</td>\n      <td>Debt Consolidation</td>\n      <td>8741.90</td>\n      <td>12.0</td>\n      <td>NaN</td>\n      <td>9</td>\n      <td>0</td>\n      <td>256329</td>\n      <td>386958.0</td>\n      <td>0.0</td>\n      <td>0.0</td>\n    </tr>\n    <tr>\n      <th>4</th>\n      <td>d4062e70-befa-4995-8643-a0de73938182</td>\n      <td>81536ad9-5ccf-4eb8-befb-47a4d608658e</td>\n      <td>Fully Paid</td>\n      <td>176220</td>\n      <td>Short Term</td>\n      <td>NaN</td>\n      <td>NaN</td>\n      <td>5 years</td>\n      <td>Rent</td>\n      <td>Debt Consolidation</td>\n      <td>20639.70</td>\n      <td>6.1</td>\n      <td>NaN</td>\n      <td>15</td>\n      <td>0</td>\n      <td>253460</td>\n      <td>427174.0</td>\n      <td>0.0</td>\n      <td>0.0</td>\n    </tr>\n  </tbody>\n</table>\n</div>"
     },
     "execution_count": 35,
     "metadata": {},
     "output_type": "execute_result"
    }
   ],
   "source": [
    "data_scoring = pd.read_csv(\"data/credit.csv\")\n",
    "data_scoring.head()"
   ],
   "metadata": {
    "collapsed": false,
    "pycharm": {
     "name": "#%%\n"
    }
   }
  },
  {
   "cell_type": "markdown",
   "source": [
    "### Описание полей\n",
    "* Loan ID: уникальный идентификатор кредита;\n",
    "* Customer ID: уникальный идентификатор клиента;\n",
    "* Loan Status: категориальный признак - кредит погашен (\"Fully Paid\") или не погашен (\"Charged Off\");\n",
    "* Current Loan Amount: размер кредита;\n",
    "* Term: срок кредита;\n",
    "* Credit Score: кредитный рейтинг - число от 0 до 800;\n",
    "* Years in current job: стаж на текущем месте работы;\n",
    "* Home Ownership: статус недвижимости - собственность (\"Own\"), ипотека (\"Home Mortgage\") или аренда (\"Rent\");\n",
    "* Annual Income: годовой доход;\n",
    "* Purpose: цель кредита;\n",
    "* Monthly Debt: размер ежемесячного платежа по текущим кредитам;\n",
    "* Years of Credit History: количество лет кредитной истории;\n",
    "* Months since last delinquent: количество месяцев с последнего нарушения условий кредита;\n",
    "* Number of Open Accounts: количество открытых кредитных карт;\n",
    "* Number of Credit Problems: количество кредитных проблем;\n",
    "* Current Credit Balance: суммарный текущий долг;\n",
    "* Maximum Open Credit: максимальный кредитный лимит из всех источников;\n",
    "* Bankruptcies: количество банкротств;\n",
    "* Tax Liens: количество нарушений налогового законодательства."
   ],
   "metadata": {
    "collapsed": false,
    "pycharm": {
     "name": "#%% md\n"
    }
   }
  },
  {
   "cell_type": "markdown",
   "source": [
    "## Смотрим предварительную информацию о данном датасете"
   ],
   "metadata": {
    "collapsed": false,
    "pycharm": {
     "name": "#%% md\n"
    }
   }
  },
  {
   "cell_type": "code",
   "execution_count": 36,
   "outputs": [
    {
     "data": {
      "text/plain": "(100000, 19)"
     },
     "execution_count": 36,
     "metadata": {},
     "output_type": "execute_result"
    }
   ],
   "source": [
    "data_scoring.shape"
   ],
   "metadata": {
    "collapsed": false,
    "pycharm": {
     "name": "#%%\n"
    }
   }
  },
  {
   "cell_type": "code",
   "execution_count": 37,
   "outputs": [
    {
     "name": "stdout",
     "output_type": "stream",
     "text": [
      "<class 'pandas.core.frame.DataFrame'>\n",
      "RangeIndex: 100000 entries, 0 to 99999\n",
      "Data columns (total 19 columns):\n",
      " #   Column                        Non-Null Count   Dtype  \n",
      "---  ------                        --------------   -----  \n",
      " 0   Loan ID                       100000 non-null  object \n",
      " 1   Customer ID                   100000 non-null  object \n",
      " 2   Loan Status                   100000 non-null  object \n",
      " 3   Current Loan Amount           100000 non-null  int64  \n",
      " 4   Term                          100000 non-null  object \n",
      " 5   Credit Score                  80846 non-null   float64\n",
      " 6   Annual Income                 80846 non-null   float64\n",
      " 7   Years in current job          95778 non-null   object \n",
      " 8   Home Ownership                100000 non-null  object \n",
      " 9   Purpose                       100000 non-null  object \n",
      " 10  Monthly Debt                  100000 non-null  float64\n",
      " 11  Years of Credit History       100000 non-null  float64\n",
      " 12  Months since last delinquent  46859 non-null   float64\n",
      " 13  Number of Open Accounts       100000 non-null  int64  \n",
      " 14  Number of Credit Problems     100000 non-null  int64  \n",
      " 15  Current Credit Balance        100000 non-null  int64  \n",
      " 16  Maximum Open Credit           99998 non-null   float64\n",
      " 17  Bankruptcies                  99796 non-null   float64\n",
      " 18  Tax Liens                     99990 non-null   float64\n",
      "dtypes: float64(8), int64(4), object(7)\n",
      "memory usage: 14.5+ MB\n"
     ]
    }
   ],
   "source": [
    "data_scoring.info()"
   ],
   "metadata": {
    "collapsed": false,
    "pycharm": {
     "name": "#%%\n"
    }
   }
  },
  {
   "cell_type": "markdown",
   "source": [
    "## Проверяем идентификаторы заемов"
   ],
   "metadata": {
    "collapsed": false,
    "pycharm": {
     "name": "#%% md\n"
    }
   }
  },
  {
   "cell_type": "code",
   "execution_count": 41,
   "outputs": [
    {
     "data": {
      "text/plain": "count                                   100000\nunique                                   81999\ntop       14dd8831-6af5-400b-83ec-68e61888a048\nfreq                                         2\nName: Loan ID, dtype: object"
     },
     "execution_count": 41,
     "metadata": {},
     "output_type": "execute_result"
    }
   ],
   "source": [
    "data_scoring[\"Loan ID\"].describe()"
   ],
   "metadata": {
    "collapsed": false,
    "pycharm": {
     "name": "#%%\n"
    }
   }
  },
  {
   "cell_type": "code",
   "execution_count": 48,
   "outputs": [
    {
     "data": {
      "text/plain": "0"
     },
     "execution_count": 48,
     "metadata": {},
     "output_type": "execute_result"
    }
   ],
   "source": [
    "data_scoring[\"Loan ID\"].isna().sum()"
   ],
   "metadata": {
    "collapsed": false,
    "pycharm": {
     "name": "#%%\n"
    }
   }
  },
  {
   "cell_type": "code",
   "execution_count": 55,
   "outputs": [
    {
     "data": {
      "text/plain": "81999"
     },
     "execution_count": 55,
     "metadata": {},
     "output_type": "execute_result"
    }
   ],
   "source": [
    "data_scoring[\"Loan ID\"].nunique()"
   ],
   "metadata": {
    "collapsed": false,
    "pycharm": {
     "name": "#%%\n"
    }
   }
  },
  {
   "cell_type": "code",
   "execution_count": 97,
   "outputs": [
    {
     "data": {
      "text/plain": "                                    Loan ID  \\\n59577  00069ff1-a877-4d35-81be-7cd359b99956   \n7415   00069ff1-a877-4d35-81be-7cd359b99956   \n69442  000bc65a-6a7c-4566-86f3-203b4ec35eca   \n10203  000bc65a-6a7c-4566-86f3-203b4ec35eca   \n3978   000c16df-c24f-41cf-a90e-60301d131bb9   \n...                                     ...   \n72469  fffaa912-faa8-4bdf-8ff1-fd5884e51c66   \n13362  fffbc431-6a56-467c-a5f7-772928f96715   \n85520  fffbc431-6a56-467c-a5f7-772928f96715   \n81716  ffffe32e-ed17-459f-9cfd-7b9ee7972933   \n65354  ffffe32e-ed17-459f-9cfd-7b9ee7972933   \n\n                                Customer ID Loan Status  Current Loan Amount  \\\n59577  ee3c27f2-766a-499c-9a96-d17c4d2faa16  Fully Paid                31526   \n7415   ee3c27f2-766a-499c-9a96-d17c4d2faa16  Fully Paid                31526   \n69442  724bddb4-a23c-4759-ba6f-dc79c7dd5334  Fully Paid               642202   \n10203  724bddb4-a23c-4759-ba6f-dc79c7dd5334  Fully Paid               642202   \n3978   b07c4262-70bb-41cc-b28a-d87540577fb1  Fully Paid               155496   \n...                                     ...         ...                  ...   \n72469  d059bcea-3016-48d3-b7e0-c6e618e1f2c3  Fully Paid               146410   \n13362  ae7c08b7-6b2e-4763-b148-035bf01c3072  Fully Paid               667194   \n85520  ae7c08b7-6b2e-4763-b148-035bf01c3072  Fully Paid               667194   \n81716  97281336-1e45-41d2-acb2-263ce56a590e  Fully Paid               613844   \n65354  97281336-1e45-41d2-acb2-263ce56a590e  Fully Paid               613844   \n\n             Term  Credit Score  Annual Income Years in current job  \\\n59577  Short Term         716.0      2065965.0            10+ years   \n7415   Short Term           NaN            NaN            10+ years   \n69442  Short Term         715.0      1759533.0              2 years   \n10203  Short Term         715.0      1759533.0              2 years   \n3978   Short Term         706.0       664753.0                  NaN   \n...           ...           ...            ...                  ...   \n72469  Short Term         724.0      1400566.0            10+ years   \n13362   Long Term         715.0      3104144.0             < 1 year   \n85520   Long Term           NaN            NaN             < 1 year   \n81716   Long Term         678.0      2232120.0            10+ years   \n65354   Long Term         678.0      2232120.0            10+ years   \n\n      Home Ownership             Purpose  Monthly Debt  \\\n59577  Home Mortgage   Home Improvements      49927.44   \n7415   Home Mortgage   Home Improvements      49927.44   \n69442           Rent  Debt Consolidation      23020.59   \n10203           Rent  Debt Consolidation      23020.59   \n3978        Own Home               other       8087.92   \n...              ...                 ...           ...   \n72469           Rent  Debt Consolidation      11787.98   \n13362           Rent  Debt Consolidation      15598.24   \n85520           Rent  Debt Consolidation      15598.24   \n81716  Home Mortgage  Debt Consolidation      47990.58   \n65354  Home Mortgage  Debt Consolidation      47990.58   \n\n       Years of Credit History  Months since last delinquent  \\\n59577                     15.1                           5.0   \n7415                      15.1                           5.0   \n69442                     13.8                           NaN   \n10203                     13.8                           NaN   \n3978                      21.3                           NaN   \n...                        ...                           ...   \n72469                     11.1                          62.0   \n13362                     13.9                           NaN   \n85520                     13.9                           NaN   \n81716                     18.0                          11.0   \n65354                     18.0                          11.0   \n\n       Number of Open Accounts  Number of Credit Problems  \\\n59577                       22                          0   \n7415                        22                          0   \n69442                       11                          0   \n10203                       11                          0   \n3978                         7                          1   \n...                        ...                        ...   \n72469                       15                          0   \n13362                        8                          0   \n85520                        8                          0   \n81716                       10                          0   \n65354                       10                          0   \n\n       Current Credit Balance  Maximum Open Credit  Bankruptcies  Tax Liens  \n59577                  526414            1090386.0           0.0        0.0  \n7415                   526414            1090386.0           0.0        0.0  \n69442                  445987             733546.0           0.0        0.0  \n10203                  445987             733546.0           0.0        0.0  \n3978                    79382             150700.0           1.0        0.0  \n...                       ...                  ...           ...        ...  \n72469                  135166             403392.0           0.0        0.0  \n13362                  176396             322168.0           0.0        0.0  \n85520                  176396             322168.0           0.0        0.0  \n81716                  538023            1372162.0           0.0        0.0  \n65354                  538023            1372162.0           0.0        0.0  \n\n[36002 rows x 19 columns]",
      "text/html": "<div>\n<style scoped>\n    .dataframe tbody tr th:only-of-type {\n        vertical-align: middle;\n    }\n\n    .dataframe tbody tr th {\n        vertical-align: top;\n    }\n\n    .dataframe thead th {\n        text-align: right;\n    }\n</style>\n<table border=\"1\" class=\"dataframe\">\n  <thead>\n    <tr style=\"text-align: right;\">\n      <th></th>\n      <th>Loan ID</th>\n      <th>Customer ID</th>\n      <th>Loan Status</th>\n      <th>Current Loan Amount</th>\n      <th>Term</th>\n      <th>Credit Score</th>\n      <th>Annual Income</th>\n      <th>Years in current job</th>\n      <th>Home Ownership</th>\n      <th>Purpose</th>\n      <th>Monthly Debt</th>\n      <th>Years of Credit History</th>\n      <th>Months since last delinquent</th>\n      <th>Number of Open Accounts</th>\n      <th>Number of Credit Problems</th>\n      <th>Current Credit Balance</th>\n      <th>Maximum Open Credit</th>\n      <th>Bankruptcies</th>\n      <th>Tax Liens</th>\n    </tr>\n  </thead>\n  <tbody>\n    <tr>\n      <th>59577</th>\n      <td>00069ff1-a877-4d35-81be-7cd359b99956</td>\n      <td>ee3c27f2-766a-499c-9a96-d17c4d2faa16</td>\n      <td>Fully Paid</td>\n      <td>31526</td>\n      <td>Short Term</td>\n      <td>716.0</td>\n      <td>2065965.0</td>\n      <td>10+ years</td>\n      <td>Home Mortgage</td>\n      <td>Home Improvements</td>\n      <td>49927.44</td>\n      <td>15.1</td>\n      <td>5.0</td>\n      <td>22</td>\n      <td>0</td>\n      <td>526414</td>\n      <td>1090386.0</td>\n      <td>0.0</td>\n      <td>0.0</td>\n    </tr>\n    <tr>\n      <th>7415</th>\n      <td>00069ff1-a877-4d35-81be-7cd359b99956</td>\n      <td>ee3c27f2-766a-499c-9a96-d17c4d2faa16</td>\n      <td>Fully Paid</td>\n      <td>31526</td>\n      <td>Short Term</td>\n      <td>NaN</td>\n      <td>NaN</td>\n      <td>10+ years</td>\n      <td>Home Mortgage</td>\n      <td>Home Improvements</td>\n      <td>49927.44</td>\n      <td>15.1</td>\n      <td>5.0</td>\n      <td>22</td>\n      <td>0</td>\n      <td>526414</td>\n      <td>1090386.0</td>\n      <td>0.0</td>\n      <td>0.0</td>\n    </tr>\n    <tr>\n      <th>69442</th>\n      <td>000bc65a-6a7c-4566-86f3-203b4ec35eca</td>\n      <td>724bddb4-a23c-4759-ba6f-dc79c7dd5334</td>\n      <td>Fully Paid</td>\n      <td>642202</td>\n      <td>Short Term</td>\n      <td>715.0</td>\n      <td>1759533.0</td>\n      <td>2 years</td>\n      <td>Rent</td>\n      <td>Debt Consolidation</td>\n      <td>23020.59</td>\n      <td>13.8</td>\n      <td>NaN</td>\n      <td>11</td>\n      <td>0</td>\n      <td>445987</td>\n      <td>733546.0</td>\n      <td>0.0</td>\n      <td>0.0</td>\n    </tr>\n    <tr>\n      <th>10203</th>\n      <td>000bc65a-6a7c-4566-86f3-203b4ec35eca</td>\n      <td>724bddb4-a23c-4759-ba6f-dc79c7dd5334</td>\n      <td>Fully Paid</td>\n      <td>642202</td>\n      <td>Short Term</td>\n      <td>715.0</td>\n      <td>1759533.0</td>\n      <td>2 years</td>\n      <td>Rent</td>\n      <td>Debt Consolidation</td>\n      <td>23020.59</td>\n      <td>13.8</td>\n      <td>NaN</td>\n      <td>11</td>\n      <td>0</td>\n      <td>445987</td>\n      <td>733546.0</td>\n      <td>0.0</td>\n      <td>0.0</td>\n    </tr>\n    <tr>\n      <th>3978</th>\n      <td>000c16df-c24f-41cf-a90e-60301d131bb9</td>\n      <td>b07c4262-70bb-41cc-b28a-d87540577fb1</td>\n      <td>Fully Paid</td>\n      <td>155496</td>\n      <td>Short Term</td>\n      <td>706.0</td>\n      <td>664753.0</td>\n      <td>NaN</td>\n      <td>Own Home</td>\n      <td>other</td>\n      <td>8087.92</td>\n      <td>21.3</td>\n      <td>NaN</td>\n      <td>7</td>\n      <td>1</td>\n      <td>79382</td>\n      <td>150700.0</td>\n      <td>1.0</td>\n      <td>0.0</td>\n    </tr>\n    <tr>\n      <th>...</th>\n      <td>...</td>\n      <td>...</td>\n      <td>...</td>\n      <td>...</td>\n      <td>...</td>\n      <td>...</td>\n      <td>...</td>\n      <td>...</td>\n      <td>...</td>\n      <td>...</td>\n      <td>...</td>\n      <td>...</td>\n      <td>...</td>\n      <td>...</td>\n      <td>...</td>\n      <td>...</td>\n      <td>...</td>\n      <td>...</td>\n      <td>...</td>\n    </tr>\n    <tr>\n      <th>72469</th>\n      <td>fffaa912-faa8-4bdf-8ff1-fd5884e51c66</td>\n      <td>d059bcea-3016-48d3-b7e0-c6e618e1f2c3</td>\n      <td>Fully Paid</td>\n      <td>146410</td>\n      <td>Short Term</td>\n      <td>724.0</td>\n      <td>1400566.0</td>\n      <td>10+ years</td>\n      <td>Rent</td>\n      <td>Debt Consolidation</td>\n      <td>11787.98</td>\n      <td>11.1</td>\n      <td>62.0</td>\n      <td>15</td>\n      <td>0</td>\n      <td>135166</td>\n      <td>403392.0</td>\n      <td>0.0</td>\n      <td>0.0</td>\n    </tr>\n    <tr>\n      <th>13362</th>\n      <td>fffbc431-6a56-467c-a5f7-772928f96715</td>\n      <td>ae7c08b7-6b2e-4763-b148-035bf01c3072</td>\n      <td>Fully Paid</td>\n      <td>667194</td>\n      <td>Long Term</td>\n      <td>715.0</td>\n      <td>3104144.0</td>\n      <td>&lt; 1 year</td>\n      <td>Rent</td>\n      <td>Debt Consolidation</td>\n      <td>15598.24</td>\n      <td>13.9</td>\n      <td>NaN</td>\n      <td>8</td>\n      <td>0</td>\n      <td>176396</td>\n      <td>322168.0</td>\n      <td>0.0</td>\n      <td>0.0</td>\n    </tr>\n    <tr>\n      <th>85520</th>\n      <td>fffbc431-6a56-467c-a5f7-772928f96715</td>\n      <td>ae7c08b7-6b2e-4763-b148-035bf01c3072</td>\n      <td>Fully Paid</td>\n      <td>667194</td>\n      <td>Long Term</td>\n      <td>NaN</td>\n      <td>NaN</td>\n      <td>&lt; 1 year</td>\n      <td>Rent</td>\n      <td>Debt Consolidation</td>\n      <td>15598.24</td>\n      <td>13.9</td>\n      <td>NaN</td>\n      <td>8</td>\n      <td>0</td>\n      <td>176396</td>\n      <td>322168.0</td>\n      <td>0.0</td>\n      <td>0.0</td>\n    </tr>\n    <tr>\n      <th>81716</th>\n      <td>ffffe32e-ed17-459f-9cfd-7b9ee7972933</td>\n      <td>97281336-1e45-41d2-acb2-263ce56a590e</td>\n      <td>Fully Paid</td>\n      <td>613844</td>\n      <td>Long Term</td>\n      <td>678.0</td>\n      <td>2232120.0</td>\n      <td>10+ years</td>\n      <td>Home Mortgage</td>\n      <td>Debt Consolidation</td>\n      <td>47990.58</td>\n      <td>18.0</td>\n      <td>11.0</td>\n      <td>10</td>\n      <td>0</td>\n      <td>538023</td>\n      <td>1372162.0</td>\n      <td>0.0</td>\n      <td>0.0</td>\n    </tr>\n    <tr>\n      <th>65354</th>\n      <td>ffffe32e-ed17-459f-9cfd-7b9ee7972933</td>\n      <td>97281336-1e45-41d2-acb2-263ce56a590e</td>\n      <td>Fully Paid</td>\n      <td>613844</td>\n      <td>Long Term</td>\n      <td>678.0</td>\n      <td>2232120.0</td>\n      <td>10+ years</td>\n      <td>Home Mortgage</td>\n      <td>Debt Consolidation</td>\n      <td>47990.58</td>\n      <td>18.0</td>\n      <td>11.0</td>\n      <td>10</td>\n      <td>0</td>\n      <td>538023</td>\n      <td>1372162.0</td>\n      <td>0.0</td>\n      <td>0.0</td>\n    </tr>\n  </tbody>\n</table>\n<p>36002 rows × 19 columns</p>\n</div>"
     },
     "execution_count": 97,
     "metadata": {},
     "output_type": "execute_result"
    }
   ],
   "source": [
    "duplicated_df = data_scoring[data_scoring[\"Loan ID\"].duplicated(keep=False)].sort_values(by=[\"Loan ID\"])\n",
    "duplicated_df"
   ],
   "metadata": {
    "collapsed": false,
    "pycharm": {
     "name": "#%%\n"
    }
   }
  },
  {
   "cell_type": "markdown",
   "source": [
    "## Как мы видим, у нас есть повторяющиеся ID заемов. Проанализировав данные, можно удтверждать, что это одни и те же заемы"
   ],
   "metadata": {
    "collapsed": false,
    "pycharm": {
     "name": "#%% md\n"
    }
   }
  },
  {
   "cell_type": "markdown",
   "source": [
    "### Стоит заметить, что в некоторых повторяющихся ID у нас разные данные. Какая-то из двух записей, например, имеет кредитный счет NaN, в то время как другая имеет вполне адекватное значение. Из таких данных стоит отсеять наилучшие"
   ],
   "metadata": {
    "collapsed": false,
    "pycharm": {
     "name": "#%% md\n"
    }
   }
  },
  {
   "cell_type": "code",
   "execution_count": 98,
   "outputs": [
    {
     "data": {
      "text/plain": "                                    Loan ID  \\\n7415   00069ff1-a877-4d35-81be-7cd359b99956   \n98518  00321acd-d853-44bf-80aa-e17b9be0e5ed   \n72600  0044fa26-0100-4c7e-adb2-fd03e32beb79   \n91504  0048b1fd-56c0-45b0-9f84-732dd03dd61c   \n24639  0069060d-5b95-433c-8009-453745cdd588   \n...                                     ...   \n34931  ffd64994-2fe2-4ff8-a39d-4091e9798468   \n81119  ffda589a-0175-4ea5-8ace-c3cc12a380fa   \n67763  ffee9aee-ac81-4237-87d2-6b6e625139ad   \n12196  fff5063a-9366-4659-bdf3-bf8c6fafa9b5   \n85520  fffbc431-6a56-467c-a5f7-772928f96715   \n\n                                Customer ID Loan Status  Current Loan Amount  \\\n7415   ee3c27f2-766a-499c-9a96-d17c4d2faa16  Fully Paid                31526   \n98518  a5625033-465a-4b55-9457-ca95ed832a71  Fully Paid               261888   \n72600  5a6506e4-7a52-4184-a486-82ff18d8d821  Fully Paid               351604   \n91504  e4dcce96-d540-4fec-ba57-7d3189998478  Fully Paid                55726   \n24639  e3046060-14f0-427d-81b4-1ca6fe7f6b48  Fully Paid               619828   \n...                                     ...         ...                  ...   \n34931  003e89d5-2e91-4256-954f-dc5313c83c05  Fully Paid               166232   \n81119  ef185a7b-a395-47a5-a9c3-bb15509dde16  Fully Paid               106744   \n67763  f397c9b0-e7e4-4319-841e-973a46fff949  Fully Paid               151580   \n12196  4b13e0aa-ec50-472b-b8f1-60ee584bbbc9  Fully Paid               112750   \n85520  ae7c08b7-6b2e-4763-b148-035bf01c3072  Fully Paid               667194   \n\n             Term  Credit Score  Annual Income Years in current job  \\\n7415   Short Term           NaN            NaN            10+ years   \n98518  Short Term           NaN            NaN            10+ years   \n72600  Short Term           NaN            NaN            10+ years   \n91504  Short Term           NaN            NaN            10+ years   \n24639   Long Term           NaN            NaN             < 1 year   \n...           ...           ...            ...                  ...   \n34931  Short Term           NaN            NaN              2 years   \n81119  Short Term           NaN            NaN              3 years   \n67763  Short Term           NaN            NaN               1 year   \n12196  Short Term           NaN            NaN              3 years   \n85520   Long Term           NaN            NaN             < 1 year   \n\n      Home Ownership             Purpose  Monthly Debt  \\\n7415   Home Mortgage   Home Improvements      49927.44   \n98518           Rent               other      20468.89   \n72600  Home Mortgage  Debt Consolidation      35073.43   \n91504  Home Mortgage   Home Improvements       3082.94   \n24639           Rent  Debt Consolidation      33121.56   \n...              ...                 ...           ...   \n34931           Rent  Debt Consolidation      12557.67   \n81119  Home Mortgage               Other      12403.20   \n67763           Rent               other       5541.92   \n12196           Rent  Debt Consolidation       1422.15   \n85520           Rent  Debt Consolidation      15598.24   \n\n       Years of Credit History  Months since last delinquent  \\\n7415                      15.1                           5.0   \n98518                     15.2                           NaN   \n72600                     18.1                          22.0   \n91504                     20.1                           NaN   \n24639                     23.1                           NaN   \n...                        ...                           ...   \n34931                     16.8                           NaN   \n81119                      9.9                           NaN   \n67763                     12.0                          56.0   \n12196                     10.0                           NaN   \n85520                     13.9                           NaN   \n\n       Number of Open Accounts  Number of Credit Problems  \\\n7415                        22                          0   \n98518                        7                          0   \n72600                       16                          0   \n91504                        9                          1   \n24639                       15                          0   \n...                        ...                        ...   \n34931                        5                          0   \n81119                        8                          0   \n67763                        3                          0   \n12196                        8                          0   \n85520                        8                          0   \n\n       Current Credit Balance  Maximum Open Credit  Bankruptcies  Tax Liens  \n7415                   526414            1090386.0           0.0        0.0  \n98518                  209342             579898.0           0.0        0.0  \n72600                  736820             981772.0           0.0        0.0  \n91504                   81206             329934.0           1.0        0.0  \n24639                  290833             420442.0           0.0        0.0  \n...                       ...                  ...           ...        ...  \n34931                  129998             152328.0           0.0        0.0  \n81119                  135793             175692.0           0.0        0.0  \n67763                   54739              80234.0           0.0        0.0  \n12196                   65683             277574.0           0.0        0.0  \n85520                  176396             322168.0           0.0        0.0  \n\n[4207 rows x 19 columns]",
      "text/html": "<div>\n<style scoped>\n    .dataframe tbody tr th:only-of-type {\n        vertical-align: middle;\n    }\n\n    .dataframe tbody tr th {\n        vertical-align: top;\n    }\n\n    .dataframe thead th {\n        text-align: right;\n    }\n</style>\n<table border=\"1\" class=\"dataframe\">\n  <thead>\n    <tr style=\"text-align: right;\">\n      <th></th>\n      <th>Loan ID</th>\n      <th>Customer ID</th>\n      <th>Loan Status</th>\n      <th>Current Loan Amount</th>\n      <th>Term</th>\n      <th>Credit Score</th>\n      <th>Annual Income</th>\n      <th>Years in current job</th>\n      <th>Home Ownership</th>\n      <th>Purpose</th>\n      <th>Monthly Debt</th>\n      <th>Years of Credit History</th>\n      <th>Months since last delinquent</th>\n      <th>Number of Open Accounts</th>\n      <th>Number of Credit Problems</th>\n      <th>Current Credit Balance</th>\n      <th>Maximum Open Credit</th>\n      <th>Bankruptcies</th>\n      <th>Tax Liens</th>\n    </tr>\n  </thead>\n  <tbody>\n    <tr>\n      <th>7415</th>\n      <td>00069ff1-a877-4d35-81be-7cd359b99956</td>\n      <td>ee3c27f2-766a-499c-9a96-d17c4d2faa16</td>\n      <td>Fully Paid</td>\n      <td>31526</td>\n      <td>Short Term</td>\n      <td>NaN</td>\n      <td>NaN</td>\n      <td>10+ years</td>\n      <td>Home Mortgage</td>\n      <td>Home Improvements</td>\n      <td>49927.44</td>\n      <td>15.1</td>\n      <td>5.0</td>\n      <td>22</td>\n      <td>0</td>\n      <td>526414</td>\n      <td>1090386.0</td>\n      <td>0.0</td>\n      <td>0.0</td>\n    </tr>\n    <tr>\n      <th>98518</th>\n      <td>00321acd-d853-44bf-80aa-e17b9be0e5ed</td>\n      <td>a5625033-465a-4b55-9457-ca95ed832a71</td>\n      <td>Fully Paid</td>\n      <td>261888</td>\n      <td>Short Term</td>\n      <td>NaN</td>\n      <td>NaN</td>\n      <td>10+ years</td>\n      <td>Rent</td>\n      <td>other</td>\n      <td>20468.89</td>\n      <td>15.2</td>\n      <td>NaN</td>\n      <td>7</td>\n      <td>0</td>\n      <td>209342</td>\n      <td>579898.0</td>\n      <td>0.0</td>\n      <td>0.0</td>\n    </tr>\n    <tr>\n      <th>72600</th>\n      <td>0044fa26-0100-4c7e-adb2-fd03e32beb79</td>\n      <td>5a6506e4-7a52-4184-a486-82ff18d8d821</td>\n      <td>Fully Paid</td>\n      <td>351604</td>\n      <td>Short Term</td>\n      <td>NaN</td>\n      <td>NaN</td>\n      <td>10+ years</td>\n      <td>Home Mortgage</td>\n      <td>Debt Consolidation</td>\n      <td>35073.43</td>\n      <td>18.1</td>\n      <td>22.0</td>\n      <td>16</td>\n      <td>0</td>\n      <td>736820</td>\n      <td>981772.0</td>\n      <td>0.0</td>\n      <td>0.0</td>\n    </tr>\n    <tr>\n      <th>91504</th>\n      <td>0048b1fd-56c0-45b0-9f84-732dd03dd61c</td>\n      <td>e4dcce96-d540-4fec-ba57-7d3189998478</td>\n      <td>Fully Paid</td>\n      <td>55726</td>\n      <td>Short Term</td>\n      <td>NaN</td>\n      <td>NaN</td>\n      <td>10+ years</td>\n      <td>Home Mortgage</td>\n      <td>Home Improvements</td>\n      <td>3082.94</td>\n      <td>20.1</td>\n      <td>NaN</td>\n      <td>9</td>\n      <td>1</td>\n      <td>81206</td>\n      <td>329934.0</td>\n      <td>1.0</td>\n      <td>0.0</td>\n    </tr>\n    <tr>\n      <th>24639</th>\n      <td>0069060d-5b95-433c-8009-453745cdd588</td>\n      <td>e3046060-14f0-427d-81b4-1ca6fe7f6b48</td>\n      <td>Fully Paid</td>\n      <td>619828</td>\n      <td>Long Term</td>\n      <td>NaN</td>\n      <td>NaN</td>\n      <td>&lt; 1 year</td>\n      <td>Rent</td>\n      <td>Debt Consolidation</td>\n      <td>33121.56</td>\n      <td>23.1</td>\n      <td>NaN</td>\n      <td>15</td>\n      <td>0</td>\n      <td>290833</td>\n      <td>420442.0</td>\n      <td>0.0</td>\n      <td>0.0</td>\n    </tr>\n    <tr>\n      <th>...</th>\n      <td>...</td>\n      <td>...</td>\n      <td>...</td>\n      <td>...</td>\n      <td>...</td>\n      <td>...</td>\n      <td>...</td>\n      <td>...</td>\n      <td>...</td>\n      <td>...</td>\n      <td>...</td>\n      <td>...</td>\n      <td>...</td>\n      <td>...</td>\n      <td>...</td>\n      <td>...</td>\n      <td>...</td>\n      <td>...</td>\n      <td>...</td>\n    </tr>\n    <tr>\n      <th>34931</th>\n      <td>ffd64994-2fe2-4ff8-a39d-4091e9798468</td>\n      <td>003e89d5-2e91-4256-954f-dc5313c83c05</td>\n      <td>Fully Paid</td>\n      <td>166232</td>\n      <td>Short Term</td>\n      <td>NaN</td>\n      <td>NaN</td>\n      <td>2 years</td>\n      <td>Rent</td>\n      <td>Debt Consolidation</td>\n      <td>12557.67</td>\n      <td>16.8</td>\n      <td>NaN</td>\n      <td>5</td>\n      <td>0</td>\n      <td>129998</td>\n      <td>152328.0</td>\n      <td>0.0</td>\n      <td>0.0</td>\n    </tr>\n    <tr>\n      <th>81119</th>\n      <td>ffda589a-0175-4ea5-8ace-c3cc12a380fa</td>\n      <td>ef185a7b-a395-47a5-a9c3-bb15509dde16</td>\n      <td>Fully Paid</td>\n      <td>106744</td>\n      <td>Short Term</td>\n      <td>NaN</td>\n      <td>NaN</td>\n      <td>3 years</td>\n      <td>Home Mortgage</td>\n      <td>Other</td>\n      <td>12403.20</td>\n      <td>9.9</td>\n      <td>NaN</td>\n      <td>8</td>\n      <td>0</td>\n      <td>135793</td>\n      <td>175692.0</td>\n      <td>0.0</td>\n      <td>0.0</td>\n    </tr>\n    <tr>\n      <th>67763</th>\n      <td>ffee9aee-ac81-4237-87d2-6b6e625139ad</td>\n      <td>f397c9b0-e7e4-4319-841e-973a46fff949</td>\n      <td>Fully Paid</td>\n      <td>151580</td>\n      <td>Short Term</td>\n      <td>NaN</td>\n      <td>NaN</td>\n      <td>1 year</td>\n      <td>Rent</td>\n      <td>other</td>\n      <td>5541.92</td>\n      <td>12.0</td>\n      <td>56.0</td>\n      <td>3</td>\n      <td>0</td>\n      <td>54739</td>\n      <td>80234.0</td>\n      <td>0.0</td>\n      <td>0.0</td>\n    </tr>\n    <tr>\n      <th>12196</th>\n      <td>fff5063a-9366-4659-bdf3-bf8c6fafa9b5</td>\n      <td>4b13e0aa-ec50-472b-b8f1-60ee584bbbc9</td>\n      <td>Fully Paid</td>\n      <td>112750</td>\n      <td>Short Term</td>\n      <td>NaN</td>\n      <td>NaN</td>\n      <td>3 years</td>\n      <td>Rent</td>\n      <td>Debt Consolidation</td>\n      <td>1422.15</td>\n      <td>10.0</td>\n      <td>NaN</td>\n      <td>8</td>\n      <td>0</td>\n      <td>65683</td>\n      <td>277574.0</td>\n      <td>0.0</td>\n      <td>0.0</td>\n    </tr>\n    <tr>\n      <th>85520</th>\n      <td>fffbc431-6a56-467c-a5f7-772928f96715</td>\n      <td>ae7c08b7-6b2e-4763-b148-035bf01c3072</td>\n      <td>Fully Paid</td>\n      <td>667194</td>\n      <td>Long Term</td>\n      <td>NaN</td>\n      <td>NaN</td>\n      <td>&lt; 1 year</td>\n      <td>Rent</td>\n      <td>Debt Consolidation</td>\n      <td>15598.24</td>\n      <td>13.9</td>\n      <td>NaN</td>\n      <td>8</td>\n      <td>0</td>\n      <td>176396</td>\n      <td>322168.0</td>\n      <td>0.0</td>\n      <td>0.0</td>\n    </tr>\n  </tbody>\n</table>\n<p>4207 rows × 19 columns</p>\n</div>"
     },
     "execution_count": 98,
     "metadata": {},
     "output_type": "execute_result"
    }
   ],
   "source": [
    "duplicated_df[duplicated_df[\"Credit Score\"].isna()].sort_values(by=[\"Loan ID\"])"
   ],
   "metadata": {
    "collapsed": false,
    "pycharm": {
     "name": "#%%\n"
    }
   }
  },
  {
   "cell_type": "code",
   "execution_count": 99,
   "outputs": [
    {
     "name": "stdout",
     "output_type": "stream",
     "text": [
      "Количество пустых строк в столбце Credit score:  4207\n"
     ]
    }
   ],
   "source": [
    "print(\"Количество пустых строк в столбце Credit score: \", len(duplicated_df[duplicated_df[\"Credit Score\"].isna()].sort_values(by=[\"Loan ID\"])))"
   ],
   "metadata": {
    "collapsed": false,
    "pycharm": {
     "name": "#%%\n"
    }
   }
  },
  {
   "cell_type": "code",
   "execution_count": 100,
   "outputs": [
    {
     "name": "stdout",
     "output_type": "stream",
     "text": [
      "Количество пустых и УНИКАЛЬНЫХ строк в столбце Credit score:  4207\n"
     ]
    }
   ],
   "source": [
    "print(\"Количество пустых и УНИКАЛЬНЫХ строк в столбце Credit score: \", duplicated_df[duplicated_df[\"Credit Score\"].isna()].sort_values(by=[\"Loan ID\"])[\"Loan ID\"].nunique())"
   ],
   "metadata": {
    "collapsed": false,
    "pycharm": {
     "name": "#%%\n"
    }
   }
  },
  {
   "cell_type": "markdown",
   "source": [
    "## В выбранных мной данных пустой кредитный рейтинг всегда только у одной из двух записей, что позволяет нам сразу удалить 4207 повторяющихся заемов с худшими данными по сравнению с его дубликатом"
   ],
   "metadata": {
    "collapsed": false,
    "pycharm": {
     "name": "#%% md\n"
    }
   }
  },
  {
   "cell_type": "code",
   "execution_count": 101,
   "outputs": [
    {
     "data": {
      "text/plain": "                                    Loan ID  \\\n59577  00069ff1-a877-4d35-81be-7cd359b99956   \n69442  000bc65a-6a7c-4566-86f3-203b4ec35eca   \n10203  000bc65a-6a7c-4566-86f3-203b4ec35eca   \n3978   000c16df-c24f-41cf-a90e-60301d131bb9   \n98875  000c16df-c24f-41cf-a90e-60301d131bb9   \n...                                     ...   \n49019  fffaa912-faa8-4bdf-8ff1-fd5884e51c66   \n72469  fffaa912-faa8-4bdf-8ff1-fd5884e51c66   \n13362  fffbc431-6a56-467c-a5f7-772928f96715   \n81716  ffffe32e-ed17-459f-9cfd-7b9ee7972933   \n65354  ffffe32e-ed17-459f-9cfd-7b9ee7972933   \n\n                                Customer ID Loan Status  Current Loan Amount  \\\n59577  ee3c27f2-766a-499c-9a96-d17c4d2faa16  Fully Paid                31526   \n69442  724bddb4-a23c-4759-ba6f-dc79c7dd5334  Fully Paid               642202   \n10203  724bddb4-a23c-4759-ba6f-dc79c7dd5334  Fully Paid               642202   \n3978   b07c4262-70bb-41cc-b28a-d87540577fb1  Fully Paid               155496   \n98875  b07c4262-70bb-41cc-b28a-d87540577fb1  Fully Paid               155496   \n...                                     ...         ...                  ...   \n49019  d059bcea-3016-48d3-b7e0-c6e618e1f2c3  Fully Paid               146410   \n72469  d059bcea-3016-48d3-b7e0-c6e618e1f2c3  Fully Paid               146410   \n13362  ae7c08b7-6b2e-4763-b148-035bf01c3072  Fully Paid               667194   \n81716  97281336-1e45-41d2-acb2-263ce56a590e  Fully Paid               613844   \n65354  97281336-1e45-41d2-acb2-263ce56a590e  Fully Paid               613844   \n\n             Term  Credit Score  Annual Income Years in current job  \\\n59577  Short Term         716.0      2065965.0            10+ years   \n69442  Short Term         715.0      1759533.0              2 years   \n10203  Short Term         715.0      1759533.0              2 years   \n3978   Short Term         706.0       664753.0                  NaN   \n98875  Short Term         706.0       664753.0                  NaN   \n...           ...           ...            ...                  ...   \n49019  Short Term         724.0      1400566.0            10+ years   \n72469  Short Term         724.0      1400566.0            10+ years   \n13362   Long Term         715.0      3104144.0             < 1 year   \n81716   Long Term         678.0      2232120.0            10+ years   \n65354   Long Term         678.0      2232120.0            10+ years   \n\n      Home Ownership             Purpose  Monthly Debt  \\\n59577  Home Mortgage   Home Improvements      49927.44   \n69442           Rent  Debt Consolidation      23020.59   \n10203           Rent  Debt Consolidation      23020.59   \n3978        Own Home               other       8087.92   \n98875       Own Home               other       8087.92   \n...              ...                 ...           ...   \n49019           Rent  Debt Consolidation      11787.98   \n72469           Rent  Debt Consolidation      11787.98   \n13362           Rent  Debt Consolidation      15598.24   \n81716  Home Mortgage  Debt Consolidation      47990.58   \n65354  Home Mortgage  Debt Consolidation      47990.58   \n\n       Years of Credit History  Months since last delinquent  \\\n59577                     15.1                           5.0   \n69442                     13.8                           NaN   \n10203                     13.8                           NaN   \n3978                      21.3                           NaN   \n98875                     21.3                           NaN   \n...                        ...                           ...   \n49019                     11.1                          62.0   \n72469                     11.1                          62.0   \n13362                     13.9                           NaN   \n81716                     18.0                          11.0   \n65354                     18.0                          11.0   \n\n       Number of Open Accounts  Number of Credit Problems  \\\n59577                       22                          0   \n69442                       11                          0   \n10203                       11                          0   \n3978                         7                          1   \n98875                        7                          1   \n...                        ...                        ...   \n49019                       15                          0   \n72469                       15                          0   \n13362                        8                          0   \n81716                       10                          0   \n65354                       10                          0   \n\n       Current Credit Balance  Maximum Open Credit  Bankruptcies  Tax Liens  \n59577                  526414            1090386.0           0.0        0.0  \n69442                  445987             733546.0           0.0        0.0  \n10203                  445987             733546.0           0.0        0.0  \n3978                    79382             150700.0           1.0        0.0  \n98875                   79382             150700.0           1.0        0.0  \n...                       ...                  ...           ...        ...  \n49019                  135166             403392.0           0.0        0.0  \n72469                  135166             403392.0           0.0        0.0  \n13362                  176396             322168.0           0.0        0.0  \n81716                  538023            1372162.0           0.0        0.0  \n65354                  538023            1372162.0           0.0        0.0  \n\n[31795 rows x 19 columns]",
      "text/html": "<div>\n<style scoped>\n    .dataframe tbody tr th:only-of-type {\n        vertical-align: middle;\n    }\n\n    .dataframe tbody tr th {\n        vertical-align: top;\n    }\n\n    .dataframe thead th {\n        text-align: right;\n    }\n</style>\n<table border=\"1\" class=\"dataframe\">\n  <thead>\n    <tr style=\"text-align: right;\">\n      <th></th>\n      <th>Loan ID</th>\n      <th>Customer ID</th>\n      <th>Loan Status</th>\n      <th>Current Loan Amount</th>\n      <th>Term</th>\n      <th>Credit Score</th>\n      <th>Annual Income</th>\n      <th>Years in current job</th>\n      <th>Home Ownership</th>\n      <th>Purpose</th>\n      <th>Monthly Debt</th>\n      <th>Years of Credit History</th>\n      <th>Months since last delinquent</th>\n      <th>Number of Open Accounts</th>\n      <th>Number of Credit Problems</th>\n      <th>Current Credit Balance</th>\n      <th>Maximum Open Credit</th>\n      <th>Bankruptcies</th>\n      <th>Tax Liens</th>\n    </tr>\n  </thead>\n  <tbody>\n    <tr>\n      <th>59577</th>\n      <td>00069ff1-a877-4d35-81be-7cd359b99956</td>\n      <td>ee3c27f2-766a-499c-9a96-d17c4d2faa16</td>\n      <td>Fully Paid</td>\n      <td>31526</td>\n      <td>Short Term</td>\n      <td>716.0</td>\n      <td>2065965.0</td>\n      <td>10+ years</td>\n      <td>Home Mortgage</td>\n      <td>Home Improvements</td>\n      <td>49927.44</td>\n      <td>15.1</td>\n      <td>5.0</td>\n      <td>22</td>\n      <td>0</td>\n      <td>526414</td>\n      <td>1090386.0</td>\n      <td>0.0</td>\n      <td>0.0</td>\n    </tr>\n    <tr>\n      <th>69442</th>\n      <td>000bc65a-6a7c-4566-86f3-203b4ec35eca</td>\n      <td>724bddb4-a23c-4759-ba6f-dc79c7dd5334</td>\n      <td>Fully Paid</td>\n      <td>642202</td>\n      <td>Short Term</td>\n      <td>715.0</td>\n      <td>1759533.0</td>\n      <td>2 years</td>\n      <td>Rent</td>\n      <td>Debt Consolidation</td>\n      <td>23020.59</td>\n      <td>13.8</td>\n      <td>NaN</td>\n      <td>11</td>\n      <td>0</td>\n      <td>445987</td>\n      <td>733546.0</td>\n      <td>0.0</td>\n      <td>0.0</td>\n    </tr>\n    <tr>\n      <th>10203</th>\n      <td>000bc65a-6a7c-4566-86f3-203b4ec35eca</td>\n      <td>724bddb4-a23c-4759-ba6f-dc79c7dd5334</td>\n      <td>Fully Paid</td>\n      <td>642202</td>\n      <td>Short Term</td>\n      <td>715.0</td>\n      <td>1759533.0</td>\n      <td>2 years</td>\n      <td>Rent</td>\n      <td>Debt Consolidation</td>\n      <td>23020.59</td>\n      <td>13.8</td>\n      <td>NaN</td>\n      <td>11</td>\n      <td>0</td>\n      <td>445987</td>\n      <td>733546.0</td>\n      <td>0.0</td>\n      <td>0.0</td>\n    </tr>\n    <tr>\n      <th>3978</th>\n      <td>000c16df-c24f-41cf-a90e-60301d131bb9</td>\n      <td>b07c4262-70bb-41cc-b28a-d87540577fb1</td>\n      <td>Fully Paid</td>\n      <td>155496</td>\n      <td>Short Term</td>\n      <td>706.0</td>\n      <td>664753.0</td>\n      <td>NaN</td>\n      <td>Own Home</td>\n      <td>other</td>\n      <td>8087.92</td>\n      <td>21.3</td>\n      <td>NaN</td>\n      <td>7</td>\n      <td>1</td>\n      <td>79382</td>\n      <td>150700.0</td>\n      <td>1.0</td>\n      <td>0.0</td>\n    </tr>\n    <tr>\n      <th>98875</th>\n      <td>000c16df-c24f-41cf-a90e-60301d131bb9</td>\n      <td>b07c4262-70bb-41cc-b28a-d87540577fb1</td>\n      <td>Fully Paid</td>\n      <td>155496</td>\n      <td>Short Term</td>\n      <td>706.0</td>\n      <td>664753.0</td>\n      <td>NaN</td>\n      <td>Own Home</td>\n      <td>other</td>\n      <td>8087.92</td>\n      <td>21.3</td>\n      <td>NaN</td>\n      <td>7</td>\n      <td>1</td>\n      <td>79382</td>\n      <td>150700.0</td>\n      <td>1.0</td>\n      <td>0.0</td>\n    </tr>\n    <tr>\n      <th>...</th>\n      <td>...</td>\n      <td>...</td>\n      <td>...</td>\n      <td>...</td>\n      <td>...</td>\n      <td>...</td>\n      <td>...</td>\n      <td>...</td>\n      <td>...</td>\n      <td>...</td>\n      <td>...</td>\n      <td>...</td>\n      <td>...</td>\n      <td>...</td>\n      <td>...</td>\n      <td>...</td>\n      <td>...</td>\n      <td>...</td>\n      <td>...</td>\n    </tr>\n    <tr>\n      <th>49019</th>\n      <td>fffaa912-faa8-4bdf-8ff1-fd5884e51c66</td>\n      <td>d059bcea-3016-48d3-b7e0-c6e618e1f2c3</td>\n      <td>Fully Paid</td>\n      <td>146410</td>\n      <td>Short Term</td>\n      <td>724.0</td>\n      <td>1400566.0</td>\n      <td>10+ years</td>\n      <td>Rent</td>\n      <td>Debt Consolidation</td>\n      <td>11787.98</td>\n      <td>11.1</td>\n      <td>62.0</td>\n      <td>15</td>\n      <td>0</td>\n      <td>135166</td>\n      <td>403392.0</td>\n      <td>0.0</td>\n      <td>0.0</td>\n    </tr>\n    <tr>\n      <th>72469</th>\n      <td>fffaa912-faa8-4bdf-8ff1-fd5884e51c66</td>\n      <td>d059bcea-3016-48d3-b7e0-c6e618e1f2c3</td>\n      <td>Fully Paid</td>\n      <td>146410</td>\n      <td>Short Term</td>\n      <td>724.0</td>\n      <td>1400566.0</td>\n      <td>10+ years</td>\n      <td>Rent</td>\n      <td>Debt Consolidation</td>\n      <td>11787.98</td>\n      <td>11.1</td>\n      <td>62.0</td>\n      <td>15</td>\n      <td>0</td>\n      <td>135166</td>\n      <td>403392.0</td>\n      <td>0.0</td>\n      <td>0.0</td>\n    </tr>\n    <tr>\n      <th>13362</th>\n      <td>fffbc431-6a56-467c-a5f7-772928f96715</td>\n      <td>ae7c08b7-6b2e-4763-b148-035bf01c3072</td>\n      <td>Fully Paid</td>\n      <td>667194</td>\n      <td>Long Term</td>\n      <td>715.0</td>\n      <td>3104144.0</td>\n      <td>&lt; 1 year</td>\n      <td>Rent</td>\n      <td>Debt Consolidation</td>\n      <td>15598.24</td>\n      <td>13.9</td>\n      <td>NaN</td>\n      <td>8</td>\n      <td>0</td>\n      <td>176396</td>\n      <td>322168.0</td>\n      <td>0.0</td>\n      <td>0.0</td>\n    </tr>\n    <tr>\n      <th>81716</th>\n      <td>ffffe32e-ed17-459f-9cfd-7b9ee7972933</td>\n      <td>97281336-1e45-41d2-acb2-263ce56a590e</td>\n      <td>Fully Paid</td>\n      <td>613844</td>\n      <td>Long Term</td>\n      <td>678.0</td>\n      <td>2232120.0</td>\n      <td>10+ years</td>\n      <td>Home Mortgage</td>\n      <td>Debt Consolidation</td>\n      <td>47990.58</td>\n      <td>18.0</td>\n      <td>11.0</td>\n      <td>10</td>\n      <td>0</td>\n      <td>538023</td>\n      <td>1372162.0</td>\n      <td>0.0</td>\n      <td>0.0</td>\n    </tr>\n    <tr>\n      <th>65354</th>\n      <td>ffffe32e-ed17-459f-9cfd-7b9ee7972933</td>\n      <td>97281336-1e45-41d2-acb2-263ce56a590e</td>\n      <td>Fully Paid</td>\n      <td>613844</td>\n      <td>Long Term</td>\n      <td>678.0</td>\n      <td>2232120.0</td>\n      <td>10+ years</td>\n      <td>Home Mortgage</td>\n      <td>Debt Consolidation</td>\n      <td>47990.58</td>\n      <td>18.0</td>\n      <td>11.0</td>\n      <td>10</td>\n      <td>0</td>\n      <td>538023</td>\n      <td>1372162.0</td>\n      <td>0.0</td>\n      <td>0.0</td>\n    </tr>\n  </tbody>\n</table>\n<p>31795 rows × 19 columns</p>\n</div>"
     },
     "execution_count": 101,
     "metadata": {},
     "output_type": "execute_result"
    }
   ],
   "source": [
    "duplicated_df.dropna(subset=['Credit Score'], inplace=True)\n",
    "duplicated_df"
   ],
   "metadata": {
    "collapsed": false,
    "pycharm": {
     "name": "#%%\n"
    }
   }
  },
  {
   "cell_type": "code",
   "execution_count": 102,
   "outputs": [
    {
     "data": {
      "text/plain": "36002"
     },
     "execution_count": 102,
     "metadata": {},
     "output_type": "execute_result"
    }
   ],
   "source": [
    "len(duplicated_df) + 4207"
   ],
   "metadata": {
    "collapsed": false,
    "pycharm": {
     "name": "#%%\n"
    }
   }
  },
  {
   "cell_type": "code",
   "execution_count": 103,
   "outputs": [
    {
     "data": {
      "text/plain": "59577    False\n69442     True\n10203     True\n3978      True\n98875     True\n         ...  \n49019     True\n72469     True\n13362    False\n81716     True\n65354     True\nLength: 31795, dtype: bool"
     },
     "execution_count": 103,
     "metadata": {},
     "output_type": "execute_result"
    }
   ],
   "source": [
    "duplicated_df.duplicated(keep=False)"
   ],
   "metadata": {
    "collapsed": false,
    "pycharm": {
     "name": "#%%\n"
    }
   }
  },
  {
   "cell_type": "markdown",
   "source": [
    "# Проверим другие данные"
   ],
   "metadata": {
    "collapsed": false,
    "pycharm": {
     "name": "#%% md\n"
    }
   }
  },
  {
   "cell_type": "code",
   "execution_count": 115,
   "outputs": [
    {
     "data": {
      "text/plain": "(0, 0)"
     },
     "execution_count": 115,
     "metadata": {},
     "output_type": "execute_result"
    }
   ],
   "source": [
    "len(duplicated_df[duplicated_df[\"Current Loan Amount\"]==0]), len(duplicated_df[duplicated_df[\"Current Loan Amount\"].isna()])"
   ],
   "metadata": {
    "collapsed": false,
    "pycharm": {
     "name": "#%%\n"
    }
   }
  },
  {
   "cell_type": "code",
   "execution_count": 124,
   "outputs": [
    {
     "data": {
      "text/plain": "count       31795.00000\nmean     11549910.71543\nstd      31502573.13199\nmin         15422.00000\n25%        187176.00000\n50%        329978.00000\n75%        551958.00000\nmax      99999999.00000\nName: Current Loan Amount, dtype: object"
     },
     "execution_count": 124,
     "metadata": {},
     "output_type": "execute_result"
    }
   ],
   "source": [
    "duplicated_df[\"Current Loan Amount\"].describe().apply(\"{0:.5f}\".format)"
   ],
   "metadata": {
    "collapsed": false,
    "pycharm": {
     "name": "#%%\n"
    }
   }
  },
  {
   "cell_type": "code",
   "execution_count": 116,
   "outputs": [
    {
     "data": {
      "text/plain": "(0, 0)"
     },
     "execution_count": 116,
     "metadata": {},
     "output_type": "execute_result"
    }
   ],
   "source": [
    "len(duplicated_df[duplicated_df[\"Annual Income\"]==0]), len(duplicated_df[duplicated_df[\"Annual Income\"].isna()])"
   ],
   "metadata": {
    "collapsed": false,
    "pycharm": {
     "name": "#%%\n"
    }
   }
  },
  {
   "cell_type": "code",
   "execution_count": 123,
   "outputs": [
    {
     "data": {
      "text/plain": "count       31795.00000\nmean      1385441.28948\nstd        903442.30481\nmin        111245.00000\n25%        855712.50000\n50%       1187424.00000\n75%       1663279.00000\nmax      22448880.00000\nName: Annual Income, dtype: object"
     },
     "execution_count": 123,
     "metadata": {},
     "output_type": "execute_result"
    }
   ],
   "source": [
    "duplicated_df[\"Annual Income\"].describe().apply(\"{0:.5f}\".format)"
   ],
   "metadata": {
    "collapsed": false,
    "pycharm": {
     "name": "#%%\n"
    }
   }
  },
  {
   "cell_type": "code",
   "execution_count": 126,
   "outputs": [
    {
     "data": {
      "text/plain": "(0, 0)"
     },
     "execution_count": 126,
     "metadata": {},
     "output_type": "execute_result"
    }
   ],
   "source": [
    "len(duplicated_df[duplicated_df[\"Credit Score\"]==0]), len(duplicated_df[duplicated_df[\"Credit Score\"].isna()])"
   ],
   "metadata": {
    "collapsed": false,
    "pycharm": {
     "name": "#%%\n"
    }
   }
  },
  {
   "cell_type": "code",
   "execution_count": 125,
   "outputs": [
    {
     "data": {
      "text/plain": "count    31795.00000\nmean       700.19818\nstd         24.37921\nmin        585.00000\n25%        690.00000\n50%        708.00000\n75%        718.00000\nmax        725.00000\nName: Credit Score, dtype: object"
     },
     "execution_count": 125,
     "metadata": {},
     "output_type": "execute_result"
    }
   ],
   "source": [
    "duplicated_df[\"Credit Score\"].describe().apply(\"{0:.5f}\".format)"
   ],
   "metadata": {
    "collapsed": false,
    "pycharm": {
     "name": "#%%\n"
    }
   }
  },
  {
   "cell_type": "code",
   "execution_count": 129,
   "outputs": [
    {
     "data": {
      "text/plain": "(14, 0)"
     },
     "execution_count": 129,
     "metadata": {},
     "output_type": "execute_result"
    }
   ],
   "source": [
    "len(duplicated_df[duplicated_df[\"Monthly Debt\"]==0]), len(duplicated_df[duplicated_df[\"Monthly Debt\"].isna()])"
   ],
   "metadata": {
    "collapsed": false,
    "pycharm": {
     "name": "#%%\n"
    }
   }
  },
  {
   "cell_type": "code",
   "execution_count": 130,
   "outputs": [
    {
     "data": {
      "text/plain": "count     31795.00000\nmean      19122.40764\nstd       12418.03149\nmin           0.00000\n25%       10624.42000\n50%       16946.10000\n75%       24827.87000\nmax      173265.56000\nName: Monthly Debt, dtype: object"
     },
     "execution_count": 130,
     "metadata": {},
     "output_type": "execute_result"
    }
   ],
   "source": [
    "duplicated_df[\"Monthly Debt\"].describe().apply(\"{0:.5f}\".format)"
   ],
   "metadata": {
    "collapsed": false,
    "pycharm": {
     "name": "#%%\n"
    }
   }
  },
  {
   "cell_type": "code",
   "execution_count": 133,
   "outputs": [
    {
     "data": {
      "text/plain": "(0,\n 0,\n count    31795.00000\n mean        11.19434\n std          5.15571\n min          1.00000\n 25%          8.00000\n 50%         10.00000\n 75%         14.00000\n max         56.00000\n Name: Number of Open Accounts, dtype: object)"
     },
     "execution_count": 133,
     "metadata": {},
     "output_type": "execute_result"
    }
   ],
   "source": [
    "len(duplicated_df[duplicated_df[\"Number of Open Accounts\"] == 0]), len(duplicated_df[duplicated_df[\"Number of Open Accounts\"].isna()]),\\\n",
    "duplicated_df[\"Number of Open Accounts\"].describe().apply(\"{0:.5f}\".format)"
   ],
   "metadata": {
    "collapsed": false,
    "pycharm": {
     "name": "#%%\n"
    }
   }
  },
  {
   "cell_type": "code",
   "execution_count": 134,
   "outputs": [
    {
     "data": {
      "text/plain": "(0,\n 0,\n count    31795.00000\n mean        17.75668\n std          6.85901\n min          3.70000\n 25%         13.00000\n 50%         16.60000\n 75%         21.20000\n max         65.00000\n Name: Years of Credit History, dtype: object)"
     },
     "execution_count": 134,
     "metadata": {},
     "output_type": "execute_result"
    }
   ],
   "source": [
    "len(duplicated_df[duplicated_df[\"Years of Credit History\"] == 0]), len(duplicated_df[duplicated_df[\"Years of Credit History\"].isna()]),\\\n",
    "duplicated_df[\"Years of Credit History\"].describe().apply(\"{0:.5f}\".format)"
   ],
   "metadata": {
    "collapsed": false,
    "pycharm": {
     "name": "#%%\n"
    }
   }
  },
  {
   "cell_type": "code",
   "execution_count": 135,
   "outputs": [
    {
     "data": {
      "text/plain": "(26543,\n 0,\n count    31795.00000\n mean         0.20104\n std          0.52631\n min          0.00000\n 25%          0.00000\n 50%          0.00000\n 75%          0.00000\n max         11.00000\n Name: Number of Credit Problems, dtype: object)"
     },
     "execution_count": 135,
     "metadata": {},
     "output_type": "execute_result"
    }
   ],
   "source": [
    "len(duplicated_df[duplicated_df[\"Number of Credit Problems\"] == 0]), len(duplicated_df[duplicated_df[\"Number of Credit Problems\"].isna()]),\\\n",
    "duplicated_df[\"Number of Credit Problems\"].describe().apply(\"{0:.5f}\".format)"
   ],
   "metadata": {
    "collapsed": false,
    "pycharm": {
     "name": "#%%\n"
    }
   }
  },
  {
   "cell_type": "code",
   "execution_count": 136,
   "outputs": [
    {
     "data": {
      "text/plain": "(159,\n 0,\n count       31795.00000\n mean       299212.73801\n std        394380.49777\n min             0.00000\n 25%        109658.50000\n 50%        209703.00000\n 75%        372428.50000\n max      12986956.00000\n Name: Current Credit Balance, dtype: object)"
     },
     "execution_count": 136,
     "metadata": {},
     "output_type": "execute_result"
    }
   ],
   "source": [
    "len(duplicated_df[duplicated_df[\"Current Credit Balance\"] == 0]), len(duplicated_df[duplicated_df[\"Current Credit Balance\"].isna()]),\\\n",
    "duplicated_df[\"Current Credit Balance\"].describe().apply(\"{0:.5f}\".format)"
   ],
   "metadata": {
    "collapsed": false,
    "pycharm": {
     "name": "#%%\n"
    }
   }
  },
  {
   "cell_type": "code",
   "execution_count": 137,
   "outputs": [
    {
     "data": {
      "text/plain": "(190,\n 0,\n count        31795.00000\n mean        613216.57688\n std        2165646.15273\n min              0.00000\n 25%         243298.00000\n 50%         424050.00000\n 75%         709544.00000\n max      192284158.00000\n Name: Maximum Open Credit, dtype: object)"
     },
     "execution_count": 137,
     "metadata": {},
     "output_type": "execute_result"
    }
   ],
   "source": [
    "len(duplicated_df[duplicated_df[\"Maximum Open Credit\"] == 0]), len(duplicated_df[duplicated_df[\"Maximum Open Credit\"].isna()]),\\\n",
    "duplicated_df[\"Maximum Open Credit\"].describe().apply(\"{0:.5f}\".format)"
   ],
   "metadata": {
    "collapsed": false,
    "pycharm": {
     "name": "#%%\n"
    }
   }
  },
  {
   "cell_type": "code",
   "execution_count": 138,
   "outputs": [
    {
     "data": {
      "text/plain": "(27669,\n 51,\n count    31744.00000\n mean         0.13779\n std          0.38139\n min          0.00000\n 25%          0.00000\n 50%          0.00000\n 75%          0.00000\n max          6.00000\n Name: Bankruptcies, dtype: object)"
     },
     "execution_count": 138,
     "metadata": {},
     "output_type": "execute_result"
    }
   ],
   "source": [
    "len(duplicated_df[duplicated_df[\"Bankruptcies\"] == 0]), len(duplicated_df[duplicated_df[\"Bankruptcies\"].isna()]),\\\n",
    "duplicated_df[\"Bankruptcies\"].describe().apply(\"{0:.5f}\".format)"
   ],
   "metadata": {
    "collapsed": false,
    "pycharm": {
     "name": "#%%\n"
    }
   }
  },
  {
   "cell_type": "code",
   "execution_count": 139,
   "outputs": [
    {
     "data": {
      "text/plain": "(31019,\n 3,\n count    31792.00000\n mean         0.03598\n std          0.27946\n min          0.00000\n 25%          0.00000\n 50%          0.00000\n 75%          0.00000\n max         11.00000\n Name: Tax Liens, dtype: object)"
     },
     "execution_count": 139,
     "metadata": {},
     "output_type": "execute_result"
    }
   ],
   "source": [
    "len(duplicated_df[duplicated_df[\"Tax Liens\"] == 0]), len(duplicated_df[duplicated_df[\"Tax Liens\"].isna()]),\\\n",
    "duplicated_df[\"Tax Liens\"].describe().apply(\"{0:.5f}\".format)"
   ],
   "metadata": {
    "collapsed": false,
    "pycharm": {
     "name": "#%%\n"
    }
   }
  },
  {
   "cell_type": "code",
   "execution_count": 127,
   "outputs": [
    {
     "data": {
      "text/plain": "Index(['Loan ID', 'Customer ID', 'Loan Status', 'Current Loan Amount', 'Term',\n       'Credit Score', 'Annual Income', 'Years in current job',\n       'Home Ownership', 'Purpose', 'Monthly Debt', 'Years of Credit History',\n       'Months since last delinquent', 'Number of Open Accounts',\n       'Number of Credit Problems', 'Current Credit Balance',\n       'Maximum Open Credit', 'Bankruptcies', 'Tax Liens'],\n      dtype='object')"
     },
     "execution_count": 127,
     "metadata": {},
     "output_type": "execute_result"
    }
   ],
   "source": [
    "duplicated_df.columns"
   ],
   "metadata": {
    "collapsed": false,
    "pycharm": {
     "name": "#%%\n"
    }
   }
  },
  {
   "cell_type": "code",
   "execution_count": 128,
   "outputs": [
    {
     "data": {
      "text/plain": "                                    Loan ID  \\\n59577  00069ff1-a877-4d35-81be-7cd359b99956   \n69442  000bc65a-6a7c-4566-86f3-203b4ec35eca   \n10203  000bc65a-6a7c-4566-86f3-203b4ec35eca   \n3978   000c16df-c24f-41cf-a90e-60301d131bb9   \n98875  000c16df-c24f-41cf-a90e-60301d131bb9   \n\n                                Customer ID Loan Status  Current Loan Amount  \\\n59577  ee3c27f2-766a-499c-9a96-d17c4d2faa16  Fully Paid                31526   \n69442  724bddb4-a23c-4759-ba6f-dc79c7dd5334  Fully Paid               642202   \n10203  724bddb4-a23c-4759-ba6f-dc79c7dd5334  Fully Paid               642202   \n3978   b07c4262-70bb-41cc-b28a-d87540577fb1  Fully Paid               155496   \n98875  b07c4262-70bb-41cc-b28a-d87540577fb1  Fully Paid               155496   \n\n             Term  Credit Score  Annual Income Years in current job  \\\n59577  Short Term         716.0      2065965.0            10+ years   \n69442  Short Term         715.0      1759533.0              2 years   \n10203  Short Term         715.0      1759533.0              2 years   \n3978   Short Term         706.0       664753.0                  NaN   \n98875  Short Term         706.0       664753.0                  NaN   \n\n      Home Ownership             Purpose  Monthly Debt  \\\n59577  Home Mortgage   Home Improvements      49927.44   \n69442           Rent  Debt Consolidation      23020.59   \n10203           Rent  Debt Consolidation      23020.59   \n3978        Own Home               other       8087.92   \n98875       Own Home               other       8087.92   \n\n       Years of Credit History  Months since last delinquent  \\\n59577                     15.1                           5.0   \n69442                     13.8                           NaN   \n10203                     13.8                           NaN   \n3978                      21.3                           NaN   \n98875                     21.3                           NaN   \n\n       Number of Open Accounts  Number of Credit Problems  \\\n59577                       22                          0   \n69442                       11                          0   \n10203                       11                          0   \n3978                         7                          1   \n98875                        7                          1   \n\n       Current Credit Balance  Maximum Open Credit  Bankruptcies  Tax Liens  \n59577                  526414            1090386.0           0.0        0.0  \n69442                  445987             733546.0           0.0        0.0  \n10203                  445987             733546.0           0.0        0.0  \n3978                    79382             150700.0           1.0        0.0  \n98875                   79382             150700.0           1.0        0.0  ",
      "text/html": "<div>\n<style scoped>\n    .dataframe tbody tr th:only-of-type {\n        vertical-align: middle;\n    }\n\n    .dataframe tbody tr th {\n        vertical-align: top;\n    }\n\n    .dataframe thead th {\n        text-align: right;\n    }\n</style>\n<table border=\"1\" class=\"dataframe\">\n  <thead>\n    <tr style=\"text-align: right;\">\n      <th></th>\n      <th>Loan ID</th>\n      <th>Customer ID</th>\n      <th>Loan Status</th>\n      <th>Current Loan Amount</th>\n      <th>Term</th>\n      <th>Credit Score</th>\n      <th>Annual Income</th>\n      <th>Years in current job</th>\n      <th>Home Ownership</th>\n      <th>Purpose</th>\n      <th>Monthly Debt</th>\n      <th>Years of Credit History</th>\n      <th>Months since last delinquent</th>\n      <th>Number of Open Accounts</th>\n      <th>Number of Credit Problems</th>\n      <th>Current Credit Balance</th>\n      <th>Maximum Open Credit</th>\n      <th>Bankruptcies</th>\n      <th>Tax Liens</th>\n    </tr>\n  </thead>\n  <tbody>\n    <tr>\n      <th>59577</th>\n      <td>00069ff1-a877-4d35-81be-7cd359b99956</td>\n      <td>ee3c27f2-766a-499c-9a96-d17c4d2faa16</td>\n      <td>Fully Paid</td>\n      <td>31526</td>\n      <td>Short Term</td>\n      <td>716.0</td>\n      <td>2065965.0</td>\n      <td>10+ years</td>\n      <td>Home Mortgage</td>\n      <td>Home Improvements</td>\n      <td>49927.44</td>\n      <td>15.1</td>\n      <td>5.0</td>\n      <td>22</td>\n      <td>0</td>\n      <td>526414</td>\n      <td>1090386.0</td>\n      <td>0.0</td>\n      <td>0.0</td>\n    </tr>\n    <tr>\n      <th>69442</th>\n      <td>000bc65a-6a7c-4566-86f3-203b4ec35eca</td>\n      <td>724bddb4-a23c-4759-ba6f-dc79c7dd5334</td>\n      <td>Fully Paid</td>\n      <td>642202</td>\n      <td>Short Term</td>\n      <td>715.0</td>\n      <td>1759533.0</td>\n      <td>2 years</td>\n      <td>Rent</td>\n      <td>Debt Consolidation</td>\n      <td>23020.59</td>\n      <td>13.8</td>\n      <td>NaN</td>\n      <td>11</td>\n      <td>0</td>\n      <td>445987</td>\n      <td>733546.0</td>\n      <td>0.0</td>\n      <td>0.0</td>\n    </tr>\n    <tr>\n      <th>10203</th>\n      <td>000bc65a-6a7c-4566-86f3-203b4ec35eca</td>\n      <td>724bddb4-a23c-4759-ba6f-dc79c7dd5334</td>\n      <td>Fully Paid</td>\n      <td>642202</td>\n      <td>Short Term</td>\n      <td>715.0</td>\n      <td>1759533.0</td>\n      <td>2 years</td>\n      <td>Rent</td>\n      <td>Debt Consolidation</td>\n      <td>23020.59</td>\n      <td>13.8</td>\n      <td>NaN</td>\n      <td>11</td>\n      <td>0</td>\n      <td>445987</td>\n      <td>733546.0</td>\n      <td>0.0</td>\n      <td>0.0</td>\n    </tr>\n    <tr>\n      <th>3978</th>\n      <td>000c16df-c24f-41cf-a90e-60301d131bb9</td>\n      <td>b07c4262-70bb-41cc-b28a-d87540577fb1</td>\n      <td>Fully Paid</td>\n      <td>155496</td>\n      <td>Short Term</td>\n      <td>706.0</td>\n      <td>664753.0</td>\n      <td>NaN</td>\n      <td>Own Home</td>\n      <td>other</td>\n      <td>8087.92</td>\n      <td>21.3</td>\n      <td>NaN</td>\n      <td>7</td>\n      <td>1</td>\n      <td>79382</td>\n      <td>150700.0</td>\n      <td>1.0</td>\n      <td>0.0</td>\n    </tr>\n    <tr>\n      <th>98875</th>\n      <td>000c16df-c24f-41cf-a90e-60301d131bb9</td>\n      <td>b07c4262-70bb-41cc-b28a-d87540577fb1</td>\n      <td>Fully Paid</td>\n      <td>155496</td>\n      <td>Short Term</td>\n      <td>706.0</td>\n      <td>664753.0</td>\n      <td>NaN</td>\n      <td>Own Home</td>\n      <td>other</td>\n      <td>8087.92</td>\n      <td>21.3</td>\n      <td>NaN</td>\n      <td>7</td>\n      <td>1</td>\n      <td>79382</td>\n      <td>150700.0</td>\n      <td>1.0</td>\n      <td>0.0</td>\n    </tr>\n  </tbody>\n</table>\n</div>"
     },
     "execution_count": 128,
     "metadata": {},
     "output_type": "execute_result"
    }
   ],
   "source": [
    "duplicated_df.head()"
   ],
   "metadata": {
    "collapsed": false,
    "pycharm": {
     "name": "#%%\n"
    }
   }
  },
  {
   "cell_type": "markdown",
   "source": [
    "## Было замечено несколько следующих проблем:\n",
    "* Некоторые поля Current Loan Amount имеют значения 99999999. Это опечатка или же данные верны\n",
    "* В некоторых записях Monthly Debt (размер ежемесячного платежа по текущим кредитам) равен нулю\n",
    "* Current Credit Balance (суммарный текущий долг) равен нулю\n",
    "* Maximum Open Credit равен нулю\n",
    "* Bankruptcies пустые значения\n",
    "* Tax Liens 3 пустых значения\n",
    "\n"
   ],
   "metadata": {
    "collapsed": false,
    "pycharm": {
     "name": "#%% md\n"
    }
   }
  },
  {
   "cell_type": "markdown",
   "source": [
    "### Проверяем  Current Loan Amount"
   ],
   "metadata": {
    "collapsed": false,
    "pycharm": {
     "name": "#%% md\n"
    }
   }
  },
  {
   "cell_type": "code",
   "execution_count": 142,
   "outputs": [
    {
     "data": {
      "text/plain": "74399    99999999\n88638    99999999\n74423    99999999\n15357    99999999\n96402    99999999\n           ...   \n32159       21472\n79041       21450\n81961       21450\n79169       15422\n19847       15422\nName: Current Loan Amount, Length: 31795, dtype: int64"
     },
     "execution_count": 142,
     "metadata": {},
     "output_type": "execute_result"
    }
   ],
   "source": [
    "duplicated_df[\"Current Loan Amount\"].sort_values(ascending=False)"
   ],
   "metadata": {
    "collapsed": false,
    "pycharm": {
     "name": "#%%\n"
    }
   }
  },
  {
   "cell_type": "code",
   "execution_count": 146,
   "outputs": [
    {
     "data": {
      "text/plain": "3579"
     },
     "execution_count": 146,
     "metadata": {},
     "output_type": "execute_result"
    }
   ],
   "source": [
    "(duplicated_df[\"Current Loan Amount\"] == duplicated_df[\"Current Loan Amount\"].max()).sum()"
   ],
   "metadata": {
    "collapsed": false,
    "pycharm": {
     "name": "#%%\n"
    }
   }
  },
  {
   "cell_type": "code",
   "execution_count": 152,
   "outputs": [
    {
     "data": {
      "text/plain": "                                    Loan ID  \\\n68617  000ea0cb-8d0e-4284-b8c8-444ffbbe4caf   \n5482   001312a5-ed3c-4930-9525-4d09c55ba7f4   \n98000  0031dab0-c21a-4f2f-8a5f-0eb860c4ed2a   \n54650  004b036e-9a85-48d3-acb9-e4a8030244fa   \n7540   007d7fc3-4a85-4526-81c7-7d44d8d65374   \n...                                     ...   \n94354  ff713abe-a76f-4a57-aeb0-6db59c68f5cf   \n60293  ffb6301e-2357-418e-8bbc-4df70161d288   \n67485  ffcdb42b-44ad-4592-a7b2-727a6c336492   \n25544  ffd44cce-181c-4e79-b65f-1c5fa44df3ff   \n92843  ffd506f1-3ebb-485d-b4ee-14e4e71dcbb1   \n\n                                Customer ID Loan Status  Current Loan Amount  \\\n68617  db069b01-22c0-4b77-8b0a-b5704a0fd451  Fully Paid             99999999   \n5482   982e93b2-ded4-443f-a64f-1df15eb9b7cd  Fully Paid             99999999   \n98000  65d14058-a3d2-4e37-b425-c30b658b81c6  Fully Paid             99999999   \n54650  eaf32fa6-4746-4db9-981e-952878094d9b  Fully Paid             99999999   \n7540   007f3a61-d144-4014-ac01-e724dd9cbc01  Fully Paid             99999999   \n...                                     ...         ...                  ...   \n94354  f894019a-6341-49d7-8953-2554a3f8c3ac  Fully Paid             99999999   \n60293  158aba71-2aaa-486c-a913-94421e2859b5  Fully Paid             99999999   \n67485  f759bbc5-e28c-4b40-8203-6e795f1b064d  Fully Paid             99999999   \n25544  eb8e6f9d-5ce2-46b1-946b-4aed14c58b50  Fully Paid             99999999   \n92843  04575f73-6e3d-4511-b7f5-6417e6fc3703  Fully Paid             99999999   \n\n             Term  Credit Score  Annual Income Years in current job  \\\n68617  Short Term         715.0      1642303.0            10+ years   \n5482    Long Term         705.0      2070145.0              6 years   \n98000  Short Term         712.0       887547.0              5 years   \n54650   Long Term         650.0      1280239.0            10+ years   \n7540   Short Term         702.0      1078573.0            10+ years   \n...           ...           ...            ...                  ...   \n94354   Long Term         643.0      1167132.0            10+ years   \n60293  Short Term         723.0      1747962.0              5 years   \n67485   Long Term         706.0       673854.0              5 years   \n25544  Short Term         711.0       870998.0            10+ years   \n92843   Long Term         703.0       673550.0            10+ years   \n\n      Home Ownership             Purpose  Monthly Debt  \\\n68617           Rent  Debt Consolidation      41878.47   \n5482   Home Mortgage      major_purchase      16785.55   \n98000           Rent  Debt Consolidation      16197.69   \n54650  Home Mortgage               other      26885.19   \n7540   Home Mortgage       Business Loan       6912.01   \n...              ...                 ...           ...   \n94354  Home Mortgage  Debt Consolidation      30734.40   \n60293           Rent  Debt Consolidation      38018.24   \n67485           Rent  Debt Consolidation      12129.22   \n25544       Own Home  Debt Consolidation       8492.05   \n92843  Home Mortgage  Debt Consolidation       8604.53   \n\n       Years of Credit History  Months since last delinquent  \\\n68617                     18.0                           NaN   \n5482                      23.6                          54.0   \n98000                     19.4                          14.0   \n54650                     17.3                           NaN   \n7540                       7.4                           NaN   \n...                        ...                           ...   \n94354                     19.8                          14.0   \n60293                     16.6                           NaN   \n67485                     13.0                           NaN   \n25544                     18.5                           NaN   \n92843                     23.6                          50.0   \n\n       Number of Open Accounts  Number of Credit Problems  \\\n68617                       22                          0   \n5482                        10                          1   \n98000                       29                          0   \n54650                       11                          0   \n7540                         6                          0   \n...                        ...                        ...   \n94354                       11                          0   \n60293                        8                          0   \n67485                       11                          0   \n25544                        8                          0   \n92843                       10                          1   \n\n       Current Credit Balance  Maximum Open Credit  Bankruptcies  Tax Liens  \n68617                  401565             756052.0           0.0        0.0  \n5482                   169214             473242.0           1.0        0.0  \n98000                  191292             339724.0           0.0        0.0  \n54650                  495216             894542.0           0.0        0.0  \n7540                   100358             129426.0           0.0        0.0  \n...                       ...                  ...           ...        ...  \n94354                  272954             529386.0           0.0        0.0  \n60293                   53010             276452.0           0.0        0.0  \n67485                  316654             689172.0           0.0        0.0  \n25544                  282739             387904.0           0.0        0.0  \n92843                  205561             398046.0           1.0        0.0  \n\n[3579 rows x 19 columns]",
      "text/html": "<div>\n<style scoped>\n    .dataframe tbody tr th:only-of-type {\n        vertical-align: middle;\n    }\n\n    .dataframe tbody tr th {\n        vertical-align: top;\n    }\n\n    .dataframe thead th {\n        text-align: right;\n    }\n</style>\n<table border=\"1\" class=\"dataframe\">\n  <thead>\n    <tr style=\"text-align: right;\">\n      <th></th>\n      <th>Loan ID</th>\n      <th>Customer ID</th>\n      <th>Loan Status</th>\n      <th>Current Loan Amount</th>\n      <th>Term</th>\n      <th>Credit Score</th>\n      <th>Annual Income</th>\n      <th>Years in current job</th>\n      <th>Home Ownership</th>\n      <th>Purpose</th>\n      <th>Monthly Debt</th>\n      <th>Years of Credit History</th>\n      <th>Months since last delinquent</th>\n      <th>Number of Open Accounts</th>\n      <th>Number of Credit Problems</th>\n      <th>Current Credit Balance</th>\n      <th>Maximum Open Credit</th>\n      <th>Bankruptcies</th>\n      <th>Tax Liens</th>\n    </tr>\n  </thead>\n  <tbody>\n    <tr>\n      <th>68617</th>\n      <td>000ea0cb-8d0e-4284-b8c8-444ffbbe4caf</td>\n      <td>db069b01-22c0-4b77-8b0a-b5704a0fd451</td>\n      <td>Fully Paid</td>\n      <td>99999999</td>\n      <td>Short Term</td>\n      <td>715.0</td>\n      <td>1642303.0</td>\n      <td>10+ years</td>\n      <td>Rent</td>\n      <td>Debt Consolidation</td>\n      <td>41878.47</td>\n      <td>18.0</td>\n      <td>NaN</td>\n      <td>22</td>\n      <td>0</td>\n      <td>401565</td>\n      <td>756052.0</td>\n      <td>0.0</td>\n      <td>0.0</td>\n    </tr>\n    <tr>\n      <th>5482</th>\n      <td>001312a5-ed3c-4930-9525-4d09c55ba7f4</td>\n      <td>982e93b2-ded4-443f-a64f-1df15eb9b7cd</td>\n      <td>Fully Paid</td>\n      <td>99999999</td>\n      <td>Long Term</td>\n      <td>705.0</td>\n      <td>2070145.0</td>\n      <td>6 years</td>\n      <td>Home Mortgage</td>\n      <td>major_purchase</td>\n      <td>16785.55</td>\n      <td>23.6</td>\n      <td>54.0</td>\n      <td>10</td>\n      <td>1</td>\n      <td>169214</td>\n      <td>473242.0</td>\n      <td>1.0</td>\n      <td>0.0</td>\n    </tr>\n    <tr>\n      <th>98000</th>\n      <td>0031dab0-c21a-4f2f-8a5f-0eb860c4ed2a</td>\n      <td>65d14058-a3d2-4e37-b425-c30b658b81c6</td>\n      <td>Fully Paid</td>\n      <td>99999999</td>\n      <td>Short Term</td>\n      <td>712.0</td>\n      <td>887547.0</td>\n      <td>5 years</td>\n      <td>Rent</td>\n      <td>Debt Consolidation</td>\n      <td>16197.69</td>\n      <td>19.4</td>\n      <td>14.0</td>\n      <td>29</td>\n      <td>0</td>\n      <td>191292</td>\n      <td>339724.0</td>\n      <td>0.0</td>\n      <td>0.0</td>\n    </tr>\n    <tr>\n      <th>54650</th>\n      <td>004b036e-9a85-48d3-acb9-e4a8030244fa</td>\n      <td>eaf32fa6-4746-4db9-981e-952878094d9b</td>\n      <td>Fully Paid</td>\n      <td>99999999</td>\n      <td>Long Term</td>\n      <td>650.0</td>\n      <td>1280239.0</td>\n      <td>10+ years</td>\n      <td>Home Mortgage</td>\n      <td>other</td>\n      <td>26885.19</td>\n      <td>17.3</td>\n      <td>NaN</td>\n      <td>11</td>\n      <td>0</td>\n      <td>495216</td>\n      <td>894542.0</td>\n      <td>0.0</td>\n      <td>0.0</td>\n    </tr>\n    <tr>\n      <th>7540</th>\n      <td>007d7fc3-4a85-4526-81c7-7d44d8d65374</td>\n      <td>007f3a61-d144-4014-ac01-e724dd9cbc01</td>\n      <td>Fully Paid</td>\n      <td>99999999</td>\n      <td>Short Term</td>\n      <td>702.0</td>\n      <td>1078573.0</td>\n      <td>10+ years</td>\n      <td>Home Mortgage</td>\n      <td>Business Loan</td>\n      <td>6912.01</td>\n      <td>7.4</td>\n      <td>NaN</td>\n      <td>6</td>\n      <td>0</td>\n      <td>100358</td>\n      <td>129426.0</td>\n      <td>0.0</td>\n      <td>0.0</td>\n    </tr>\n    <tr>\n      <th>...</th>\n      <td>...</td>\n      <td>...</td>\n      <td>...</td>\n      <td>...</td>\n      <td>...</td>\n      <td>...</td>\n      <td>...</td>\n      <td>...</td>\n      <td>...</td>\n      <td>...</td>\n      <td>...</td>\n      <td>...</td>\n      <td>...</td>\n      <td>...</td>\n      <td>...</td>\n      <td>...</td>\n      <td>...</td>\n      <td>...</td>\n      <td>...</td>\n    </tr>\n    <tr>\n      <th>94354</th>\n      <td>ff713abe-a76f-4a57-aeb0-6db59c68f5cf</td>\n      <td>f894019a-6341-49d7-8953-2554a3f8c3ac</td>\n      <td>Fully Paid</td>\n      <td>99999999</td>\n      <td>Long Term</td>\n      <td>643.0</td>\n      <td>1167132.0</td>\n      <td>10+ years</td>\n      <td>Home Mortgage</td>\n      <td>Debt Consolidation</td>\n      <td>30734.40</td>\n      <td>19.8</td>\n      <td>14.0</td>\n      <td>11</td>\n      <td>0</td>\n      <td>272954</td>\n      <td>529386.0</td>\n      <td>0.0</td>\n      <td>0.0</td>\n    </tr>\n    <tr>\n      <th>60293</th>\n      <td>ffb6301e-2357-418e-8bbc-4df70161d288</td>\n      <td>158aba71-2aaa-486c-a913-94421e2859b5</td>\n      <td>Fully Paid</td>\n      <td>99999999</td>\n      <td>Short Term</td>\n      <td>723.0</td>\n      <td>1747962.0</td>\n      <td>5 years</td>\n      <td>Rent</td>\n      <td>Debt Consolidation</td>\n      <td>38018.24</td>\n      <td>16.6</td>\n      <td>NaN</td>\n      <td>8</td>\n      <td>0</td>\n      <td>53010</td>\n      <td>276452.0</td>\n      <td>0.0</td>\n      <td>0.0</td>\n    </tr>\n    <tr>\n      <th>67485</th>\n      <td>ffcdb42b-44ad-4592-a7b2-727a6c336492</td>\n      <td>f759bbc5-e28c-4b40-8203-6e795f1b064d</td>\n      <td>Fully Paid</td>\n      <td>99999999</td>\n      <td>Long Term</td>\n      <td>706.0</td>\n      <td>673854.0</td>\n      <td>5 years</td>\n      <td>Rent</td>\n      <td>Debt Consolidation</td>\n      <td>12129.22</td>\n      <td>13.0</td>\n      <td>NaN</td>\n      <td>11</td>\n      <td>0</td>\n      <td>316654</td>\n      <td>689172.0</td>\n      <td>0.0</td>\n      <td>0.0</td>\n    </tr>\n    <tr>\n      <th>25544</th>\n      <td>ffd44cce-181c-4e79-b65f-1c5fa44df3ff</td>\n      <td>eb8e6f9d-5ce2-46b1-946b-4aed14c58b50</td>\n      <td>Fully Paid</td>\n      <td>99999999</td>\n      <td>Short Term</td>\n      <td>711.0</td>\n      <td>870998.0</td>\n      <td>10+ years</td>\n      <td>Own Home</td>\n      <td>Debt Consolidation</td>\n      <td>8492.05</td>\n      <td>18.5</td>\n      <td>NaN</td>\n      <td>8</td>\n      <td>0</td>\n      <td>282739</td>\n      <td>387904.0</td>\n      <td>0.0</td>\n      <td>0.0</td>\n    </tr>\n    <tr>\n      <th>92843</th>\n      <td>ffd506f1-3ebb-485d-b4ee-14e4e71dcbb1</td>\n      <td>04575f73-6e3d-4511-b7f5-6417e6fc3703</td>\n      <td>Fully Paid</td>\n      <td>99999999</td>\n      <td>Long Term</td>\n      <td>703.0</td>\n      <td>673550.0</td>\n      <td>10+ years</td>\n      <td>Home Mortgage</td>\n      <td>Debt Consolidation</td>\n      <td>8604.53</td>\n      <td>23.6</td>\n      <td>50.0</td>\n      <td>10</td>\n      <td>1</td>\n      <td>205561</td>\n      <td>398046.0</td>\n      <td>1.0</td>\n      <td>0.0</td>\n    </tr>\n  </tbody>\n</table>\n<p>3579 rows × 19 columns</p>\n</div>"
     },
     "execution_count": 152,
     "metadata": {},
     "output_type": "execute_result"
    }
   ],
   "source": [
    "duplicated_df[duplicated_df[\"Current Loan Amount\"] == duplicated_df[\"Current Loan Amount\"].max()]"
   ],
   "metadata": {
    "collapsed": false,
    "pycharm": {
     "name": "#%%\n"
    }
   }
  },
  {
   "cell_type": "code",
   "execution_count": 156,
   "outputs": [
    {
     "data": {
      "text/plain": "1364489.7194747136"
     },
     "execution_count": 156,
     "metadata": {},
     "output_type": "execute_result"
    }
   ],
   "source": [
    "duplicated_df[duplicated_df[\"Current Loan Amount\"] == duplicated_df[\"Current Loan Amount\"].max()][\"Annual Income\"].mean()"
   ],
   "metadata": {
    "collapsed": false,
    "pycharm": {
     "name": "#%%\n"
    }
   }
  },
  {
   "cell_type": "code",
   "execution_count": 157,
   "outputs": [
    {
     "data": {
      "text/plain": "718.0"
     },
     "execution_count": 157,
     "metadata": {},
     "output_type": "execute_result"
    }
   ],
   "source": [
    "duplicated_df[duplicated_df[\"Current Loan Amount\"] == duplicated_df[\"Current Loan Amount\"].min()][\"Credit Score\"].mean()"
   ],
   "metadata": {
    "collapsed": false,
    "pycharm": {
     "name": "#%%\n"
    }
   }
  },
  {
   "cell_type": "code",
   "execution_count": 162,
   "outputs": [],
   "source": [
    "loan_ids_with_max_loan_amount = duplicated_df[duplicated_df[\"Current Loan Amount\"] == duplicated_df[\"Current Loan Amount\"].max()][\"Loan ID\"]"
   ],
   "metadata": {
    "collapsed": false,
    "pycharm": {
     "name": "#%%\n"
    }
   }
  },
  {
   "cell_type": "code",
   "execution_count": 168,
   "outputs": [
    {
     "data": {
      "text/plain": "                                    Loan ID  \\\n12966  000ea0cb-8d0e-4284-b8c8-444ffbbe4caf   \n68617  000ea0cb-8d0e-4284-b8c8-444ffbbe4caf   \n5482   001312a5-ed3c-4930-9525-4d09c55ba7f4   \n51941  001312a5-ed3c-4930-9525-4d09c55ba7f4   \n98000  0031dab0-c21a-4f2f-8a5f-0eb860c4ed2a   \n...                                     ...   \n22670  ffcdb42b-44ad-4592-a7b2-727a6c336492   \n80465  ffd44cce-181c-4e79-b65f-1c5fa44df3ff   \n25544  ffd44cce-181c-4e79-b65f-1c5fa44df3ff   \n92843  ffd506f1-3ebb-485d-b4ee-14e4e71dcbb1   \n4992   ffd506f1-3ebb-485d-b4ee-14e4e71dcbb1   \n\n                                Customer ID Loan Status  Current Loan Amount  \\\n12966  db069b01-22c0-4b77-8b0a-b5704a0fd451  Fully Paid               463650   \n68617  db069b01-22c0-4b77-8b0a-b5704a0fd451  Fully Paid             99999999   \n5482   982e93b2-ded4-443f-a64f-1df15eb9b7cd  Fully Paid             99999999   \n51941  982e93b2-ded4-443f-a64f-1df15eb9b7cd  Fully Paid               762696   \n98000  65d14058-a3d2-4e37-b425-c30b658b81c6  Fully Paid             99999999   \n...                                     ...         ...                  ...   \n22670  f759bbc5-e28c-4b40-8203-6e795f1b064d  Fully Paid               295372   \n80465  eb8e6f9d-5ce2-46b1-946b-4aed14c58b50  Fully Paid               341770   \n25544  eb8e6f9d-5ce2-46b1-946b-4aed14c58b50  Fully Paid             99999999   \n92843  04575f73-6e3d-4511-b7f5-6417e6fc3703  Fully Paid             99999999   \n4992   04575f73-6e3d-4511-b7f5-6417e6fc3703  Fully Paid               345884   \n\n             Term  Credit Score  Annual Income Years in current job  \\\n12966  Short Term         715.0      1642303.0            10+ years   \n68617  Short Term         715.0      1642303.0            10+ years   \n5482    Long Term         705.0      2070145.0              6 years   \n51941   Long Term         705.0      2070145.0              6 years   \n98000  Short Term         712.0       887547.0              5 years   \n...           ...           ...            ...                  ...   \n22670   Long Term         706.0       673854.0              5 years   \n80465  Short Term         711.0       870998.0            10+ years   \n25544  Short Term         711.0       870998.0            10+ years   \n92843   Long Term         703.0       673550.0            10+ years   \n4992    Long Term         703.0       673550.0            10+ years   \n\n      Home Ownership             Purpose  Monthly Debt  \\\n12966           Rent  Debt Consolidation      41878.47   \n68617           Rent  Debt Consolidation      41878.47   \n5482   Home Mortgage      major_purchase      16785.55   \n51941  Home Mortgage      major_purchase      16785.55   \n98000           Rent  Debt Consolidation      16197.69   \n...              ...                 ...           ...   \n22670           Rent  Debt Consolidation      12129.22   \n80465       Own Home  Debt Consolidation       8492.05   \n25544       Own Home  Debt Consolidation       8492.05   \n92843  Home Mortgage  Debt Consolidation       8604.53   \n4992   Home Mortgage  Debt Consolidation       8604.53   \n\n       Years of Credit History  Months since last delinquent  \\\n12966                     18.0                           NaN   \n68617                     18.0                           NaN   \n5482                      23.6                          54.0   \n51941                     23.6                          54.0   \n98000                     19.4                          14.0   \n...                        ...                           ...   \n22670                     13.0                           NaN   \n80465                     18.5                           NaN   \n25544                     18.5                           NaN   \n92843                     23.6                          50.0   \n4992                      23.6                          50.0   \n\n       Number of Open Accounts  Number of Credit Problems  \\\n12966                       22                          0   \n68617                       22                          0   \n5482                        10                          1   \n51941                       10                          1   \n98000                       29                          0   \n...                        ...                        ...   \n22670                       11                          0   \n80465                        8                          0   \n25544                        8                          0   \n92843                       10                          1   \n4992                        10                          1   \n\n       Current Credit Balance  Maximum Open Credit  Bankruptcies  Tax Liens  \n12966                  401565             756052.0           0.0        0.0  \n68617                  401565             756052.0           0.0        0.0  \n5482                   169214             473242.0           1.0        0.0  \n51941                  169214             473242.0           1.0        0.0  \n98000                  191292             339724.0           0.0        0.0  \n...                       ...                  ...           ...        ...  \n22670                  316654             689172.0           0.0        0.0  \n80465                  282739             387904.0           0.0        0.0  \n25544                  282739             387904.0           0.0        0.0  \n92843                  205561             398046.0           1.0        0.0  \n4992                   205561             398046.0           1.0        0.0  \n\n[7158 rows x 19 columns]",
      "text/html": "<div>\n<style scoped>\n    .dataframe tbody tr th:only-of-type {\n        vertical-align: middle;\n    }\n\n    .dataframe tbody tr th {\n        vertical-align: top;\n    }\n\n    .dataframe thead th {\n        text-align: right;\n    }\n</style>\n<table border=\"1\" class=\"dataframe\">\n  <thead>\n    <tr style=\"text-align: right;\">\n      <th></th>\n      <th>Loan ID</th>\n      <th>Customer ID</th>\n      <th>Loan Status</th>\n      <th>Current Loan Amount</th>\n      <th>Term</th>\n      <th>Credit Score</th>\n      <th>Annual Income</th>\n      <th>Years in current job</th>\n      <th>Home Ownership</th>\n      <th>Purpose</th>\n      <th>Monthly Debt</th>\n      <th>Years of Credit History</th>\n      <th>Months since last delinquent</th>\n      <th>Number of Open Accounts</th>\n      <th>Number of Credit Problems</th>\n      <th>Current Credit Balance</th>\n      <th>Maximum Open Credit</th>\n      <th>Bankruptcies</th>\n      <th>Tax Liens</th>\n    </tr>\n  </thead>\n  <tbody>\n    <tr>\n      <th>12966</th>\n      <td>000ea0cb-8d0e-4284-b8c8-444ffbbe4caf</td>\n      <td>db069b01-22c0-4b77-8b0a-b5704a0fd451</td>\n      <td>Fully Paid</td>\n      <td>463650</td>\n      <td>Short Term</td>\n      <td>715.0</td>\n      <td>1642303.0</td>\n      <td>10+ years</td>\n      <td>Rent</td>\n      <td>Debt Consolidation</td>\n      <td>41878.47</td>\n      <td>18.0</td>\n      <td>NaN</td>\n      <td>22</td>\n      <td>0</td>\n      <td>401565</td>\n      <td>756052.0</td>\n      <td>0.0</td>\n      <td>0.0</td>\n    </tr>\n    <tr>\n      <th>68617</th>\n      <td>000ea0cb-8d0e-4284-b8c8-444ffbbe4caf</td>\n      <td>db069b01-22c0-4b77-8b0a-b5704a0fd451</td>\n      <td>Fully Paid</td>\n      <td>99999999</td>\n      <td>Short Term</td>\n      <td>715.0</td>\n      <td>1642303.0</td>\n      <td>10+ years</td>\n      <td>Rent</td>\n      <td>Debt Consolidation</td>\n      <td>41878.47</td>\n      <td>18.0</td>\n      <td>NaN</td>\n      <td>22</td>\n      <td>0</td>\n      <td>401565</td>\n      <td>756052.0</td>\n      <td>0.0</td>\n      <td>0.0</td>\n    </tr>\n    <tr>\n      <th>5482</th>\n      <td>001312a5-ed3c-4930-9525-4d09c55ba7f4</td>\n      <td>982e93b2-ded4-443f-a64f-1df15eb9b7cd</td>\n      <td>Fully Paid</td>\n      <td>99999999</td>\n      <td>Long Term</td>\n      <td>705.0</td>\n      <td>2070145.0</td>\n      <td>6 years</td>\n      <td>Home Mortgage</td>\n      <td>major_purchase</td>\n      <td>16785.55</td>\n      <td>23.6</td>\n      <td>54.0</td>\n      <td>10</td>\n      <td>1</td>\n      <td>169214</td>\n      <td>473242.0</td>\n      <td>1.0</td>\n      <td>0.0</td>\n    </tr>\n    <tr>\n      <th>51941</th>\n      <td>001312a5-ed3c-4930-9525-4d09c55ba7f4</td>\n      <td>982e93b2-ded4-443f-a64f-1df15eb9b7cd</td>\n      <td>Fully Paid</td>\n      <td>762696</td>\n      <td>Long Term</td>\n      <td>705.0</td>\n      <td>2070145.0</td>\n      <td>6 years</td>\n      <td>Home Mortgage</td>\n      <td>major_purchase</td>\n      <td>16785.55</td>\n      <td>23.6</td>\n      <td>54.0</td>\n      <td>10</td>\n      <td>1</td>\n      <td>169214</td>\n      <td>473242.0</td>\n      <td>1.0</td>\n      <td>0.0</td>\n    </tr>\n    <tr>\n      <th>98000</th>\n      <td>0031dab0-c21a-4f2f-8a5f-0eb860c4ed2a</td>\n      <td>65d14058-a3d2-4e37-b425-c30b658b81c6</td>\n      <td>Fully Paid</td>\n      <td>99999999</td>\n      <td>Short Term</td>\n      <td>712.0</td>\n      <td>887547.0</td>\n      <td>5 years</td>\n      <td>Rent</td>\n      <td>Debt Consolidation</td>\n      <td>16197.69</td>\n      <td>19.4</td>\n      <td>14.0</td>\n      <td>29</td>\n      <td>0</td>\n      <td>191292</td>\n      <td>339724.0</td>\n      <td>0.0</td>\n      <td>0.0</td>\n    </tr>\n    <tr>\n      <th>...</th>\n      <td>...</td>\n      <td>...</td>\n      <td>...</td>\n      <td>...</td>\n      <td>...</td>\n      <td>...</td>\n      <td>...</td>\n      <td>...</td>\n      <td>...</td>\n      <td>...</td>\n      <td>...</td>\n      <td>...</td>\n      <td>...</td>\n      <td>...</td>\n      <td>...</td>\n      <td>...</td>\n      <td>...</td>\n      <td>...</td>\n      <td>...</td>\n    </tr>\n    <tr>\n      <th>22670</th>\n      <td>ffcdb42b-44ad-4592-a7b2-727a6c336492</td>\n      <td>f759bbc5-e28c-4b40-8203-6e795f1b064d</td>\n      <td>Fully Paid</td>\n      <td>295372</td>\n      <td>Long Term</td>\n      <td>706.0</td>\n      <td>673854.0</td>\n      <td>5 years</td>\n      <td>Rent</td>\n      <td>Debt Consolidation</td>\n      <td>12129.22</td>\n      <td>13.0</td>\n      <td>NaN</td>\n      <td>11</td>\n      <td>0</td>\n      <td>316654</td>\n      <td>689172.0</td>\n      <td>0.0</td>\n      <td>0.0</td>\n    </tr>\n    <tr>\n      <th>80465</th>\n      <td>ffd44cce-181c-4e79-b65f-1c5fa44df3ff</td>\n      <td>eb8e6f9d-5ce2-46b1-946b-4aed14c58b50</td>\n      <td>Fully Paid</td>\n      <td>341770</td>\n      <td>Short Term</td>\n      <td>711.0</td>\n      <td>870998.0</td>\n      <td>10+ years</td>\n      <td>Own Home</td>\n      <td>Debt Consolidation</td>\n      <td>8492.05</td>\n      <td>18.5</td>\n      <td>NaN</td>\n      <td>8</td>\n      <td>0</td>\n      <td>282739</td>\n      <td>387904.0</td>\n      <td>0.0</td>\n      <td>0.0</td>\n    </tr>\n    <tr>\n      <th>25544</th>\n      <td>ffd44cce-181c-4e79-b65f-1c5fa44df3ff</td>\n      <td>eb8e6f9d-5ce2-46b1-946b-4aed14c58b50</td>\n      <td>Fully Paid</td>\n      <td>99999999</td>\n      <td>Short Term</td>\n      <td>711.0</td>\n      <td>870998.0</td>\n      <td>10+ years</td>\n      <td>Own Home</td>\n      <td>Debt Consolidation</td>\n      <td>8492.05</td>\n      <td>18.5</td>\n      <td>NaN</td>\n      <td>8</td>\n      <td>0</td>\n      <td>282739</td>\n      <td>387904.0</td>\n      <td>0.0</td>\n      <td>0.0</td>\n    </tr>\n    <tr>\n      <th>92843</th>\n      <td>ffd506f1-3ebb-485d-b4ee-14e4e71dcbb1</td>\n      <td>04575f73-6e3d-4511-b7f5-6417e6fc3703</td>\n      <td>Fully Paid</td>\n      <td>99999999</td>\n      <td>Long Term</td>\n      <td>703.0</td>\n      <td>673550.0</td>\n      <td>10+ years</td>\n      <td>Home Mortgage</td>\n      <td>Debt Consolidation</td>\n      <td>8604.53</td>\n      <td>23.6</td>\n      <td>50.0</td>\n      <td>10</td>\n      <td>1</td>\n      <td>205561</td>\n      <td>398046.0</td>\n      <td>1.0</td>\n      <td>0.0</td>\n    </tr>\n    <tr>\n      <th>4992</th>\n      <td>ffd506f1-3ebb-485d-b4ee-14e4e71dcbb1</td>\n      <td>04575f73-6e3d-4511-b7f5-6417e6fc3703</td>\n      <td>Fully Paid</td>\n      <td>345884</td>\n      <td>Long Term</td>\n      <td>703.0</td>\n      <td>673550.0</td>\n      <td>10+ years</td>\n      <td>Home Mortgage</td>\n      <td>Debt Consolidation</td>\n      <td>8604.53</td>\n      <td>23.6</td>\n      <td>50.0</td>\n      <td>10</td>\n      <td>1</td>\n      <td>205561</td>\n      <td>398046.0</td>\n      <td>1.0</td>\n      <td>0.0</td>\n    </tr>\n  </tbody>\n</table>\n<p>7158 rows × 19 columns</p>\n</div>"
     },
     "execution_count": 168,
     "metadata": {},
     "output_type": "execute_result"
    }
   ],
   "source": [
    "duplicated_where_curr_loan_is_max = duplicated_df[duplicated_df[\"Loan ID\"].isin(loan_ids_with_max_loan_amount)]\n",
    "duplicated_where_curr_loan_is_max"
   ],
   "metadata": {
    "collapsed": false,
    "pycharm": {
     "name": "#%%\n"
    }
   }
  },
  {
   "cell_type": "code",
   "execution_count": 170,
   "outputs": [
    {
     "data": {
      "text/plain": "3579.0"
     },
     "execution_count": 170,
     "metadata": {},
     "output_type": "execute_result"
    }
   ],
   "source": [
    "len(duplicated_where_curr_loan_is_max)/2"
   ],
   "metadata": {
    "collapsed": false,
    "pycharm": {
     "name": "#%%\n"
    }
   }
  },
  {
   "cell_type": "code",
   "execution_count": 176,
   "outputs": [
    {
     "data": {
      "text/plain": "3579"
     },
     "execution_count": 176,
     "metadata": {},
     "output_type": "execute_result"
    }
   ],
   "source": [
    "duplicated_df[duplicated_df[\"Current Loan Amount\"] == duplicated_df[\"Current Loan Amount\"].max()].sort_values(by=\"Loan ID\")[\"Loan ID\"].nunique()"
   ],
   "metadata": {
    "collapsed": false,
    "pycharm": {
     "name": "#%%\n"
    }
   }
  },
  {
   "cell_type": "code",
   "execution_count": 178,
   "outputs": [
    {
     "data": {
      "text/plain": "                                    Loan ID  \\\n68617  000ea0cb-8d0e-4284-b8c8-444ffbbe4caf   \n5482   001312a5-ed3c-4930-9525-4d09c55ba7f4   \n98000  0031dab0-c21a-4f2f-8a5f-0eb860c4ed2a   \n54650  004b036e-9a85-48d3-acb9-e4a8030244fa   \n7540   007d7fc3-4a85-4526-81c7-7d44d8d65374   \n...                                     ...   \n94354  ff713abe-a76f-4a57-aeb0-6db59c68f5cf   \n60293  ffb6301e-2357-418e-8bbc-4df70161d288   \n67485  ffcdb42b-44ad-4592-a7b2-727a6c336492   \n25544  ffd44cce-181c-4e79-b65f-1c5fa44df3ff   \n92843  ffd506f1-3ebb-485d-b4ee-14e4e71dcbb1   \n\n                                Customer ID Loan Status  Current Loan Amount  \\\n68617  db069b01-22c0-4b77-8b0a-b5704a0fd451  Fully Paid             99999999   \n5482   982e93b2-ded4-443f-a64f-1df15eb9b7cd  Fully Paid             99999999   \n98000  65d14058-a3d2-4e37-b425-c30b658b81c6  Fully Paid             99999999   \n54650  eaf32fa6-4746-4db9-981e-952878094d9b  Fully Paid             99999999   \n7540   007f3a61-d144-4014-ac01-e724dd9cbc01  Fully Paid             99999999   \n...                                     ...         ...                  ...   \n94354  f894019a-6341-49d7-8953-2554a3f8c3ac  Fully Paid             99999999   \n60293  158aba71-2aaa-486c-a913-94421e2859b5  Fully Paid             99999999   \n67485  f759bbc5-e28c-4b40-8203-6e795f1b064d  Fully Paid             99999999   \n25544  eb8e6f9d-5ce2-46b1-946b-4aed14c58b50  Fully Paid             99999999   \n92843  04575f73-6e3d-4511-b7f5-6417e6fc3703  Fully Paid             99999999   \n\n             Term  Credit Score  Annual Income Years in current job  \\\n68617  Short Term         715.0      1642303.0            10+ years   \n5482    Long Term         705.0      2070145.0              6 years   \n98000  Short Term         712.0       887547.0              5 years   \n54650   Long Term         650.0      1280239.0            10+ years   \n7540   Short Term         702.0      1078573.0            10+ years   \n...           ...           ...            ...                  ...   \n94354   Long Term         643.0      1167132.0            10+ years   \n60293  Short Term         723.0      1747962.0              5 years   \n67485   Long Term         706.0       673854.0              5 years   \n25544  Short Term         711.0       870998.0            10+ years   \n92843   Long Term         703.0       673550.0            10+ years   \n\n      Home Ownership             Purpose  Monthly Debt  \\\n68617           Rent  Debt Consolidation      41878.47   \n5482   Home Mortgage      major_purchase      16785.55   \n98000           Rent  Debt Consolidation      16197.69   \n54650  Home Mortgage               other      26885.19   \n7540   Home Mortgage       Business Loan       6912.01   \n...              ...                 ...           ...   \n94354  Home Mortgage  Debt Consolidation      30734.40   \n60293           Rent  Debt Consolidation      38018.24   \n67485           Rent  Debt Consolidation      12129.22   \n25544       Own Home  Debt Consolidation       8492.05   \n92843  Home Mortgage  Debt Consolidation       8604.53   \n\n       Years of Credit History  Months since last delinquent  \\\n68617                     18.0                           NaN   \n5482                      23.6                          54.0   \n98000                     19.4                          14.0   \n54650                     17.3                           NaN   \n7540                       7.4                           NaN   \n...                        ...                           ...   \n94354                     19.8                          14.0   \n60293                     16.6                           NaN   \n67485                     13.0                           NaN   \n25544                     18.5                           NaN   \n92843                     23.6                          50.0   \n\n       Number of Open Accounts  Number of Credit Problems  \\\n68617                       22                          0   \n5482                        10                          1   \n98000                       29                          0   \n54650                       11                          0   \n7540                         6                          0   \n...                        ...                        ...   \n94354                       11                          0   \n60293                        8                          0   \n67485                       11                          0   \n25544                        8                          0   \n92843                       10                          1   \n\n       Current Credit Balance  Maximum Open Credit  Bankruptcies  Tax Liens  \n68617                  401565             756052.0           0.0        0.0  \n5482                   169214             473242.0           1.0        0.0  \n98000                  191292             339724.0           0.0        0.0  \n54650                  495216             894542.0           0.0        0.0  \n7540                   100358             129426.0           0.0        0.0  \n...                       ...                  ...           ...        ...  \n94354                  272954             529386.0           0.0        0.0  \n60293                   53010             276452.0           0.0        0.0  \n67485                  316654             689172.0           0.0        0.0  \n25544                  282739             387904.0           0.0        0.0  \n92843                  205561             398046.0           1.0        0.0  \n\n[3579 rows x 19 columns]",
      "text/html": "<div>\n<style scoped>\n    .dataframe tbody tr th:only-of-type {\n        vertical-align: middle;\n    }\n\n    .dataframe tbody tr th {\n        vertical-align: top;\n    }\n\n    .dataframe thead th {\n        text-align: right;\n    }\n</style>\n<table border=\"1\" class=\"dataframe\">\n  <thead>\n    <tr style=\"text-align: right;\">\n      <th></th>\n      <th>Loan ID</th>\n      <th>Customer ID</th>\n      <th>Loan Status</th>\n      <th>Current Loan Amount</th>\n      <th>Term</th>\n      <th>Credit Score</th>\n      <th>Annual Income</th>\n      <th>Years in current job</th>\n      <th>Home Ownership</th>\n      <th>Purpose</th>\n      <th>Monthly Debt</th>\n      <th>Years of Credit History</th>\n      <th>Months since last delinquent</th>\n      <th>Number of Open Accounts</th>\n      <th>Number of Credit Problems</th>\n      <th>Current Credit Balance</th>\n      <th>Maximum Open Credit</th>\n      <th>Bankruptcies</th>\n      <th>Tax Liens</th>\n    </tr>\n  </thead>\n  <tbody>\n    <tr>\n      <th>68617</th>\n      <td>000ea0cb-8d0e-4284-b8c8-444ffbbe4caf</td>\n      <td>db069b01-22c0-4b77-8b0a-b5704a0fd451</td>\n      <td>Fully Paid</td>\n      <td>99999999</td>\n      <td>Short Term</td>\n      <td>715.0</td>\n      <td>1642303.0</td>\n      <td>10+ years</td>\n      <td>Rent</td>\n      <td>Debt Consolidation</td>\n      <td>41878.47</td>\n      <td>18.0</td>\n      <td>NaN</td>\n      <td>22</td>\n      <td>0</td>\n      <td>401565</td>\n      <td>756052.0</td>\n      <td>0.0</td>\n      <td>0.0</td>\n    </tr>\n    <tr>\n      <th>5482</th>\n      <td>001312a5-ed3c-4930-9525-4d09c55ba7f4</td>\n      <td>982e93b2-ded4-443f-a64f-1df15eb9b7cd</td>\n      <td>Fully Paid</td>\n      <td>99999999</td>\n      <td>Long Term</td>\n      <td>705.0</td>\n      <td>2070145.0</td>\n      <td>6 years</td>\n      <td>Home Mortgage</td>\n      <td>major_purchase</td>\n      <td>16785.55</td>\n      <td>23.6</td>\n      <td>54.0</td>\n      <td>10</td>\n      <td>1</td>\n      <td>169214</td>\n      <td>473242.0</td>\n      <td>1.0</td>\n      <td>0.0</td>\n    </tr>\n    <tr>\n      <th>98000</th>\n      <td>0031dab0-c21a-4f2f-8a5f-0eb860c4ed2a</td>\n      <td>65d14058-a3d2-4e37-b425-c30b658b81c6</td>\n      <td>Fully Paid</td>\n      <td>99999999</td>\n      <td>Short Term</td>\n      <td>712.0</td>\n      <td>887547.0</td>\n      <td>5 years</td>\n      <td>Rent</td>\n      <td>Debt Consolidation</td>\n      <td>16197.69</td>\n      <td>19.4</td>\n      <td>14.0</td>\n      <td>29</td>\n      <td>0</td>\n      <td>191292</td>\n      <td>339724.0</td>\n      <td>0.0</td>\n      <td>0.0</td>\n    </tr>\n    <tr>\n      <th>54650</th>\n      <td>004b036e-9a85-48d3-acb9-e4a8030244fa</td>\n      <td>eaf32fa6-4746-4db9-981e-952878094d9b</td>\n      <td>Fully Paid</td>\n      <td>99999999</td>\n      <td>Long Term</td>\n      <td>650.0</td>\n      <td>1280239.0</td>\n      <td>10+ years</td>\n      <td>Home Mortgage</td>\n      <td>other</td>\n      <td>26885.19</td>\n      <td>17.3</td>\n      <td>NaN</td>\n      <td>11</td>\n      <td>0</td>\n      <td>495216</td>\n      <td>894542.0</td>\n      <td>0.0</td>\n      <td>0.0</td>\n    </tr>\n    <tr>\n      <th>7540</th>\n      <td>007d7fc3-4a85-4526-81c7-7d44d8d65374</td>\n      <td>007f3a61-d144-4014-ac01-e724dd9cbc01</td>\n      <td>Fully Paid</td>\n      <td>99999999</td>\n      <td>Short Term</td>\n      <td>702.0</td>\n      <td>1078573.0</td>\n      <td>10+ years</td>\n      <td>Home Mortgage</td>\n      <td>Business Loan</td>\n      <td>6912.01</td>\n      <td>7.4</td>\n      <td>NaN</td>\n      <td>6</td>\n      <td>0</td>\n      <td>100358</td>\n      <td>129426.0</td>\n      <td>0.0</td>\n      <td>0.0</td>\n    </tr>\n    <tr>\n      <th>...</th>\n      <td>...</td>\n      <td>...</td>\n      <td>...</td>\n      <td>...</td>\n      <td>...</td>\n      <td>...</td>\n      <td>...</td>\n      <td>...</td>\n      <td>...</td>\n      <td>...</td>\n      <td>...</td>\n      <td>...</td>\n      <td>...</td>\n      <td>...</td>\n      <td>...</td>\n      <td>...</td>\n      <td>...</td>\n      <td>...</td>\n      <td>...</td>\n    </tr>\n    <tr>\n      <th>94354</th>\n      <td>ff713abe-a76f-4a57-aeb0-6db59c68f5cf</td>\n      <td>f894019a-6341-49d7-8953-2554a3f8c3ac</td>\n      <td>Fully Paid</td>\n      <td>99999999</td>\n      <td>Long Term</td>\n      <td>643.0</td>\n      <td>1167132.0</td>\n      <td>10+ years</td>\n      <td>Home Mortgage</td>\n      <td>Debt Consolidation</td>\n      <td>30734.40</td>\n      <td>19.8</td>\n      <td>14.0</td>\n      <td>11</td>\n      <td>0</td>\n      <td>272954</td>\n      <td>529386.0</td>\n      <td>0.0</td>\n      <td>0.0</td>\n    </tr>\n    <tr>\n      <th>60293</th>\n      <td>ffb6301e-2357-418e-8bbc-4df70161d288</td>\n      <td>158aba71-2aaa-486c-a913-94421e2859b5</td>\n      <td>Fully Paid</td>\n      <td>99999999</td>\n      <td>Short Term</td>\n      <td>723.0</td>\n      <td>1747962.0</td>\n      <td>5 years</td>\n      <td>Rent</td>\n      <td>Debt Consolidation</td>\n      <td>38018.24</td>\n      <td>16.6</td>\n      <td>NaN</td>\n      <td>8</td>\n      <td>0</td>\n      <td>53010</td>\n      <td>276452.0</td>\n      <td>0.0</td>\n      <td>0.0</td>\n    </tr>\n    <tr>\n      <th>67485</th>\n      <td>ffcdb42b-44ad-4592-a7b2-727a6c336492</td>\n      <td>f759bbc5-e28c-4b40-8203-6e795f1b064d</td>\n      <td>Fully Paid</td>\n      <td>99999999</td>\n      <td>Long Term</td>\n      <td>706.0</td>\n      <td>673854.0</td>\n      <td>5 years</td>\n      <td>Rent</td>\n      <td>Debt Consolidation</td>\n      <td>12129.22</td>\n      <td>13.0</td>\n      <td>NaN</td>\n      <td>11</td>\n      <td>0</td>\n      <td>316654</td>\n      <td>689172.0</td>\n      <td>0.0</td>\n      <td>0.0</td>\n    </tr>\n    <tr>\n      <th>25544</th>\n      <td>ffd44cce-181c-4e79-b65f-1c5fa44df3ff</td>\n      <td>eb8e6f9d-5ce2-46b1-946b-4aed14c58b50</td>\n      <td>Fully Paid</td>\n      <td>99999999</td>\n      <td>Short Term</td>\n      <td>711.0</td>\n      <td>870998.0</td>\n      <td>10+ years</td>\n      <td>Own Home</td>\n      <td>Debt Consolidation</td>\n      <td>8492.05</td>\n      <td>18.5</td>\n      <td>NaN</td>\n      <td>8</td>\n      <td>0</td>\n      <td>282739</td>\n      <td>387904.0</td>\n      <td>0.0</td>\n      <td>0.0</td>\n    </tr>\n    <tr>\n      <th>92843</th>\n      <td>ffd506f1-3ebb-485d-b4ee-14e4e71dcbb1</td>\n      <td>04575f73-6e3d-4511-b7f5-6417e6fc3703</td>\n      <td>Fully Paid</td>\n      <td>99999999</td>\n      <td>Long Term</td>\n      <td>703.0</td>\n      <td>673550.0</td>\n      <td>10+ years</td>\n      <td>Home Mortgage</td>\n      <td>Debt Consolidation</td>\n      <td>8604.53</td>\n      <td>23.6</td>\n      <td>50.0</td>\n      <td>10</td>\n      <td>1</td>\n      <td>205561</td>\n      <td>398046.0</td>\n      <td>1.0</td>\n      <td>0.0</td>\n    </tr>\n  </tbody>\n</table>\n<p>3579 rows × 19 columns</p>\n</div>"
     },
     "execution_count": 178,
     "metadata": {},
     "output_type": "execute_result"
    }
   ],
   "source": [
    "duplicated_df[duplicated_df[\"Current Loan Amount\"] == duplicated_df[\"Current Loan Amount\"].max()]"
   ],
   "metadata": {
    "collapsed": false,
    "pycharm": {
     "name": "#%%\n"
    }
   }
  },
  {
   "cell_type": "code",
   "execution_count": 184,
   "outputs": [
    {
     "data": {
      "text/plain": "                                    Loan ID  \\\n12966  000ea0cb-8d0e-4284-b8c8-444ffbbe4caf   \n68617  000ea0cb-8d0e-4284-b8c8-444ffbbe4caf   \n5482   001312a5-ed3c-4930-9525-4d09c55ba7f4   \n51941  001312a5-ed3c-4930-9525-4d09c55ba7f4   \n98000  0031dab0-c21a-4f2f-8a5f-0eb860c4ed2a   \n...                                     ...   \n22670  ffcdb42b-44ad-4592-a7b2-727a6c336492   \n80465  ffd44cce-181c-4e79-b65f-1c5fa44df3ff   \n25544  ffd44cce-181c-4e79-b65f-1c5fa44df3ff   \n92843  ffd506f1-3ebb-485d-b4ee-14e4e71dcbb1   \n4992   ffd506f1-3ebb-485d-b4ee-14e4e71dcbb1   \n\n                                Customer ID Loan Status  Current Loan Amount  \\\n12966  db069b01-22c0-4b77-8b0a-b5704a0fd451  Fully Paid               463650   \n68617  db069b01-22c0-4b77-8b0a-b5704a0fd451  Fully Paid             99999999   \n5482   982e93b2-ded4-443f-a64f-1df15eb9b7cd  Fully Paid             99999999   \n51941  982e93b2-ded4-443f-a64f-1df15eb9b7cd  Fully Paid               762696   \n98000  65d14058-a3d2-4e37-b425-c30b658b81c6  Fully Paid             99999999   \n...                                     ...         ...                  ...   \n22670  f759bbc5-e28c-4b40-8203-6e795f1b064d  Fully Paid               295372   \n80465  eb8e6f9d-5ce2-46b1-946b-4aed14c58b50  Fully Paid               341770   \n25544  eb8e6f9d-5ce2-46b1-946b-4aed14c58b50  Fully Paid             99999999   \n92843  04575f73-6e3d-4511-b7f5-6417e6fc3703  Fully Paid             99999999   \n4992   04575f73-6e3d-4511-b7f5-6417e6fc3703  Fully Paid               345884   \n\n             Term  Credit Score  Annual Income Years in current job  \\\n12966  Short Term         715.0      1642303.0            10+ years   \n68617  Short Term         715.0      1642303.0            10+ years   \n5482    Long Term         705.0      2070145.0              6 years   \n51941   Long Term         705.0      2070145.0              6 years   \n98000  Short Term         712.0       887547.0              5 years   \n...           ...           ...            ...                  ...   \n22670   Long Term         706.0       673854.0              5 years   \n80465  Short Term         711.0       870998.0            10+ years   \n25544  Short Term         711.0       870998.0            10+ years   \n92843   Long Term         703.0       673550.0            10+ years   \n4992    Long Term         703.0       673550.0            10+ years   \n\n      Home Ownership             Purpose  Monthly Debt  \\\n12966           Rent  Debt Consolidation      41878.47   \n68617           Rent  Debt Consolidation      41878.47   \n5482   Home Mortgage      major_purchase      16785.55   \n51941  Home Mortgage      major_purchase      16785.55   \n98000           Rent  Debt Consolidation      16197.69   \n...              ...                 ...           ...   \n22670           Rent  Debt Consolidation      12129.22   \n80465       Own Home  Debt Consolidation       8492.05   \n25544       Own Home  Debt Consolidation       8492.05   \n92843  Home Mortgage  Debt Consolidation       8604.53   \n4992   Home Mortgage  Debt Consolidation       8604.53   \n\n       Years of Credit History  Months since last delinquent  \\\n12966                     18.0                           NaN   \n68617                     18.0                           NaN   \n5482                      23.6                          54.0   \n51941                     23.6                          54.0   \n98000                     19.4                          14.0   \n...                        ...                           ...   \n22670                     13.0                           NaN   \n80465                     18.5                           NaN   \n25544                     18.5                           NaN   \n92843                     23.6                          50.0   \n4992                      23.6                          50.0   \n\n       Number of Open Accounts  Number of Credit Problems  \\\n12966                       22                          0   \n68617                       22                          0   \n5482                        10                          1   \n51941                       10                          1   \n98000                       29                          0   \n...                        ...                        ...   \n22670                       11                          0   \n80465                        8                          0   \n25544                        8                          0   \n92843                       10                          1   \n4992                        10                          1   \n\n       Current Credit Balance  Maximum Open Credit  Bankruptcies  Tax Liens  \n12966                  401565             756052.0           0.0        0.0  \n68617                  401565             756052.0           0.0        0.0  \n5482                   169214             473242.0           1.0        0.0  \n51941                  169214             473242.0           1.0        0.0  \n98000                  191292             339724.0           0.0        0.0  \n...                       ...                  ...           ...        ...  \n22670                  316654             689172.0           0.0        0.0  \n80465                  282739             387904.0           0.0        0.0  \n25544                  282739             387904.0           0.0        0.0  \n92843                  205561             398046.0           1.0        0.0  \n4992                   205561             398046.0           1.0        0.0  \n\n[7158 rows x 19 columns]",
      "text/html": "<div>\n<style scoped>\n    .dataframe tbody tr th:only-of-type {\n        vertical-align: middle;\n    }\n\n    .dataframe tbody tr th {\n        vertical-align: top;\n    }\n\n    .dataframe thead th {\n        text-align: right;\n    }\n</style>\n<table border=\"1\" class=\"dataframe\">\n  <thead>\n    <tr style=\"text-align: right;\">\n      <th></th>\n      <th>Loan ID</th>\n      <th>Customer ID</th>\n      <th>Loan Status</th>\n      <th>Current Loan Amount</th>\n      <th>Term</th>\n      <th>Credit Score</th>\n      <th>Annual Income</th>\n      <th>Years in current job</th>\n      <th>Home Ownership</th>\n      <th>Purpose</th>\n      <th>Monthly Debt</th>\n      <th>Years of Credit History</th>\n      <th>Months since last delinquent</th>\n      <th>Number of Open Accounts</th>\n      <th>Number of Credit Problems</th>\n      <th>Current Credit Balance</th>\n      <th>Maximum Open Credit</th>\n      <th>Bankruptcies</th>\n      <th>Tax Liens</th>\n    </tr>\n  </thead>\n  <tbody>\n    <tr>\n      <th>12966</th>\n      <td>000ea0cb-8d0e-4284-b8c8-444ffbbe4caf</td>\n      <td>db069b01-22c0-4b77-8b0a-b5704a0fd451</td>\n      <td>Fully Paid</td>\n      <td>463650</td>\n      <td>Short Term</td>\n      <td>715.0</td>\n      <td>1642303.0</td>\n      <td>10+ years</td>\n      <td>Rent</td>\n      <td>Debt Consolidation</td>\n      <td>41878.47</td>\n      <td>18.0</td>\n      <td>NaN</td>\n      <td>22</td>\n      <td>0</td>\n      <td>401565</td>\n      <td>756052.0</td>\n      <td>0.0</td>\n      <td>0.0</td>\n    </tr>\n    <tr>\n      <th>68617</th>\n      <td>000ea0cb-8d0e-4284-b8c8-444ffbbe4caf</td>\n      <td>db069b01-22c0-4b77-8b0a-b5704a0fd451</td>\n      <td>Fully Paid</td>\n      <td>99999999</td>\n      <td>Short Term</td>\n      <td>715.0</td>\n      <td>1642303.0</td>\n      <td>10+ years</td>\n      <td>Rent</td>\n      <td>Debt Consolidation</td>\n      <td>41878.47</td>\n      <td>18.0</td>\n      <td>NaN</td>\n      <td>22</td>\n      <td>0</td>\n      <td>401565</td>\n      <td>756052.0</td>\n      <td>0.0</td>\n      <td>0.0</td>\n    </tr>\n    <tr>\n      <th>5482</th>\n      <td>001312a5-ed3c-4930-9525-4d09c55ba7f4</td>\n      <td>982e93b2-ded4-443f-a64f-1df15eb9b7cd</td>\n      <td>Fully Paid</td>\n      <td>99999999</td>\n      <td>Long Term</td>\n      <td>705.0</td>\n      <td>2070145.0</td>\n      <td>6 years</td>\n      <td>Home Mortgage</td>\n      <td>major_purchase</td>\n      <td>16785.55</td>\n      <td>23.6</td>\n      <td>54.0</td>\n      <td>10</td>\n      <td>1</td>\n      <td>169214</td>\n      <td>473242.0</td>\n      <td>1.0</td>\n      <td>0.0</td>\n    </tr>\n    <tr>\n      <th>51941</th>\n      <td>001312a5-ed3c-4930-9525-4d09c55ba7f4</td>\n      <td>982e93b2-ded4-443f-a64f-1df15eb9b7cd</td>\n      <td>Fully Paid</td>\n      <td>762696</td>\n      <td>Long Term</td>\n      <td>705.0</td>\n      <td>2070145.0</td>\n      <td>6 years</td>\n      <td>Home Mortgage</td>\n      <td>major_purchase</td>\n      <td>16785.55</td>\n      <td>23.6</td>\n      <td>54.0</td>\n      <td>10</td>\n      <td>1</td>\n      <td>169214</td>\n      <td>473242.0</td>\n      <td>1.0</td>\n      <td>0.0</td>\n    </tr>\n    <tr>\n      <th>98000</th>\n      <td>0031dab0-c21a-4f2f-8a5f-0eb860c4ed2a</td>\n      <td>65d14058-a3d2-4e37-b425-c30b658b81c6</td>\n      <td>Fully Paid</td>\n      <td>99999999</td>\n      <td>Short Term</td>\n      <td>712.0</td>\n      <td>887547.0</td>\n      <td>5 years</td>\n      <td>Rent</td>\n      <td>Debt Consolidation</td>\n      <td>16197.69</td>\n      <td>19.4</td>\n      <td>14.0</td>\n      <td>29</td>\n      <td>0</td>\n      <td>191292</td>\n      <td>339724.0</td>\n      <td>0.0</td>\n      <td>0.0</td>\n    </tr>\n    <tr>\n      <th>...</th>\n      <td>...</td>\n      <td>...</td>\n      <td>...</td>\n      <td>...</td>\n      <td>...</td>\n      <td>...</td>\n      <td>...</td>\n      <td>...</td>\n      <td>...</td>\n      <td>...</td>\n      <td>...</td>\n      <td>...</td>\n      <td>...</td>\n      <td>...</td>\n      <td>...</td>\n      <td>...</td>\n      <td>...</td>\n      <td>...</td>\n      <td>...</td>\n    </tr>\n    <tr>\n      <th>22670</th>\n      <td>ffcdb42b-44ad-4592-a7b2-727a6c336492</td>\n      <td>f759bbc5-e28c-4b40-8203-6e795f1b064d</td>\n      <td>Fully Paid</td>\n      <td>295372</td>\n      <td>Long Term</td>\n      <td>706.0</td>\n      <td>673854.0</td>\n      <td>5 years</td>\n      <td>Rent</td>\n      <td>Debt Consolidation</td>\n      <td>12129.22</td>\n      <td>13.0</td>\n      <td>NaN</td>\n      <td>11</td>\n      <td>0</td>\n      <td>316654</td>\n      <td>689172.0</td>\n      <td>0.0</td>\n      <td>0.0</td>\n    </tr>\n    <tr>\n      <th>80465</th>\n      <td>ffd44cce-181c-4e79-b65f-1c5fa44df3ff</td>\n      <td>eb8e6f9d-5ce2-46b1-946b-4aed14c58b50</td>\n      <td>Fully Paid</td>\n      <td>341770</td>\n      <td>Short Term</td>\n      <td>711.0</td>\n      <td>870998.0</td>\n      <td>10+ years</td>\n      <td>Own Home</td>\n      <td>Debt Consolidation</td>\n      <td>8492.05</td>\n      <td>18.5</td>\n      <td>NaN</td>\n      <td>8</td>\n      <td>0</td>\n      <td>282739</td>\n      <td>387904.0</td>\n      <td>0.0</td>\n      <td>0.0</td>\n    </tr>\n    <tr>\n      <th>25544</th>\n      <td>ffd44cce-181c-4e79-b65f-1c5fa44df3ff</td>\n      <td>eb8e6f9d-5ce2-46b1-946b-4aed14c58b50</td>\n      <td>Fully Paid</td>\n      <td>99999999</td>\n      <td>Short Term</td>\n      <td>711.0</td>\n      <td>870998.0</td>\n      <td>10+ years</td>\n      <td>Own Home</td>\n      <td>Debt Consolidation</td>\n      <td>8492.05</td>\n      <td>18.5</td>\n      <td>NaN</td>\n      <td>8</td>\n      <td>0</td>\n      <td>282739</td>\n      <td>387904.0</td>\n      <td>0.0</td>\n      <td>0.0</td>\n    </tr>\n    <tr>\n      <th>92843</th>\n      <td>ffd506f1-3ebb-485d-b4ee-14e4e71dcbb1</td>\n      <td>04575f73-6e3d-4511-b7f5-6417e6fc3703</td>\n      <td>Fully Paid</td>\n      <td>99999999</td>\n      <td>Long Term</td>\n      <td>703.0</td>\n      <td>673550.0</td>\n      <td>10+ years</td>\n      <td>Home Mortgage</td>\n      <td>Debt Consolidation</td>\n      <td>8604.53</td>\n      <td>23.6</td>\n      <td>50.0</td>\n      <td>10</td>\n      <td>1</td>\n      <td>205561</td>\n      <td>398046.0</td>\n      <td>1.0</td>\n      <td>0.0</td>\n    </tr>\n    <tr>\n      <th>4992</th>\n      <td>ffd506f1-3ebb-485d-b4ee-14e4e71dcbb1</td>\n      <td>04575f73-6e3d-4511-b7f5-6417e6fc3703</td>\n      <td>Fully Paid</td>\n      <td>345884</td>\n      <td>Long Term</td>\n      <td>703.0</td>\n      <td>673550.0</td>\n      <td>10+ years</td>\n      <td>Home Mortgage</td>\n      <td>Debt Consolidation</td>\n      <td>8604.53</td>\n      <td>23.6</td>\n      <td>50.0</td>\n      <td>10</td>\n      <td>1</td>\n      <td>205561</td>\n      <td>398046.0</td>\n      <td>1.0</td>\n      <td>0.0</td>\n    </tr>\n  </tbody>\n</table>\n<p>7158 rows × 19 columns</p>\n</div>"
     },
     "execution_count": 184,
     "metadata": {},
     "output_type": "execute_result"
    }
   ],
   "source": [
    "duplicated_where_curr_loan_is_max"
   ],
   "metadata": {
    "collapsed": false,
    "pycharm": {
     "name": "#%%\n"
    }
   }
  },
  {
   "cell_type": "code",
   "execution_count": 183,
   "outputs": [
    {
     "data": {
      "text/plain": "Int64Index([68617,  5482, 98000, 54650,  7540, 73477,  7907, 13288,  9274,\n            94266,\n            ...\n            90985, 98632, 13808, 45000, 69725, 94354, 60293, 67485, 25544,\n            92843],\n           dtype='int64', length=3579)"
     },
     "execution_count": 183,
     "metadata": {},
     "output_type": "execute_result"
    }
   ],
   "source": [
    "index_to_delete = duplicated_where_curr_loan_is_max[duplicated_where_curr_loan_is_max[\"Current Loan Amount\"] == duplicated_where_curr_loan_is_max[\"Current Loan Amount\"].max()].index\n",
    "index_to_delete"
   ],
   "metadata": {
    "collapsed": false,
    "pycharm": {
     "name": "#%%\n"
    }
   }
  },
  {
   "cell_type": "code",
   "execution_count": 189,
   "outputs": [],
   "source": [
    "duplicated_df.drop(index=index_to_delete, inplace=True)"
   ],
   "metadata": {
    "collapsed": false,
    "pycharm": {
     "name": "#%%\n"
    }
   }
  },
  {
   "cell_type": "code",
   "execution_count": 190,
   "outputs": [
    {
     "data": {
      "text/plain": "                                    Loan ID  \\\n59577  00069ff1-a877-4d35-81be-7cd359b99956   \n69442  000bc65a-6a7c-4566-86f3-203b4ec35eca   \n10203  000bc65a-6a7c-4566-86f3-203b4ec35eca   \n3978   000c16df-c24f-41cf-a90e-60301d131bb9   \n98875  000c16df-c24f-41cf-a90e-60301d131bb9   \n...                                     ...   \n49019  fffaa912-faa8-4bdf-8ff1-fd5884e51c66   \n72469  fffaa912-faa8-4bdf-8ff1-fd5884e51c66   \n13362  fffbc431-6a56-467c-a5f7-772928f96715   \n81716  ffffe32e-ed17-459f-9cfd-7b9ee7972933   \n65354  ffffe32e-ed17-459f-9cfd-7b9ee7972933   \n\n                                Customer ID Loan Status  Current Loan Amount  \\\n59577  ee3c27f2-766a-499c-9a96-d17c4d2faa16  Fully Paid                31526   \n69442  724bddb4-a23c-4759-ba6f-dc79c7dd5334  Fully Paid               642202   \n10203  724bddb4-a23c-4759-ba6f-dc79c7dd5334  Fully Paid               642202   \n3978   b07c4262-70bb-41cc-b28a-d87540577fb1  Fully Paid               155496   \n98875  b07c4262-70bb-41cc-b28a-d87540577fb1  Fully Paid               155496   \n...                                     ...         ...                  ...   \n49019  d059bcea-3016-48d3-b7e0-c6e618e1f2c3  Fully Paid               146410   \n72469  d059bcea-3016-48d3-b7e0-c6e618e1f2c3  Fully Paid               146410   \n13362  ae7c08b7-6b2e-4763-b148-035bf01c3072  Fully Paid               667194   \n81716  97281336-1e45-41d2-acb2-263ce56a590e  Fully Paid               613844   \n65354  97281336-1e45-41d2-acb2-263ce56a590e  Fully Paid               613844   \n\n             Term  Credit Score  Annual Income Years in current job  \\\n59577  Short Term         716.0      2065965.0            10+ years   \n69442  Short Term         715.0      1759533.0              2 years   \n10203  Short Term         715.0      1759533.0              2 years   \n3978   Short Term         706.0       664753.0                  NaN   \n98875  Short Term         706.0       664753.0                  NaN   \n...           ...           ...            ...                  ...   \n49019  Short Term         724.0      1400566.0            10+ years   \n72469  Short Term         724.0      1400566.0            10+ years   \n13362   Long Term         715.0      3104144.0             < 1 year   \n81716   Long Term         678.0      2232120.0            10+ years   \n65354   Long Term         678.0      2232120.0            10+ years   \n\n      Home Ownership             Purpose  Monthly Debt  \\\n59577  Home Mortgage   Home Improvements      49927.44   \n69442           Rent  Debt Consolidation      23020.59   \n10203           Rent  Debt Consolidation      23020.59   \n3978        Own Home               other       8087.92   \n98875       Own Home               other       8087.92   \n...              ...                 ...           ...   \n49019           Rent  Debt Consolidation      11787.98   \n72469           Rent  Debt Consolidation      11787.98   \n13362           Rent  Debt Consolidation      15598.24   \n81716  Home Mortgage  Debt Consolidation      47990.58   \n65354  Home Mortgage  Debt Consolidation      47990.58   \n\n       Years of Credit History  Months since last delinquent  \\\n59577                     15.1                           5.0   \n69442                     13.8                           NaN   \n10203                     13.8                           NaN   \n3978                      21.3                           NaN   \n98875                     21.3                           NaN   \n...                        ...                           ...   \n49019                     11.1                          62.0   \n72469                     11.1                          62.0   \n13362                     13.9                           NaN   \n81716                     18.0                          11.0   \n65354                     18.0                          11.0   \n\n       Number of Open Accounts  Number of Credit Problems  \\\n59577                       22                          0   \n69442                       11                          0   \n10203                       11                          0   \n3978                         7                          1   \n98875                        7                          1   \n...                        ...                        ...   \n49019                       15                          0   \n72469                       15                          0   \n13362                        8                          0   \n81716                       10                          0   \n65354                       10                          0   \n\n       Current Credit Balance  Maximum Open Credit  Bankruptcies  Tax Liens  \n59577                  526414            1090386.0           0.0        0.0  \n69442                  445987             733546.0           0.0        0.0  \n10203                  445987             733546.0           0.0        0.0  \n3978                    79382             150700.0           1.0        0.0  \n98875                   79382             150700.0           1.0        0.0  \n...                       ...                  ...           ...        ...  \n49019                  135166             403392.0           0.0        0.0  \n72469                  135166             403392.0           0.0        0.0  \n13362                  176396             322168.0           0.0        0.0  \n81716                  538023            1372162.0           0.0        0.0  \n65354                  538023            1372162.0           0.0        0.0  \n\n[28216 rows x 19 columns]",
      "text/html": "<div>\n<style scoped>\n    .dataframe tbody tr th:only-of-type {\n        vertical-align: middle;\n    }\n\n    .dataframe tbody tr th {\n        vertical-align: top;\n    }\n\n    .dataframe thead th {\n        text-align: right;\n    }\n</style>\n<table border=\"1\" class=\"dataframe\">\n  <thead>\n    <tr style=\"text-align: right;\">\n      <th></th>\n      <th>Loan ID</th>\n      <th>Customer ID</th>\n      <th>Loan Status</th>\n      <th>Current Loan Amount</th>\n      <th>Term</th>\n      <th>Credit Score</th>\n      <th>Annual Income</th>\n      <th>Years in current job</th>\n      <th>Home Ownership</th>\n      <th>Purpose</th>\n      <th>Monthly Debt</th>\n      <th>Years of Credit History</th>\n      <th>Months since last delinquent</th>\n      <th>Number of Open Accounts</th>\n      <th>Number of Credit Problems</th>\n      <th>Current Credit Balance</th>\n      <th>Maximum Open Credit</th>\n      <th>Bankruptcies</th>\n      <th>Tax Liens</th>\n    </tr>\n  </thead>\n  <tbody>\n    <tr>\n      <th>59577</th>\n      <td>00069ff1-a877-4d35-81be-7cd359b99956</td>\n      <td>ee3c27f2-766a-499c-9a96-d17c4d2faa16</td>\n      <td>Fully Paid</td>\n      <td>31526</td>\n      <td>Short Term</td>\n      <td>716.0</td>\n      <td>2065965.0</td>\n      <td>10+ years</td>\n      <td>Home Mortgage</td>\n      <td>Home Improvements</td>\n      <td>49927.44</td>\n      <td>15.1</td>\n      <td>5.0</td>\n      <td>22</td>\n      <td>0</td>\n      <td>526414</td>\n      <td>1090386.0</td>\n      <td>0.0</td>\n      <td>0.0</td>\n    </tr>\n    <tr>\n      <th>69442</th>\n      <td>000bc65a-6a7c-4566-86f3-203b4ec35eca</td>\n      <td>724bddb4-a23c-4759-ba6f-dc79c7dd5334</td>\n      <td>Fully Paid</td>\n      <td>642202</td>\n      <td>Short Term</td>\n      <td>715.0</td>\n      <td>1759533.0</td>\n      <td>2 years</td>\n      <td>Rent</td>\n      <td>Debt Consolidation</td>\n      <td>23020.59</td>\n      <td>13.8</td>\n      <td>NaN</td>\n      <td>11</td>\n      <td>0</td>\n      <td>445987</td>\n      <td>733546.0</td>\n      <td>0.0</td>\n      <td>0.0</td>\n    </tr>\n    <tr>\n      <th>10203</th>\n      <td>000bc65a-6a7c-4566-86f3-203b4ec35eca</td>\n      <td>724bddb4-a23c-4759-ba6f-dc79c7dd5334</td>\n      <td>Fully Paid</td>\n      <td>642202</td>\n      <td>Short Term</td>\n      <td>715.0</td>\n      <td>1759533.0</td>\n      <td>2 years</td>\n      <td>Rent</td>\n      <td>Debt Consolidation</td>\n      <td>23020.59</td>\n      <td>13.8</td>\n      <td>NaN</td>\n      <td>11</td>\n      <td>0</td>\n      <td>445987</td>\n      <td>733546.0</td>\n      <td>0.0</td>\n      <td>0.0</td>\n    </tr>\n    <tr>\n      <th>3978</th>\n      <td>000c16df-c24f-41cf-a90e-60301d131bb9</td>\n      <td>b07c4262-70bb-41cc-b28a-d87540577fb1</td>\n      <td>Fully Paid</td>\n      <td>155496</td>\n      <td>Short Term</td>\n      <td>706.0</td>\n      <td>664753.0</td>\n      <td>NaN</td>\n      <td>Own Home</td>\n      <td>other</td>\n      <td>8087.92</td>\n      <td>21.3</td>\n      <td>NaN</td>\n      <td>7</td>\n      <td>1</td>\n      <td>79382</td>\n      <td>150700.0</td>\n      <td>1.0</td>\n      <td>0.0</td>\n    </tr>\n    <tr>\n      <th>98875</th>\n      <td>000c16df-c24f-41cf-a90e-60301d131bb9</td>\n      <td>b07c4262-70bb-41cc-b28a-d87540577fb1</td>\n      <td>Fully Paid</td>\n      <td>155496</td>\n      <td>Short Term</td>\n      <td>706.0</td>\n      <td>664753.0</td>\n      <td>NaN</td>\n      <td>Own Home</td>\n      <td>other</td>\n      <td>8087.92</td>\n      <td>21.3</td>\n      <td>NaN</td>\n      <td>7</td>\n      <td>1</td>\n      <td>79382</td>\n      <td>150700.0</td>\n      <td>1.0</td>\n      <td>0.0</td>\n    </tr>\n    <tr>\n      <th>...</th>\n      <td>...</td>\n      <td>...</td>\n      <td>...</td>\n      <td>...</td>\n      <td>...</td>\n      <td>...</td>\n      <td>...</td>\n      <td>...</td>\n      <td>...</td>\n      <td>...</td>\n      <td>...</td>\n      <td>...</td>\n      <td>...</td>\n      <td>...</td>\n      <td>...</td>\n      <td>...</td>\n      <td>...</td>\n      <td>...</td>\n      <td>...</td>\n    </tr>\n    <tr>\n      <th>49019</th>\n      <td>fffaa912-faa8-4bdf-8ff1-fd5884e51c66</td>\n      <td>d059bcea-3016-48d3-b7e0-c6e618e1f2c3</td>\n      <td>Fully Paid</td>\n      <td>146410</td>\n      <td>Short Term</td>\n      <td>724.0</td>\n      <td>1400566.0</td>\n      <td>10+ years</td>\n      <td>Rent</td>\n      <td>Debt Consolidation</td>\n      <td>11787.98</td>\n      <td>11.1</td>\n      <td>62.0</td>\n      <td>15</td>\n      <td>0</td>\n      <td>135166</td>\n      <td>403392.0</td>\n      <td>0.0</td>\n      <td>0.0</td>\n    </tr>\n    <tr>\n      <th>72469</th>\n      <td>fffaa912-faa8-4bdf-8ff1-fd5884e51c66</td>\n      <td>d059bcea-3016-48d3-b7e0-c6e618e1f2c3</td>\n      <td>Fully Paid</td>\n      <td>146410</td>\n      <td>Short Term</td>\n      <td>724.0</td>\n      <td>1400566.0</td>\n      <td>10+ years</td>\n      <td>Rent</td>\n      <td>Debt Consolidation</td>\n      <td>11787.98</td>\n      <td>11.1</td>\n      <td>62.0</td>\n      <td>15</td>\n      <td>0</td>\n      <td>135166</td>\n      <td>403392.0</td>\n      <td>0.0</td>\n      <td>0.0</td>\n    </tr>\n    <tr>\n      <th>13362</th>\n      <td>fffbc431-6a56-467c-a5f7-772928f96715</td>\n      <td>ae7c08b7-6b2e-4763-b148-035bf01c3072</td>\n      <td>Fully Paid</td>\n      <td>667194</td>\n      <td>Long Term</td>\n      <td>715.0</td>\n      <td>3104144.0</td>\n      <td>&lt; 1 year</td>\n      <td>Rent</td>\n      <td>Debt Consolidation</td>\n      <td>15598.24</td>\n      <td>13.9</td>\n      <td>NaN</td>\n      <td>8</td>\n      <td>0</td>\n      <td>176396</td>\n      <td>322168.0</td>\n      <td>0.0</td>\n      <td>0.0</td>\n    </tr>\n    <tr>\n      <th>81716</th>\n      <td>ffffe32e-ed17-459f-9cfd-7b9ee7972933</td>\n      <td>97281336-1e45-41d2-acb2-263ce56a590e</td>\n      <td>Fully Paid</td>\n      <td>613844</td>\n      <td>Long Term</td>\n      <td>678.0</td>\n      <td>2232120.0</td>\n      <td>10+ years</td>\n      <td>Home Mortgage</td>\n      <td>Debt Consolidation</td>\n      <td>47990.58</td>\n      <td>18.0</td>\n      <td>11.0</td>\n      <td>10</td>\n      <td>0</td>\n      <td>538023</td>\n      <td>1372162.0</td>\n      <td>0.0</td>\n      <td>0.0</td>\n    </tr>\n    <tr>\n      <th>65354</th>\n      <td>ffffe32e-ed17-459f-9cfd-7b9ee7972933</td>\n      <td>97281336-1e45-41d2-acb2-263ce56a590e</td>\n      <td>Fully Paid</td>\n      <td>613844</td>\n      <td>Long Term</td>\n      <td>678.0</td>\n      <td>2232120.0</td>\n      <td>10+ years</td>\n      <td>Home Mortgage</td>\n      <td>Debt Consolidation</td>\n      <td>47990.58</td>\n      <td>18.0</td>\n      <td>11.0</td>\n      <td>10</td>\n      <td>0</td>\n      <td>538023</td>\n      <td>1372162.0</td>\n      <td>0.0</td>\n      <td>0.0</td>\n    </tr>\n  </tbody>\n</table>\n<p>28216 rows × 19 columns</p>\n</div>"
     },
     "execution_count": 190,
     "metadata": {},
     "output_type": "execute_result"
    }
   ],
   "source": [
    "duplicated_df"
   ],
   "metadata": {
    "collapsed": false,
    "pycharm": {
     "name": "#%%\n"
    }
   }
  },
  {
   "cell_type": "markdown",
   "source": [
    "## Удалили повторяющиеся строки с Current Loan Amount = 99999999"
   ],
   "metadata": {
    "collapsed": false,
    "pycharm": {
     "name": "#%% md\n"
    }
   }
  },
  {
   "cell_type": "code",
   "execution_count": 196,
   "outputs": [
    {
     "data": {
      "text/plain": "789250"
     },
     "execution_count": 196,
     "metadata": {},
     "output_type": "execute_result"
    }
   ],
   "source": [
    "duplicated_df[\"Current Loan Amount\"].max()"
   ],
   "metadata": {
    "collapsed": false,
    "pycharm": {
     "name": "#%%\n"
    }
   }
  },
  {
   "cell_type": "markdown",
   "source": [
    "## Проверяем Monthly Debt"
   ],
   "metadata": {
    "collapsed": false,
    "pycharm": {
     "name": "#%% md\n"
    }
   }
  },
  {
   "cell_type": "code",
   "execution_count": 201,
   "outputs": [
    {
     "data": {
      "text/plain": "78116    03740982-c6b8-487a-a220-5fa036fb15da\n93067    03740982-c6b8-487a-a220-5fa036fb15da\n32374    04fff06e-7420-4978-84ce-5e359639afc2\n31830    2d4c5b7d-76ee-437b-8811-563f37990acf\n16765    2d4c5b7d-76ee-437b-8811-563f37990acf\n35455    49bdfa6c-c6e0-4ecc-826c-e7c3898475fc\n76333    49bdfa6c-c6e0-4ecc-826c-e7c3898475fc\n8050     6eb14cde-2de6-48df-a6dc-72527642d105\n70528    9acb87c7-b7a8-433d-9250-5a75e169bb04\n10740    d5305fe8-6658-4dd5-9327-caa3238c354a\n49933    ec2aabb1-fd0d-4770-b638-72509c189dc8\n7573     ec2aabb1-fd0d-4770-b638-72509c189dc8\n89759    f1c9adc7-b13b-4e2e-8b72-9d8cec4d2d1a\n72526    f20384b8-e589-4681-9d43-8348745b2471\nName: Loan ID, dtype: object"
     },
     "execution_count": 201,
     "metadata": {},
     "output_type": "execute_result"
    }
   ],
   "source": [
    "duplicated_df[duplicated_df[\"Monthly Debt\"] == 0][\"Loan ID\"]"
   ],
   "metadata": {
    "collapsed": false,
    "pycharm": {
     "name": "#%%\n"
    }
   }
  },
  {
   "cell_type": "code",
   "execution_count": 202,
   "outputs": [
    {
     "data": {
      "text/plain": "                                    Loan ID  \\\n78116  03740982-c6b8-487a-a220-5fa036fb15da   \n93067  03740982-c6b8-487a-a220-5fa036fb15da   \n32374  04fff06e-7420-4978-84ce-5e359639afc2   \n31830  2d4c5b7d-76ee-437b-8811-563f37990acf   \n16765  2d4c5b7d-76ee-437b-8811-563f37990acf   \n35455  49bdfa6c-c6e0-4ecc-826c-e7c3898475fc   \n76333  49bdfa6c-c6e0-4ecc-826c-e7c3898475fc   \n8050   6eb14cde-2de6-48df-a6dc-72527642d105   \n70528  9acb87c7-b7a8-433d-9250-5a75e169bb04   \n10740  d5305fe8-6658-4dd5-9327-caa3238c354a   \n49933  ec2aabb1-fd0d-4770-b638-72509c189dc8   \n7573   ec2aabb1-fd0d-4770-b638-72509c189dc8   \n89759  f1c9adc7-b13b-4e2e-8b72-9d8cec4d2d1a   \n72526  f20384b8-e589-4681-9d43-8348745b2471   \n\n                                Customer ID Loan Status  Current Loan Amount  \\\n78116  4f66b4f1-d21c-4679-a2fa-99d544876930  Fully Paid               243144   \n93067  4f66b4f1-d21c-4679-a2fa-99d544876930  Fully Paid               243144   \n32374  2866193a-fb98-4b85-8573-66c6709d1206  Fully Paid               449812   \n31830  ff7e90be-3d74-4183-9ffc-c6c4267b8efd  Fully Paid                86812   \n16765  ff7e90be-3d74-4183-9ffc-c6c4267b8efd  Fully Paid                86812   \n35455  3f97e229-16b2-4792-93db-73bfc142ef1d  Fully Paid               182930   \n76333  3f97e229-16b2-4792-93db-73bfc142ef1d  Fully Paid               182930   \n8050   260c52a3-46b8-4cdc-89e7-352960557344  Fully Paid                49478   \n70528  bd464f4f-0907-4d48-9401-3c564c01b063  Fully Paid               532576   \n10740  261a582c-18d4-455c-af2e-8f84b059364a  Fully Paid                75350   \n49933  c21ae1b5-6b7c-4453-bb41-90c3617fb60a  Fully Paid               171226   \n7573   c21ae1b5-6b7c-4453-bb41-90c3617fb60a  Fully Paid               171226   \n89759  99b00f5d-fac1-4eda-8ece-f4fef2ba80bb  Fully Paid               134024   \n72526  a3ea1ce5-850f-4c40-a52f-b0aa1cd43409  Fully Paid                78078   \n\n             Term  Credit Score  Annual Income Years in current job  \\\n78116  Short Term         706.0       788006.0              3 years   \n93067  Short Term         706.0       788006.0              3 years   \n32374   Long Term         723.0      1165422.0              8 years   \n31830  Short Term         672.0       937270.0            10+ years   \n16765  Short Term         672.0       937270.0            10+ years   \n35455  Short Term         710.0       233339.0             < 1 year   \n76333  Short Term         710.0       233339.0             < 1 year   \n8050   Short Term         714.0       364819.0             < 1 year   \n70528  Short Term         716.0      1154706.0               1 year   \n10740  Short Term         704.0       867749.0            10+ years   \n49933  Short Term         689.0      1824494.0              6 years   \n7573   Short Term         689.0      1824494.0              6 years   \n89759  Short Term         698.0       733191.0               1 year   \n72526  Short Term         709.0       809248.0              6 years   \n\n      Home Ownership             Purpose  Monthly Debt  \\\n78116           Rent               Other           0.0   \n93067           Rent               Other           0.0   \n32374  Home Mortgage           Buy House           0.0   \n31830           Rent               other           0.0   \n16765           Rent               other           0.0   \n35455       Own Home               other           0.0   \n76333       Own Home               other           0.0   \n8050            Rent         Take a Trip           0.0   \n70528           Rent               Other           0.0   \n10740  Home Mortgage   Home Improvements           0.0   \n49933  Home Mortgage   Home Improvements           0.0   \n7573   Home Mortgage   Home Improvements           0.0   \n89759           Rent  Debt Consolidation           0.0   \n72526           Rent  Debt Consolidation           0.0   \n\n       Years of Credit History  Months since last delinquent  \\\n78116                     21.6                          13.0   \n93067                     21.6                          13.0   \n32374                     18.6                           8.0   \n31830                     22.0                          14.0   \n16765                     22.0                          14.0   \n35455                     21.6                          16.0   \n76333                     21.6                          16.0   \n8050                      29.6                          62.0   \n70528                     11.9                           NaN   \n10740                     16.5                          66.0   \n49933                     10.5                           NaN   \n7573                      10.5                           NaN   \n89759                     11.0                          50.0   \n72526                      8.0                          31.0   \n\n       Number of Open Accounts  Number of Credit Problems  \\\n78116                        3                          0   \n93067                        3                          0   \n32374                        7                          0   \n31830                        4                          0   \n16765                        4                          0   \n35455                        4                          0   \n76333                        4                          0   \n8050                         8                          0   \n70528                        1                          0   \n10740                        2                          0   \n49933                        3                          1   \n7573                         3                          1   \n89759                        4                          0   \n72526                        5                          0   \n\n       Current Credit Balance  Maximum Open Credit  Bankruptcies  Tax Liens  \n78116                       0                  0.0           0.0        0.0  \n93067                       0                  0.0           0.0        0.0  \n32374                       0                  0.0           0.0        0.0  \n31830                   36233             310794.0           0.0        0.0  \n16765                   36233             310794.0           0.0        0.0  \n35455                       0                  0.0           0.0        0.0  \n76333                       0                  0.0           0.0        0.0  \n8050                        0                  0.0           0.0        0.0  \n70528                       0                  0.0           0.0        0.0  \n10740                       0                  0.0           0.0        0.0  \n49933                       0                  0.0           1.0        0.0  \n7573                        0                  0.0           1.0        0.0  \n89759                       0                  0.0           0.0        0.0  \n72526                       0                  0.0           0.0        0.0  ",
      "text/html": "<div>\n<style scoped>\n    .dataframe tbody tr th:only-of-type {\n        vertical-align: middle;\n    }\n\n    .dataframe tbody tr th {\n        vertical-align: top;\n    }\n\n    .dataframe thead th {\n        text-align: right;\n    }\n</style>\n<table border=\"1\" class=\"dataframe\">\n  <thead>\n    <tr style=\"text-align: right;\">\n      <th></th>\n      <th>Loan ID</th>\n      <th>Customer ID</th>\n      <th>Loan Status</th>\n      <th>Current Loan Amount</th>\n      <th>Term</th>\n      <th>Credit Score</th>\n      <th>Annual Income</th>\n      <th>Years in current job</th>\n      <th>Home Ownership</th>\n      <th>Purpose</th>\n      <th>Monthly Debt</th>\n      <th>Years of Credit History</th>\n      <th>Months since last delinquent</th>\n      <th>Number of Open Accounts</th>\n      <th>Number of Credit Problems</th>\n      <th>Current Credit Balance</th>\n      <th>Maximum Open Credit</th>\n      <th>Bankruptcies</th>\n      <th>Tax Liens</th>\n    </tr>\n  </thead>\n  <tbody>\n    <tr>\n      <th>78116</th>\n      <td>03740982-c6b8-487a-a220-5fa036fb15da</td>\n      <td>4f66b4f1-d21c-4679-a2fa-99d544876930</td>\n      <td>Fully Paid</td>\n      <td>243144</td>\n      <td>Short Term</td>\n      <td>706.0</td>\n      <td>788006.0</td>\n      <td>3 years</td>\n      <td>Rent</td>\n      <td>Other</td>\n      <td>0.0</td>\n      <td>21.6</td>\n      <td>13.0</td>\n      <td>3</td>\n      <td>0</td>\n      <td>0</td>\n      <td>0.0</td>\n      <td>0.0</td>\n      <td>0.0</td>\n    </tr>\n    <tr>\n      <th>93067</th>\n      <td>03740982-c6b8-487a-a220-5fa036fb15da</td>\n      <td>4f66b4f1-d21c-4679-a2fa-99d544876930</td>\n      <td>Fully Paid</td>\n      <td>243144</td>\n      <td>Short Term</td>\n      <td>706.0</td>\n      <td>788006.0</td>\n      <td>3 years</td>\n      <td>Rent</td>\n      <td>Other</td>\n      <td>0.0</td>\n      <td>21.6</td>\n      <td>13.0</td>\n      <td>3</td>\n      <td>0</td>\n      <td>0</td>\n      <td>0.0</td>\n      <td>0.0</td>\n      <td>0.0</td>\n    </tr>\n    <tr>\n      <th>32374</th>\n      <td>04fff06e-7420-4978-84ce-5e359639afc2</td>\n      <td>2866193a-fb98-4b85-8573-66c6709d1206</td>\n      <td>Fully Paid</td>\n      <td>449812</td>\n      <td>Long Term</td>\n      <td>723.0</td>\n      <td>1165422.0</td>\n      <td>8 years</td>\n      <td>Home Mortgage</td>\n      <td>Buy House</td>\n      <td>0.0</td>\n      <td>18.6</td>\n      <td>8.0</td>\n      <td>7</td>\n      <td>0</td>\n      <td>0</td>\n      <td>0.0</td>\n      <td>0.0</td>\n      <td>0.0</td>\n    </tr>\n    <tr>\n      <th>31830</th>\n      <td>2d4c5b7d-76ee-437b-8811-563f37990acf</td>\n      <td>ff7e90be-3d74-4183-9ffc-c6c4267b8efd</td>\n      <td>Fully Paid</td>\n      <td>86812</td>\n      <td>Short Term</td>\n      <td>672.0</td>\n      <td>937270.0</td>\n      <td>10+ years</td>\n      <td>Rent</td>\n      <td>other</td>\n      <td>0.0</td>\n      <td>22.0</td>\n      <td>14.0</td>\n      <td>4</td>\n      <td>0</td>\n      <td>36233</td>\n      <td>310794.0</td>\n      <td>0.0</td>\n      <td>0.0</td>\n    </tr>\n    <tr>\n      <th>16765</th>\n      <td>2d4c5b7d-76ee-437b-8811-563f37990acf</td>\n      <td>ff7e90be-3d74-4183-9ffc-c6c4267b8efd</td>\n      <td>Fully Paid</td>\n      <td>86812</td>\n      <td>Short Term</td>\n      <td>672.0</td>\n      <td>937270.0</td>\n      <td>10+ years</td>\n      <td>Rent</td>\n      <td>other</td>\n      <td>0.0</td>\n      <td>22.0</td>\n      <td>14.0</td>\n      <td>4</td>\n      <td>0</td>\n      <td>36233</td>\n      <td>310794.0</td>\n      <td>0.0</td>\n      <td>0.0</td>\n    </tr>\n    <tr>\n      <th>35455</th>\n      <td>49bdfa6c-c6e0-4ecc-826c-e7c3898475fc</td>\n      <td>3f97e229-16b2-4792-93db-73bfc142ef1d</td>\n      <td>Fully Paid</td>\n      <td>182930</td>\n      <td>Short Term</td>\n      <td>710.0</td>\n      <td>233339.0</td>\n      <td>&lt; 1 year</td>\n      <td>Own Home</td>\n      <td>other</td>\n      <td>0.0</td>\n      <td>21.6</td>\n      <td>16.0</td>\n      <td>4</td>\n      <td>0</td>\n      <td>0</td>\n      <td>0.0</td>\n      <td>0.0</td>\n      <td>0.0</td>\n    </tr>\n    <tr>\n      <th>76333</th>\n      <td>49bdfa6c-c6e0-4ecc-826c-e7c3898475fc</td>\n      <td>3f97e229-16b2-4792-93db-73bfc142ef1d</td>\n      <td>Fully Paid</td>\n      <td>182930</td>\n      <td>Short Term</td>\n      <td>710.0</td>\n      <td>233339.0</td>\n      <td>&lt; 1 year</td>\n      <td>Own Home</td>\n      <td>other</td>\n      <td>0.0</td>\n      <td>21.6</td>\n      <td>16.0</td>\n      <td>4</td>\n      <td>0</td>\n      <td>0</td>\n      <td>0.0</td>\n      <td>0.0</td>\n      <td>0.0</td>\n    </tr>\n    <tr>\n      <th>8050</th>\n      <td>6eb14cde-2de6-48df-a6dc-72527642d105</td>\n      <td>260c52a3-46b8-4cdc-89e7-352960557344</td>\n      <td>Fully Paid</td>\n      <td>49478</td>\n      <td>Short Term</td>\n      <td>714.0</td>\n      <td>364819.0</td>\n      <td>&lt; 1 year</td>\n      <td>Rent</td>\n      <td>Take a Trip</td>\n      <td>0.0</td>\n      <td>29.6</td>\n      <td>62.0</td>\n      <td>8</td>\n      <td>0</td>\n      <td>0</td>\n      <td>0.0</td>\n      <td>0.0</td>\n      <td>0.0</td>\n    </tr>\n    <tr>\n      <th>70528</th>\n      <td>9acb87c7-b7a8-433d-9250-5a75e169bb04</td>\n      <td>bd464f4f-0907-4d48-9401-3c564c01b063</td>\n      <td>Fully Paid</td>\n      <td>532576</td>\n      <td>Short Term</td>\n      <td>716.0</td>\n      <td>1154706.0</td>\n      <td>1 year</td>\n      <td>Rent</td>\n      <td>Other</td>\n      <td>0.0</td>\n      <td>11.9</td>\n      <td>NaN</td>\n      <td>1</td>\n      <td>0</td>\n      <td>0</td>\n      <td>0.0</td>\n      <td>0.0</td>\n      <td>0.0</td>\n    </tr>\n    <tr>\n      <th>10740</th>\n      <td>d5305fe8-6658-4dd5-9327-caa3238c354a</td>\n      <td>261a582c-18d4-455c-af2e-8f84b059364a</td>\n      <td>Fully Paid</td>\n      <td>75350</td>\n      <td>Short Term</td>\n      <td>704.0</td>\n      <td>867749.0</td>\n      <td>10+ years</td>\n      <td>Home Mortgage</td>\n      <td>Home Improvements</td>\n      <td>0.0</td>\n      <td>16.5</td>\n      <td>66.0</td>\n      <td>2</td>\n      <td>0</td>\n      <td>0</td>\n      <td>0.0</td>\n      <td>0.0</td>\n      <td>0.0</td>\n    </tr>\n    <tr>\n      <th>49933</th>\n      <td>ec2aabb1-fd0d-4770-b638-72509c189dc8</td>\n      <td>c21ae1b5-6b7c-4453-bb41-90c3617fb60a</td>\n      <td>Fully Paid</td>\n      <td>171226</td>\n      <td>Short Term</td>\n      <td>689.0</td>\n      <td>1824494.0</td>\n      <td>6 years</td>\n      <td>Home Mortgage</td>\n      <td>Home Improvements</td>\n      <td>0.0</td>\n      <td>10.5</td>\n      <td>NaN</td>\n      <td>3</td>\n      <td>1</td>\n      <td>0</td>\n      <td>0.0</td>\n      <td>1.0</td>\n      <td>0.0</td>\n    </tr>\n    <tr>\n      <th>7573</th>\n      <td>ec2aabb1-fd0d-4770-b638-72509c189dc8</td>\n      <td>c21ae1b5-6b7c-4453-bb41-90c3617fb60a</td>\n      <td>Fully Paid</td>\n      <td>171226</td>\n      <td>Short Term</td>\n      <td>689.0</td>\n      <td>1824494.0</td>\n      <td>6 years</td>\n      <td>Home Mortgage</td>\n      <td>Home Improvements</td>\n      <td>0.0</td>\n      <td>10.5</td>\n      <td>NaN</td>\n      <td>3</td>\n      <td>1</td>\n      <td>0</td>\n      <td>0.0</td>\n      <td>1.0</td>\n      <td>0.0</td>\n    </tr>\n    <tr>\n      <th>89759</th>\n      <td>f1c9adc7-b13b-4e2e-8b72-9d8cec4d2d1a</td>\n      <td>99b00f5d-fac1-4eda-8ece-f4fef2ba80bb</td>\n      <td>Fully Paid</td>\n      <td>134024</td>\n      <td>Short Term</td>\n      <td>698.0</td>\n      <td>733191.0</td>\n      <td>1 year</td>\n      <td>Rent</td>\n      <td>Debt Consolidation</td>\n      <td>0.0</td>\n      <td>11.0</td>\n      <td>50.0</td>\n      <td>4</td>\n      <td>0</td>\n      <td>0</td>\n      <td>0.0</td>\n      <td>0.0</td>\n      <td>0.0</td>\n    </tr>\n    <tr>\n      <th>72526</th>\n      <td>f20384b8-e589-4681-9d43-8348745b2471</td>\n      <td>a3ea1ce5-850f-4c40-a52f-b0aa1cd43409</td>\n      <td>Fully Paid</td>\n      <td>78078</td>\n      <td>Short Term</td>\n      <td>709.0</td>\n      <td>809248.0</td>\n      <td>6 years</td>\n      <td>Rent</td>\n      <td>Debt Consolidation</td>\n      <td>0.0</td>\n      <td>8.0</td>\n      <td>31.0</td>\n      <td>5</td>\n      <td>0</td>\n      <td>0</td>\n      <td>0.0</td>\n      <td>0.0</td>\n      <td>0.0</td>\n    </tr>\n  </tbody>\n</table>\n</div>"
     },
     "execution_count": 202,
     "metadata": {},
     "output_type": "execute_result"
    }
   ],
   "source": [
    "duplicated_df[duplicated_df[\"Loan ID\"].isin(duplicated_df[duplicated_df[\"Monthly Debt\"] == 0][\"Loan ID\"])]"
   ],
   "metadata": {
    "collapsed": false,
    "pycharm": {
     "name": "#%%\n"
    }
   }
  },
  {
   "cell_type": "markdown",
   "source": [
    "#### Значения Monthly Debt в дубликатах одинаковое, следовательно, выбрать наилучшую строку средни них невозможно. Оставляем данные без изменений"
   ],
   "metadata": {
    "collapsed": false,
    "pycharm": {
     "name": "#%% md\n"
    }
   }
  },
  {
   "cell_type": "markdown",
   "source": [
    "## Проверяем Current Credit Balance (суммарный текущий долг) равный нулю"
   ],
   "metadata": {
    "collapsed": false,
    "pycharm": {
     "name": "#%% md\n"
    }
   }
  },
  {
   "cell_type": "code",
   "execution_count": 199,
   "outputs": [
    {
     "data": {
      "text/plain": "59577    526414\n69442    445987\n10203    445987\n3978      79382\n98875     79382\n          ...  \n49019    135166\n72469    135166\n13362    176396\n81716    538023\n65354    538023\nName: Current Credit Balance, Length: 28216, dtype: int64"
     },
     "execution_count": 199,
     "metadata": {},
     "output_type": "execute_result"
    }
   ],
   "source": [
    "duplicated_df[\"Current Credit Balance\"]"
   ],
   "metadata": {
    "collapsed": false,
    "pycharm": {
     "name": "#%%\n"
    }
   }
  },
  {
   "cell_type": "code",
   "execution_count": 200,
   "outputs": [
    {
     "data": {
      "text/plain": "                                    Loan ID  \\\n78116  03740982-c6b8-487a-a220-5fa036fb15da   \n93067  03740982-c6b8-487a-a220-5fa036fb15da   \n34293  044acca2-f015-45cf-a9bf-8a6fbef5fd7b   \n38222  044acca2-f015-45cf-a9bf-8a6fbef5fd7b   \n54450  04c4c65f-e283-4cf5-b6ec-d2c8c4d5231f   \n...                                     ...   \n75164  f5e69312-d2cb-471a-9321-e001ff5829f2   \n89355  f8b10a7b-155b-4336-b266-c53b8d5fff7c   \n11966  f8b10a7b-155b-4336-b266-c53b8d5fff7c   \n61757  ff21cca8-c909-4c9d-9a9a-e071bd2c2548   \n78576  ff21cca8-c909-4c9d-9a9a-e071bd2c2548   \n\n                                Customer ID Loan Status  Current Loan Amount  \\\n78116  4f66b4f1-d21c-4679-a2fa-99d544876930  Fully Paid               243144   \n93067  4f66b4f1-d21c-4679-a2fa-99d544876930  Fully Paid               243144   \n34293  a3a97967-2ed0-495c-8eee-ffad59fb0f29  Fully Paid               178772   \n38222  a3a97967-2ed0-495c-8eee-ffad59fb0f29  Fully Paid               178772   \n54450  2fdd320f-99d7-4196-a9ad-2c2d359d8f77  Fully Paid               214940   \n...                                     ...         ...                  ...   \n75164  5ee02d94-a506-4929-9ef9-b28ad457fbb1  Fully Paid               227788   \n89355  e2991f56-ea9f-4b29-b025-8a489b534c56  Fully Paid               768768   \n11966  e2991f56-ea9f-4b29-b025-8a489b534c56  Fully Paid               768768   \n61757  b55f073c-16ff-4fb2-8e75-07f15a7675aa  Fully Paid                51942   \n78576  b55f073c-16ff-4fb2-8e75-07f15a7675aa  Fully Paid                51942   \n\n             Term  Credit Score  Annual Income Years in current job  \\\n78116  Short Term         706.0       788006.0              3 years   \n93067  Short Term         706.0       788006.0              3 years   \n34293  Short Term         722.0      2257903.0              6 years   \n38222  Short Term         722.0      2257903.0              6 years   \n54450  Short Term         682.0      1299410.0              7 years   \n...           ...           ...            ...                  ...   \n75164  Short Term         709.0      2154638.0               1 year   \n89355  Short Term         703.0      2655744.0            10+ years   \n11966  Short Term         703.0      2655744.0            10+ years   \n61757  Short Term         718.0       336395.0                  NaN   \n78576  Short Term         718.0       336395.0                  NaN   \n\n      Home Ownership             Purpose  Monthly Debt  \\\n78116           Rent               Other          0.00   \n93067           Rent               Other          0.00   \n34293           Rent               other      52496.24   \n38222           Rent               other      52496.24   \n54450  Home Mortgage       Medical Bills       3486.69   \n...              ...                 ...           ...   \n75164           Rent  Debt Consolidation      25855.58   \n89355           Rent   Home Improvements      35188.57   \n11966           Rent   Home Improvements      35188.57   \n61757           Rent  Debt Consolidation        468.16   \n78576           Rent  Debt Consolidation        468.16   \n\n       Years of Credit History  Months since last delinquent  \\\n78116                     21.6                          13.0   \n93067                     21.6                          13.0   \n34293                     14.5                          41.0   \n38222                     14.5                          41.0   \n54450                     10.9                          21.0   \n...                        ...                           ...   \n75164                     16.4                          33.0   \n89355                     28.5                           4.0   \n11966                     28.5                           4.0   \n61757                      9.9                           NaN   \n78576                      9.9                           NaN   \n\n       Number of Open Accounts  Number of Credit Problems  \\\n78116                        3                          0   \n93067                        3                          0   \n34293                        7                          0   \n38222                        7                          0   \n54450                       11                          0   \n...                        ...                        ...   \n75164                        4                          0   \n89355                       12                          0   \n11966                       12                          0   \n61757                        9                          0   \n78576                        9                          0   \n\n       Current Credit Balance  Maximum Open Credit  Bankruptcies  Tax Liens  \n78116                       0                  0.0           0.0        0.0  \n93067                       0                  0.0           0.0        0.0  \n34293                       0                  0.0           0.0        0.0  \n38222                       0                  0.0           0.0        0.0  \n54450                       0                  0.0           0.0        0.0  \n...                       ...                  ...           ...        ...  \n75164                       0                  0.0           0.0        0.0  \n89355                       0                  0.0           0.0        0.0  \n11966                       0                  0.0           0.0        0.0  \n61757                       0                  0.0           0.0        0.0  \n78576                       0                  0.0           0.0        0.0  \n\n[140 rows x 19 columns]",
      "text/html": "<div>\n<style scoped>\n    .dataframe tbody tr th:only-of-type {\n        vertical-align: middle;\n    }\n\n    .dataframe tbody tr th {\n        vertical-align: top;\n    }\n\n    .dataframe thead th {\n        text-align: right;\n    }\n</style>\n<table border=\"1\" class=\"dataframe\">\n  <thead>\n    <tr style=\"text-align: right;\">\n      <th></th>\n      <th>Loan ID</th>\n      <th>Customer ID</th>\n      <th>Loan Status</th>\n      <th>Current Loan Amount</th>\n      <th>Term</th>\n      <th>Credit Score</th>\n      <th>Annual Income</th>\n      <th>Years in current job</th>\n      <th>Home Ownership</th>\n      <th>Purpose</th>\n      <th>Monthly Debt</th>\n      <th>Years of Credit History</th>\n      <th>Months since last delinquent</th>\n      <th>Number of Open Accounts</th>\n      <th>Number of Credit Problems</th>\n      <th>Current Credit Balance</th>\n      <th>Maximum Open Credit</th>\n      <th>Bankruptcies</th>\n      <th>Tax Liens</th>\n    </tr>\n  </thead>\n  <tbody>\n    <tr>\n      <th>78116</th>\n      <td>03740982-c6b8-487a-a220-5fa036fb15da</td>\n      <td>4f66b4f1-d21c-4679-a2fa-99d544876930</td>\n      <td>Fully Paid</td>\n      <td>243144</td>\n      <td>Short Term</td>\n      <td>706.0</td>\n      <td>788006.0</td>\n      <td>3 years</td>\n      <td>Rent</td>\n      <td>Other</td>\n      <td>0.00</td>\n      <td>21.6</td>\n      <td>13.0</td>\n      <td>3</td>\n      <td>0</td>\n      <td>0</td>\n      <td>0.0</td>\n      <td>0.0</td>\n      <td>0.0</td>\n    </tr>\n    <tr>\n      <th>93067</th>\n      <td>03740982-c6b8-487a-a220-5fa036fb15da</td>\n      <td>4f66b4f1-d21c-4679-a2fa-99d544876930</td>\n      <td>Fully Paid</td>\n      <td>243144</td>\n      <td>Short Term</td>\n      <td>706.0</td>\n      <td>788006.0</td>\n      <td>3 years</td>\n      <td>Rent</td>\n      <td>Other</td>\n      <td>0.00</td>\n      <td>21.6</td>\n      <td>13.0</td>\n      <td>3</td>\n      <td>0</td>\n      <td>0</td>\n      <td>0.0</td>\n      <td>0.0</td>\n      <td>0.0</td>\n    </tr>\n    <tr>\n      <th>34293</th>\n      <td>044acca2-f015-45cf-a9bf-8a6fbef5fd7b</td>\n      <td>a3a97967-2ed0-495c-8eee-ffad59fb0f29</td>\n      <td>Fully Paid</td>\n      <td>178772</td>\n      <td>Short Term</td>\n      <td>722.0</td>\n      <td>2257903.0</td>\n      <td>6 years</td>\n      <td>Rent</td>\n      <td>other</td>\n      <td>52496.24</td>\n      <td>14.5</td>\n      <td>41.0</td>\n      <td>7</td>\n      <td>0</td>\n      <td>0</td>\n      <td>0.0</td>\n      <td>0.0</td>\n      <td>0.0</td>\n    </tr>\n    <tr>\n      <th>38222</th>\n      <td>044acca2-f015-45cf-a9bf-8a6fbef5fd7b</td>\n      <td>a3a97967-2ed0-495c-8eee-ffad59fb0f29</td>\n      <td>Fully Paid</td>\n      <td>178772</td>\n      <td>Short Term</td>\n      <td>722.0</td>\n      <td>2257903.0</td>\n      <td>6 years</td>\n      <td>Rent</td>\n      <td>other</td>\n      <td>52496.24</td>\n      <td>14.5</td>\n      <td>41.0</td>\n      <td>7</td>\n      <td>0</td>\n      <td>0</td>\n      <td>0.0</td>\n      <td>0.0</td>\n      <td>0.0</td>\n    </tr>\n    <tr>\n      <th>54450</th>\n      <td>04c4c65f-e283-4cf5-b6ec-d2c8c4d5231f</td>\n      <td>2fdd320f-99d7-4196-a9ad-2c2d359d8f77</td>\n      <td>Fully Paid</td>\n      <td>214940</td>\n      <td>Short Term</td>\n      <td>682.0</td>\n      <td>1299410.0</td>\n      <td>7 years</td>\n      <td>Home Mortgage</td>\n      <td>Medical Bills</td>\n      <td>3486.69</td>\n      <td>10.9</td>\n      <td>21.0</td>\n      <td>11</td>\n      <td>0</td>\n      <td>0</td>\n      <td>0.0</td>\n      <td>0.0</td>\n      <td>0.0</td>\n    </tr>\n    <tr>\n      <th>...</th>\n      <td>...</td>\n      <td>...</td>\n      <td>...</td>\n      <td>...</td>\n      <td>...</td>\n      <td>...</td>\n      <td>...</td>\n      <td>...</td>\n      <td>...</td>\n      <td>...</td>\n      <td>...</td>\n      <td>...</td>\n      <td>...</td>\n      <td>...</td>\n      <td>...</td>\n      <td>...</td>\n      <td>...</td>\n      <td>...</td>\n      <td>...</td>\n    </tr>\n    <tr>\n      <th>75164</th>\n      <td>f5e69312-d2cb-471a-9321-e001ff5829f2</td>\n      <td>5ee02d94-a506-4929-9ef9-b28ad457fbb1</td>\n      <td>Fully Paid</td>\n      <td>227788</td>\n      <td>Short Term</td>\n      <td>709.0</td>\n      <td>2154638.0</td>\n      <td>1 year</td>\n      <td>Rent</td>\n      <td>Debt Consolidation</td>\n      <td>25855.58</td>\n      <td>16.4</td>\n      <td>33.0</td>\n      <td>4</td>\n      <td>0</td>\n      <td>0</td>\n      <td>0.0</td>\n      <td>0.0</td>\n      <td>0.0</td>\n    </tr>\n    <tr>\n      <th>89355</th>\n      <td>f8b10a7b-155b-4336-b266-c53b8d5fff7c</td>\n      <td>e2991f56-ea9f-4b29-b025-8a489b534c56</td>\n      <td>Fully Paid</td>\n      <td>768768</td>\n      <td>Short Term</td>\n      <td>703.0</td>\n      <td>2655744.0</td>\n      <td>10+ years</td>\n      <td>Rent</td>\n      <td>Home Improvements</td>\n      <td>35188.57</td>\n      <td>28.5</td>\n      <td>4.0</td>\n      <td>12</td>\n      <td>0</td>\n      <td>0</td>\n      <td>0.0</td>\n      <td>0.0</td>\n      <td>0.0</td>\n    </tr>\n    <tr>\n      <th>11966</th>\n      <td>f8b10a7b-155b-4336-b266-c53b8d5fff7c</td>\n      <td>e2991f56-ea9f-4b29-b025-8a489b534c56</td>\n      <td>Fully Paid</td>\n      <td>768768</td>\n      <td>Short Term</td>\n      <td>703.0</td>\n      <td>2655744.0</td>\n      <td>10+ years</td>\n      <td>Rent</td>\n      <td>Home Improvements</td>\n      <td>35188.57</td>\n      <td>28.5</td>\n      <td>4.0</td>\n      <td>12</td>\n      <td>0</td>\n      <td>0</td>\n      <td>0.0</td>\n      <td>0.0</td>\n      <td>0.0</td>\n    </tr>\n    <tr>\n      <th>61757</th>\n      <td>ff21cca8-c909-4c9d-9a9a-e071bd2c2548</td>\n      <td>b55f073c-16ff-4fb2-8e75-07f15a7675aa</td>\n      <td>Fully Paid</td>\n      <td>51942</td>\n      <td>Short Term</td>\n      <td>718.0</td>\n      <td>336395.0</td>\n      <td>NaN</td>\n      <td>Rent</td>\n      <td>Debt Consolidation</td>\n      <td>468.16</td>\n      <td>9.9</td>\n      <td>NaN</td>\n      <td>9</td>\n      <td>0</td>\n      <td>0</td>\n      <td>0.0</td>\n      <td>0.0</td>\n      <td>0.0</td>\n    </tr>\n    <tr>\n      <th>78576</th>\n      <td>ff21cca8-c909-4c9d-9a9a-e071bd2c2548</td>\n      <td>b55f073c-16ff-4fb2-8e75-07f15a7675aa</td>\n      <td>Fully Paid</td>\n      <td>51942</td>\n      <td>Short Term</td>\n      <td>718.0</td>\n      <td>336395.0</td>\n      <td>NaN</td>\n      <td>Rent</td>\n      <td>Debt Consolidation</td>\n      <td>468.16</td>\n      <td>9.9</td>\n      <td>NaN</td>\n      <td>9</td>\n      <td>0</td>\n      <td>0</td>\n      <td>0.0</td>\n      <td>0.0</td>\n      <td>0.0</td>\n    </tr>\n  </tbody>\n</table>\n<p>140 rows × 19 columns</p>\n</div>"
     },
     "execution_count": 200,
     "metadata": {},
     "output_type": "execute_result"
    }
   ],
   "source": [
    "duplicated_df[duplicated_df[\"Current Credit Balance\"] == 0]"
   ],
   "metadata": {
    "collapsed": false,
    "pycharm": {
     "name": "#%%\n"
    }
   }
  },
  {
   "cell_type": "code",
   "execution_count": 203,
   "outputs": [
    {
     "data": {
      "text/plain": "                                    Loan ID  \\\n78116  03740982-c6b8-487a-a220-5fa036fb15da   \n93067  03740982-c6b8-487a-a220-5fa036fb15da   \n34293  044acca2-f015-45cf-a9bf-8a6fbef5fd7b   \n38222  044acca2-f015-45cf-a9bf-8a6fbef5fd7b   \n54450  04c4c65f-e283-4cf5-b6ec-d2c8c4d5231f   \n...                                     ...   \n75164  f5e69312-d2cb-471a-9321-e001ff5829f2   \n89355  f8b10a7b-155b-4336-b266-c53b8d5fff7c   \n11966  f8b10a7b-155b-4336-b266-c53b8d5fff7c   \n61757  ff21cca8-c909-4c9d-9a9a-e071bd2c2548   \n78576  ff21cca8-c909-4c9d-9a9a-e071bd2c2548   \n\n                                Customer ID Loan Status  Current Loan Amount  \\\n78116  4f66b4f1-d21c-4679-a2fa-99d544876930  Fully Paid               243144   \n93067  4f66b4f1-d21c-4679-a2fa-99d544876930  Fully Paid               243144   \n34293  a3a97967-2ed0-495c-8eee-ffad59fb0f29  Fully Paid               178772   \n38222  a3a97967-2ed0-495c-8eee-ffad59fb0f29  Fully Paid               178772   \n54450  2fdd320f-99d7-4196-a9ad-2c2d359d8f77  Fully Paid               214940   \n...                                     ...         ...                  ...   \n75164  5ee02d94-a506-4929-9ef9-b28ad457fbb1  Fully Paid               227788   \n89355  e2991f56-ea9f-4b29-b025-8a489b534c56  Fully Paid               768768   \n11966  e2991f56-ea9f-4b29-b025-8a489b534c56  Fully Paid               768768   \n61757  b55f073c-16ff-4fb2-8e75-07f15a7675aa  Fully Paid                51942   \n78576  b55f073c-16ff-4fb2-8e75-07f15a7675aa  Fully Paid                51942   \n\n             Term  Credit Score  Annual Income Years in current job  \\\n78116  Short Term         706.0       788006.0              3 years   \n93067  Short Term         706.0       788006.0              3 years   \n34293  Short Term         722.0      2257903.0              6 years   \n38222  Short Term         722.0      2257903.0              6 years   \n54450  Short Term         682.0      1299410.0              7 years   \n...           ...           ...            ...                  ...   \n75164  Short Term         709.0      2154638.0               1 year   \n89355  Short Term         703.0      2655744.0            10+ years   \n11966  Short Term         703.0      2655744.0            10+ years   \n61757  Short Term         718.0       336395.0                  NaN   \n78576  Short Term         718.0       336395.0                  NaN   \n\n      Home Ownership             Purpose  Monthly Debt  \\\n78116           Rent               Other          0.00   \n93067           Rent               Other          0.00   \n34293           Rent               other      52496.24   \n38222           Rent               other      52496.24   \n54450  Home Mortgage       Medical Bills       3486.69   \n...              ...                 ...           ...   \n75164           Rent  Debt Consolidation      25855.58   \n89355           Rent   Home Improvements      35188.57   \n11966           Rent   Home Improvements      35188.57   \n61757           Rent  Debt Consolidation        468.16   \n78576           Rent  Debt Consolidation        468.16   \n\n       Years of Credit History  Months since last delinquent  \\\n78116                     21.6                          13.0   \n93067                     21.6                          13.0   \n34293                     14.5                          41.0   \n38222                     14.5                          41.0   \n54450                     10.9                          21.0   \n...                        ...                           ...   \n75164                     16.4                          33.0   \n89355                     28.5                           4.0   \n11966                     28.5                           4.0   \n61757                      9.9                           NaN   \n78576                      9.9                           NaN   \n\n       Number of Open Accounts  Number of Credit Problems  \\\n78116                        3                          0   \n93067                        3                          0   \n34293                        7                          0   \n38222                        7                          0   \n54450                       11                          0   \n...                        ...                        ...   \n75164                        4                          0   \n89355                       12                          0   \n11966                       12                          0   \n61757                        9                          0   \n78576                        9                          0   \n\n       Current Credit Balance  Maximum Open Credit  Bankruptcies  Tax Liens  \n78116                       0                  0.0           0.0        0.0  \n93067                       0                  0.0           0.0        0.0  \n34293                       0                  0.0           0.0        0.0  \n38222                       0                  0.0           0.0        0.0  \n54450                       0                  0.0           0.0        0.0  \n...                       ...                  ...           ...        ...  \n75164                       0                  0.0           0.0        0.0  \n89355                       0                  0.0           0.0        0.0  \n11966                       0                  0.0           0.0        0.0  \n61757                       0                  0.0           0.0        0.0  \n78576                       0                  0.0           0.0        0.0  \n\n[140 rows x 19 columns]",
      "text/html": "<div>\n<style scoped>\n    .dataframe tbody tr th:only-of-type {\n        vertical-align: middle;\n    }\n\n    .dataframe tbody tr th {\n        vertical-align: top;\n    }\n\n    .dataframe thead th {\n        text-align: right;\n    }\n</style>\n<table border=\"1\" class=\"dataframe\">\n  <thead>\n    <tr style=\"text-align: right;\">\n      <th></th>\n      <th>Loan ID</th>\n      <th>Customer ID</th>\n      <th>Loan Status</th>\n      <th>Current Loan Amount</th>\n      <th>Term</th>\n      <th>Credit Score</th>\n      <th>Annual Income</th>\n      <th>Years in current job</th>\n      <th>Home Ownership</th>\n      <th>Purpose</th>\n      <th>Monthly Debt</th>\n      <th>Years of Credit History</th>\n      <th>Months since last delinquent</th>\n      <th>Number of Open Accounts</th>\n      <th>Number of Credit Problems</th>\n      <th>Current Credit Balance</th>\n      <th>Maximum Open Credit</th>\n      <th>Bankruptcies</th>\n      <th>Tax Liens</th>\n    </tr>\n  </thead>\n  <tbody>\n    <tr>\n      <th>78116</th>\n      <td>03740982-c6b8-487a-a220-5fa036fb15da</td>\n      <td>4f66b4f1-d21c-4679-a2fa-99d544876930</td>\n      <td>Fully Paid</td>\n      <td>243144</td>\n      <td>Short Term</td>\n      <td>706.0</td>\n      <td>788006.0</td>\n      <td>3 years</td>\n      <td>Rent</td>\n      <td>Other</td>\n      <td>0.00</td>\n      <td>21.6</td>\n      <td>13.0</td>\n      <td>3</td>\n      <td>0</td>\n      <td>0</td>\n      <td>0.0</td>\n      <td>0.0</td>\n      <td>0.0</td>\n    </tr>\n    <tr>\n      <th>93067</th>\n      <td>03740982-c6b8-487a-a220-5fa036fb15da</td>\n      <td>4f66b4f1-d21c-4679-a2fa-99d544876930</td>\n      <td>Fully Paid</td>\n      <td>243144</td>\n      <td>Short Term</td>\n      <td>706.0</td>\n      <td>788006.0</td>\n      <td>3 years</td>\n      <td>Rent</td>\n      <td>Other</td>\n      <td>0.00</td>\n      <td>21.6</td>\n      <td>13.0</td>\n      <td>3</td>\n      <td>0</td>\n      <td>0</td>\n      <td>0.0</td>\n      <td>0.0</td>\n      <td>0.0</td>\n    </tr>\n    <tr>\n      <th>34293</th>\n      <td>044acca2-f015-45cf-a9bf-8a6fbef5fd7b</td>\n      <td>a3a97967-2ed0-495c-8eee-ffad59fb0f29</td>\n      <td>Fully Paid</td>\n      <td>178772</td>\n      <td>Short Term</td>\n      <td>722.0</td>\n      <td>2257903.0</td>\n      <td>6 years</td>\n      <td>Rent</td>\n      <td>other</td>\n      <td>52496.24</td>\n      <td>14.5</td>\n      <td>41.0</td>\n      <td>7</td>\n      <td>0</td>\n      <td>0</td>\n      <td>0.0</td>\n      <td>0.0</td>\n      <td>0.0</td>\n    </tr>\n    <tr>\n      <th>38222</th>\n      <td>044acca2-f015-45cf-a9bf-8a6fbef5fd7b</td>\n      <td>a3a97967-2ed0-495c-8eee-ffad59fb0f29</td>\n      <td>Fully Paid</td>\n      <td>178772</td>\n      <td>Short Term</td>\n      <td>722.0</td>\n      <td>2257903.0</td>\n      <td>6 years</td>\n      <td>Rent</td>\n      <td>other</td>\n      <td>52496.24</td>\n      <td>14.5</td>\n      <td>41.0</td>\n      <td>7</td>\n      <td>0</td>\n      <td>0</td>\n      <td>0.0</td>\n      <td>0.0</td>\n      <td>0.0</td>\n    </tr>\n    <tr>\n      <th>54450</th>\n      <td>04c4c65f-e283-4cf5-b6ec-d2c8c4d5231f</td>\n      <td>2fdd320f-99d7-4196-a9ad-2c2d359d8f77</td>\n      <td>Fully Paid</td>\n      <td>214940</td>\n      <td>Short Term</td>\n      <td>682.0</td>\n      <td>1299410.0</td>\n      <td>7 years</td>\n      <td>Home Mortgage</td>\n      <td>Medical Bills</td>\n      <td>3486.69</td>\n      <td>10.9</td>\n      <td>21.0</td>\n      <td>11</td>\n      <td>0</td>\n      <td>0</td>\n      <td>0.0</td>\n      <td>0.0</td>\n      <td>0.0</td>\n    </tr>\n    <tr>\n      <th>...</th>\n      <td>...</td>\n      <td>...</td>\n      <td>...</td>\n      <td>...</td>\n      <td>...</td>\n      <td>...</td>\n      <td>...</td>\n      <td>...</td>\n      <td>...</td>\n      <td>...</td>\n      <td>...</td>\n      <td>...</td>\n      <td>...</td>\n      <td>...</td>\n      <td>...</td>\n      <td>...</td>\n      <td>...</td>\n      <td>...</td>\n      <td>...</td>\n    </tr>\n    <tr>\n      <th>75164</th>\n      <td>f5e69312-d2cb-471a-9321-e001ff5829f2</td>\n      <td>5ee02d94-a506-4929-9ef9-b28ad457fbb1</td>\n      <td>Fully Paid</td>\n      <td>227788</td>\n      <td>Short Term</td>\n      <td>709.0</td>\n      <td>2154638.0</td>\n      <td>1 year</td>\n      <td>Rent</td>\n      <td>Debt Consolidation</td>\n      <td>25855.58</td>\n      <td>16.4</td>\n      <td>33.0</td>\n      <td>4</td>\n      <td>0</td>\n      <td>0</td>\n      <td>0.0</td>\n      <td>0.0</td>\n      <td>0.0</td>\n    </tr>\n    <tr>\n      <th>89355</th>\n      <td>f8b10a7b-155b-4336-b266-c53b8d5fff7c</td>\n      <td>e2991f56-ea9f-4b29-b025-8a489b534c56</td>\n      <td>Fully Paid</td>\n      <td>768768</td>\n      <td>Short Term</td>\n      <td>703.0</td>\n      <td>2655744.0</td>\n      <td>10+ years</td>\n      <td>Rent</td>\n      <td>Home Improvements</td>\n      <td>35188.57</td>\n      <td>28.5</td>\n      <td>4.0</td>\n      <td>12</td>\n      <td>0</td>\n      <td>0</td>\n      <td>0.0</td>\n      <td>0.0</td>\n      <td>0.0</td>\n    </tr>\n    <tr>\n      <th>11966</th>\n      <td>f8b10a7b-155b-4336-b266-c53b8d5fff7c</td>\n      <td>e2991f56-ea9f-4b29-b025-8a489b534c56</td>\n      <td>Fully Paid</td>\n      <td>768768</td>\n      <td>Short Term</td>\n      <td>703.0</td>\n      <td>2655744.0</td>\n      <td>10+ years</td>\n      <td>Rent</td>\n      <td>Home Improvements</td>\n      <td>35188.57</td>\n      <td>28.5</td>\n      <td>4.0</td>\n      <td>12</td>\n      <td>0</td>\n      <td>0</td>\n      <td>0.0</td>\n      <td>0.0</td>\n      <td>0.0</td>\n    </tr>\n    <tr>\n      <th>61757</th>\n      <td>ff21cca8-c909-4c9d-9a9a-e071bd2c2548</td>\n      <td>b55f073c-16ff-4fb2-8e75-07f15a7675aa</td>\n      <td>Fully Paid</td>\n      <td>51942</td>\n      <td>Short Term</td>\n      <td>718.0</td>\n      <td>336395.0</td>\n      <td>NaN</td>\n      <td>Rent</td>\n      <td>Debt Consolidation</td>\n      <td>468.16</td>\n      <td>9.9</td>\n      <td>NaN</td>\n      <td>9</td>\n      <td>0</td>\n      <td>0</td>\n      <td>0.0</td>\n      <td>0.0</td>\n      <td>0.0</td>\n    </tr>\n    <tr>\n      <th>78576</th>\n      <td>ff21cca8-c909-4c9d-9a9a-e071bd2c2548</td>\n      <td>b55f073c-16ff-4fb2-8e75-07f15a7675aa</td>\n      <td>Fully Paid</td>\n      <td>51942</td>\n      <td>Short Term</td>\n      <td>718.0</td>\n      <td>336395.0</td>\n      <td>NaN</td>\n      <td>Rent</td>\n      <td>Debt Consolidation</td>\n      <td>468.16</td>\n      <td>9.9</td>\n      <td>NaN</td>\n      <td>9</td>\n      <td>0</td>\n      <td>0</td>\n      <td>0.0</td>\n      <td>0.0</td>\n      <td>0.0</td>\n    </tr>\n  </tbody>\n</table>\n<p>140 rows × 19 columns</p>\n</div>"
     },
     "execution_count": 203,
     "metadata": {},
     "output_type": "execute_result"
    }
   ],
   "source": [
    "duplicated_df[duplicated_df[\"Loan ID\"].isin(duplicated_df[duplicated_df[\"Current Credit Balance\"] == 0][\"Loan ID\"])]"
   ],
   "metadata": {
    "collapsed": false,
    "pycharm": {
     "name": "#%%\n"
    }
   }
  },
  {
   "cell_type": "code",
   "execution_count": null,
   "outputs": [],
   "source": [],
   "metadata": {
    "collapsed": false,
    "pycharm": {
     "name": "#%%\n"
    }
   }
  },
  {
   "cell_type": "code",
   "execution_count": null,
   "outputs": [],
   "source": [],
   "metadata": {
    "collapsed": false,
    "pycharm": {
     "name": "#%%\n"
    }
   }
  },
  {
   "cell_type": "code",
   "execution_count": null,
   "outputs": [],
   "source": [],
   "metadata": {
    "collapsed": false,
    "pycharm": {
     "name": "#%%\n"
    }
   }
  },
  {
   "cell_type": "code",
   "execution_count": null,
   "outputs": [],
   "source": [],
   "metadata": {
    "collapsed": false,
    "pycharm": {
     "name": "#%%\n"
    }
   }
  },
  {
   "cell_type": "code",
   "execution_count": null,
   "outputs": [],
   "source": [],
   "metadata": {
    "collapsed": false,
    "pycharm": {
     "name": "#%%\n"
    }
   }
  },
  {
   "cell_type": "code",
   "execution_count": null,
   "outputs": [],
   "source": [],
   "metadata": {
    "collapsed": false,
    "pycharm": {
     "name": "#%%\n"
    }
   }
  },
  {
   "cell_type": "code",
   "execution_count": null,
   "outputs": [],
   "source": [],
   "metadata": {
    "collapsed": false,
    "pycharm": {
     "name": "#%%\n"
    }
   }
  },
  {
   "cell_type": "code",
   "execution_count": null,
   "outputs": [],
   "source": [],
   "metadata": {
    "collapsed": false,
    "pycharm": {
     "name": "#%%\n"
    }
   }
  },
  {
   "cell_type": "code",
   "execution_count": null,
   "outputs": [],
   "source": [],
   "metadata": {
    "collapsed": false,
    "pycharm": {
     "name": "#%%\n"
    }
   }
  },
  {
   "cell_type": "code",
   "execution_count": null,
   "outputs": [],
   "source": [],
   "metadata": {
    "collapsed": false,
    "pycharm": {
     "name": "#%%\n"
    }
   }
  },
  {
   "cell_type": "code",
   "execution_count": null,
   "outputs": [],
   "source": [],
   "metadata": {
    "collapsed": false,
    "pycharm": {
     "name": "#%%\n"
    }
   }
  },
  {
   "cell_type": "markdown",
   "source": [
    "## Удаляем ненужные идентификаторы заемов и заемщиков. Они нам будут только мешать, но на итоговый результат не влияют"
   ],
   "metadata": {
    "collapsed": false,
    "pycharm": {
     "name": "#%% md\n"
    }
   }
  },
  {
   "cell_type": "code",
   "execution_count": 29,
   "outputs": [
    {
     "data": {
      "text/plain": "  Loan Status  Current Loan Amount        Term  Credit Score  Annual Income  \\\n0  Fully Paid               445412  Short Term         709.0      1167493.0   \n1  Fully Paid               262328  Short Term           NaN            NaN   \n2  Fully Paid             99999999  Short Term         741.0      2231892.0   \n3  Fully Paid               347666   Long Term         721.0       806949.0   \n4  Fully Paid               176220  Short Term           NaN            NaN   \n\n  Years in current job Home Ownership             Purpose  Monthly Debt  \\\n0              8 years  Home Mortgage   Home Improvements       5214.74   \n1            10+ years  Home Mortgage  Debt Consolidation      33295.98   \n2              8 years       Own Home  Debt Consolidation      29200.53   \n3              3 years       Own Home  Debt Consolidation       8741.90   \n4              5 years           Rent  Debt Consolidation      20639.70   \n\n   Years of Credit History  Months since last delinquent  \\\n0                     17.2                           NaN   \n1                     21.1                           8.0   \n2                     14.9                          29.0   \n3                     12.0                           NaN   \n4                      6.1                           NaN   \n\n   Number of Open Accounts  Number of Credit Problems  Current Credit Balance  \\\n0                        6                          1                  228190   \n1                       35                          0                  229976   \n2                       18                          1                  297996   \n3                        9                          0                  256329   \n4                       15                          0                  253460   \n\n   Maximum Open Credit  Bankruptcies  Tax Liens  \n0             416746.0           1.0        0.0  \n1             850784.0           0.0        0.0  \n2             750090.0           0.0        0.0  \n3             386958.0           0.0        0.0  \n4             427174.0           0.0        0.0  ",
      "text/html": "<div>\n<style scoped>\n    .dataframe tbody tr th:only-of-type {\n        vertical-align: middle;\n    }\n\n    .dataframe tbody tr th {\n        vertical-align: top;\n    }\n\n    .dataframe thead th {\n        text-align: right;\n    }\n</style>\n<table border=\"1\" class=\"dataframe\">\n  <thead>\n    <tr style=\"text-align: right;\">\n      <th></th>\n      <th>Loan Status</th>\n      <th>Current Loan Amount</th>\n      <th>Term</th>\n      <th>Credit Score</th>\n      <th>Annual Income</th>\n      <th>Years in current job</th>\n      <th>Home Ownership</th>\n      <th>Purpose</th>\n      <th>Monthly Debt</th>\n      <th>Years of Credit History</th>\n      <th>Months since last delinquent</th>\n      <th>Number of Open Accounts</th>\n      <th>Number of Credit Problems</th>\n      <th>Current Credit Balance</th>\n      <th>Maximum Open Credit</th>\n      <th>Bankruptcies</th>\n      <th>Tax Liens</th>\n    </tr>\n  </thead>\n  <tbody>\n    <tr>\n      <th>0</th>\n      <td>Fully Paid</td>\n      <td>445412</td>\n      <td>Short Term</td>\n      <td>709.0</td>\n      <td>1167493.0</td>\n      <td>8 years</td>\n      <td>Home Mortgage</td>\n      <td>Home Improvements</td>\n      <td>5214.74</td>\n      <td>17.2</td>\n      <td>NaN</td>\n      <td>6</td>\n      <td>1</td>\n      <td>228190</td>\n      <td>416746.0</td>\n      <td>1.0</td>\n      <td>0.0</td>\n    </tr>\n    <tr>\n      <th>1</th>\n      <td>Fully Paid</td>\n      <td>262328</td>\n      <td>Short Term</td>\n      <td>NaN</td>\n      <td>NaN</td>\n      <td>10+ years</td>\n      <td>Home Mortgage</td>\n      <td>Debt Consolidation</td>\n      <td>33295.98</td>\n      <td>21.1</td>\n      <td>8.0</td>\n      <td>35</td>\n      <td>0</td>\n      <td>229976</td>\n      <td>850784.0</td>\n      <td>0.0</td>\n      <td>0.0</td>\n    </tr>\n    <tr>\n      <th>2</th>\n      <td>Fully Paid</td>\n      <td>99999999</td>\n      <td>Short Term</td>\n      <td>741.0</td>\n      <td>2231892.0</td>\n      <td>8 years</td>\n      <td>Own Home</td>\n      <td>Debt Consolidation</td>\n      <td>29200.53</td>\n      <td>14.9</td>\n      <td>29.0</td>\n      <td>18</td>\n      <td>1</td>\n      <td>297996</td>\n      <td>750090.0</td>\n      <td>0.0</td>\n      <td>0.0</td>\n    </tr>\n    <tr>\n      <th>3</th>\n      <td>Fully Paid</td>\n      <td>347666</td>\n      <td>Long Term</td>\n      <td>721.0</td>\n      <td>806949.0</td>\n      <td>3 years</td>\n      <td>Own Home</td>\n      <td>Debt Consolidation</td>\n      <td>8741.90</td>\n      <td>12.0</td>\n      <td>NaN</td>\n      <td>9</td>\n      <td>0</td>\n      <td>256329</td>\n      <td>386958.0</td>\n      <td>0.0</td>\n      <td>0.0</td>\n    </tr>\n    <tr>\n      <th>4</th>\n      <td>Fully Paid</td>\n      <td>176220</td>\n      <td>Short Term</td>\n      <td>NaN</td>\n      <td>NaN</td>\n      <td>5 years</td>\n      <td>Rent</td>\n      <td>Debt Consolidation</td>\n      <td>20639.70</td>\n      <td>6.1</td>\n      <td>NaN</td>\n      <td>15</td>\n      <td>0</td>\n      <td>253460</td>\n      <td>427174.0</td>\n      <td>0.0</td>\n      <td>0.0</td>\n    </tr>\n  </tbody>\n</table>\n</div>"
     },
     "execution_count": 29,
     "metadata": {},
     "output_type": "execute_result"
    }
   ],
   "source": [
    "data_scoring = data_scoring.drop(columns=[\"Loan ID\", \"Customer ID\"])\n",
    "data_scoring.head()"
   ],
   "metadata": {
    "collapsed": false,
    "pycharm": {
     "name": "#%%\n"
    }
   }
  },
  {
   "cell_type": "markdown",
   "source": [
    "Таким образом, у нас 100_000 записей и 17"
   ],
   "metadata": {
    "collapsed": false,
    "pycharm": {
     "name": "#%% md\n"
    }
   }
  },
  {
   "cell_type": "code",
   "execution_count": 30,
   "outputs": [
    {
     "data": {
      "text/plain": "(100000, 17)"
     },
     "execution_count": 30,
     "metadata": {},
     "output_type": "execute_result"
    }
   ],
   "source": [
    "data_scoring.shape"
   ],
   "metadata": {
    "collapsed": false,
    "pycharm": {
     "name": "#%%\n"
    }
   }
  },
  {
   "cell_type": "code",
   "execution_count": 31,
   "outputs": [
    {
     "data": {
      "text/plain": "       Current Loan Amount  Credit Score  Annual Income   Monthly Debt  \\\ncount         1.000000e+05  80846.000000   8.084600e+04  100000.000000   \nmean          1.176045e+07   1076.456089   1.378277e+06   18472.412336   \nstd           3.178394e+07   1475.403791   1.081360e+06   12174.992609   \nmin           1.080200e+04    585.000000   7.662700e+04       0.000000   \n25%           1.796520e+05    705.000000   8.488440e+05   10214.162500   \n50%           3.122460e+05    724.000000   1.174162e+06   16220.300000   \n75%           5.249420e+05    741.000000   1.650663e+06   24012.057500   \nmax           1.000000e+08   7510.000000   1.655574e+08  435843.280000   \n\n       Years of Credit History  Months since last delinquent  \\\ncount            100000.000000                  46859.000000   \nmean                 18.199141                     34.901321   \nstd                   7.015324                     21.997829   \nmin                   3.600000                      0.000000   \n25%                  13.500000                     16.000000   \n50%                  16.900000                     32.000000   \n75%                  21.700000                     51.000000   \nmax                  70.500000                    176.000000   \n\n       Number of Open Accounts  Number of Credit Problems  \\\ncount             100000.00000              100000.000000   \nmean                  11.12853                   0.168310   \nstd                    5.00987                   0.482705   \nmin                    0.00000                   0.000000   \n25%                    8.00000                   0.000000   \n50%                   10.00000                   0.000000   \n75%                   14.00000                   0.000000   \nmax                   76.00000                  15.000000   \n\n       Current Credit Balance  Maximum Open Credit  Bankruptcies     Tax Liens  \ncount            1.000000e+05         9.999800e+04  99796.000000  99990.000000  \nmean             2.946374e+05         7.607984e+05      0.117740      0.029313  \nstd              3.761709e+05         8.384503e+06      0.351424      0.258182  \nmin              0.000000e+00         0.000000e+00      0.000000      0.000000  \n25%              1.126700e+05         2.734380e+05      0.000000      0.000000  \n50%              2.098170e+05         4.678740e+05      0.000000      0.000000  \n75%              3.679588e+05         7.829580e+05      0.000000      0.000000  \nmax              3.287897e+07         1.539738e+09      7.000000     15.000000  ",
      "text/html": "<div>\n<style scoped>\n    .dataframe tbody tr th:only-of-type {\n        vertical-align: middle;\n    }\n\n    .dataframe tbody tr th {\n        vertical-align: top;\n    }\n\n    .dataframe thead th {\n        text-align: right;\n    }\n</style>\n<table border=\"1\" class=\"dataframe\">\n  <thead>\n    <tr style=\"text-align: right;\">\n      <th></th>\n      <th>Current Loan Amount</th>\n      <th>Credit Score</th>\n      <th>Annual Income</th>\n      <th>Monthly Debt</th>\n      <th>Years of Credit History</th>\n      <th>Months since last delinquent</th>\n      <th>Number of Open Accounts</th>\n      <th>Number of Credit Problems</th>\n      <th>Current Credit Balance</th>\n      <th>Maximum Open Credit</th>\n      <th>Bankruptcies</th>\n      <th>Tax Liens</th>\n    </tr>\n  </thead>\n  <tbody>\n    <tr>\n      <th>count</th>\n      <td>1.000000e+05</td>\n      <td>80846.000000</td>\n      <td>8.084600e+04</td>\n      <td>100000.000000</td>\n      <td>100000.000000</td>\n      <td>46859.000000</td>\n      <td>100000.00000</td>\n      <td>100000.000000</td>\n      <td>1.000000e+05</td>\n      <td>9.999800e+04</td>\n      <td>99796.000000</td>\n      <td>99990.000000</td>\n    </tr>\n    <tr>\n      <th>mean</th>\n      <td>1.176045e+07</td>\n      <td>1076.456089</td>\n      <td>1.378277e+06</td>\n      <td>18472.412336</td>\n      <td>18.199141</td>\n      <td>34.901321</td>\n      <td>11.12853</td>\n      <td>0.168310</td>\n      <td>2.946374e+05</td>\n      <td>7.607984e+05</td>\n      <td>0.117740</td>\n      <td>0.029313</td>\n    </tr>\n    <tr>\n      <th>std</th>\n      <td>3.178394e+07</td>\n      <td>1475.403791</td>\n      <td>1.081360e+06</td>\n      <td>12174.992609</td>\n      <td>7.015324</td>\n      <td>21.997829</td>\n      <td>5.00987</td>\n      <td>0.482705</td>\n      <td>3.761709e+05</td>\n      <td>8.384503e+06</td>\n      <td>0.351424</td>\n      <td>0.258182</td>\n    </tr>\n    <tr>\n      <th>min</th>\n      <td>1.080200e+04</td>\n      <td>585.000000</td>\n      <td>7.662700e+04</td>\n      <td>0.000000</td>\n      <td>3.600000</td>\n      <td>0.000000</td>\n      <td>0.00000</td>\n      <td>0.000000</td>\n      <td>0.000000e+00</td>\n      <td>0.000000e+00</td>\n      <td>0.000000</td>\n      <td>0.000000</td>\n    </tr>\n    <tr>\n      <th>25%</th>\n      <td>1.796520e+05</td>\n      <td>705.000000</td>\n      <td>8.488440e+05</td>\n      <td>10214.162500</td>\n      <td>13.500000</td>\n      <td>16.000000</td>\n      <td>8.00000</td>\n      <td>0.000000</td>\n      <td>1.126700e+05</td>\n      <td>2.734380e+05</td>\n      <td>0.000000</td>\n      <td>0.000000</td>\n    </tr>\n    <tr>\n      <th>50%</th>\n      <td>3.122460e+05</td>\n      <td>724.000000</td>\n      <td>1.174162e+06</td>\n      <td>16220.300000</td>\n      <td>16.900000</td>\n      <td>32.000000</td>\n      <td>10.00000</td>\n      <td>0.000000</td>\n      <td>2.098170e+05</td>\n      <td>4.678740e+05</td>\n      <td>0.000000</td>\n      <td>0.000000</td>\n    </tr>\n    <tr>\n      <th>75%</th>\n      <td>5.249420e+05</td>\n      <td>741.000000</td>\n      <td>1.650663e+06</td>\n      <td>24012.057500</td>\n      <td>21.700000</td>\n      <td>51.000000</td>\n      <td>14.00000</td>\n      <td>0.000000</td>\n      <td>3.679588e+05</td>\n      <td>7.829580e+05</td>\n      <td>0.000000</td>\n      <td>0.000000</td>\n    </tr>\n    <tr>\n      <th>max</th>\n      <td>1.000000e+08</td>\n      <td>7510.000000</td>\n      <td>1.655574e+08</td>\n      <td>435843.280000</td>\n      <td>70.500000</td>\n      <td>176.000000</td>\n      <td>76.00000</td>\n      <td>15.000000</td>\n      <td>3.287897e+07</td>\n      <td>1.539738e+09</td>\n      <td>7.000000</td>\n      <td>15.000000</td>\n    </tr>\n  </tbody>\n</table>\n</div>"
     },
     "execution_count": 31,
     "metadata": {},
     "output_type": "execute_result"
    }
   ],
   "source": [
    "data_scoring.describe()"
   ],
   "metadata": {
    "collapsed": false,
    "pycharm": {
     "name": "#%%\n"
    }
   }
  },
  {
   "cell_type": "code",
   "execution_count": 32,
   "outputs": [],
   "source": [
    "# plt.figure(figsize=(15, 7))\n",
    "#\n",
    "# ax = sns.bar()"
   ],
   "metadata": {
    "collapsed": false,
    "pycharm": {
     "name": "#%%\n"
    }
   }
  },
  {
   "cell_type": "code",
   "execution_count": 33,
   "outputs": [
    {
     "data": {
      "text/plain": "0        Fully Paid\n1        Fully Paid\n2        Fully Paid\n3        Fully Paid\n4        Fully Paid\n            ...    \n99995    Fully Paid\n99996    Fully Paid\n99997    Fully Paid\n99998    Fully Paid\n99999    Fully Paid\nName: Loan Status, Length: 100000, dtype: object"
     },
     "execution_count": 33,
     "metadata": {},
     "output_type": "execute_result"
    }
   ],
   "source": [
    "data_scoring[\"Loan Status\"]"
   ],
   "metadata": {
    "collapsed": false,
    "pycharm": {
     "name": "#%%\n"
    }
   }
  },
  {
   "cell_type": "code",
   "execution_count": 34,
   "outputs": [
    {
     "data": {
      "text/plain": "Loan Status                         0\nCurrent Loan Amount                 0\nTerm                                0\nCredit Score                    19154\nAnnual Income                   19154\nYears in current job             4222\nHome Ownership                      0\nPurpose                             0\nMonthly Debt                        0\nYears of Credit History             0\nMonths since last delinquent    53141\nNumber of Open Accounts             0\nNumber of Credit Problems           0\nCurrent Credit Balance              0\nMaximum Open Credit                 2\nBankruptcies                      204\nTax Liens                          10\ndtype: int64"
     },
     "execution_count": 34,
     "metadata": {},
     "output_type": "execute_result"
    }
   ],
   "source": [
    "data_scoring.isna().sum()"
   ],
   "metadata": {
    "collapsed": false,
    "pycharm": {
     "name": "#%%\n"
    }
   }
  },
  {
   "cell_type": "code",
   "execution_count": 10,
   "outputs": [],
   "source": [],
   "metadata": {
    "collapsed": false,
    "pycharm": {
     "name": "#%%\n"
    }
   }
  },
  {
   "cell_type": "code",
   "execution_count": 10,
   "outputs": [],
   "source": [],
   "metadata": {
    "collapsed": false,
    "pycharm": {
     "name": "#%%\n"
    }
   }
  },
  {
   "cell_type": "code",
   "execution_count": 10,
   "outputs": [],
   "source": [],
   "metadata": {
    "collapsed": false,
    "pycharm": {
     "name": "#%%\n"
    }
   }
  },
  {
   "cell_type": "code",
   "execution_count": 10,
   "outputs": [],
   "source": [],
   "metadata": {
    "collapsed": false,
    "pycharm": {
     "name": "#%%\n"
    }
   }
  },
  {
   "cell_type": "code",
   "execution_count": 10,
   "outputs": [],
   "source": [],
   "metadata": {
    "collapsed": false,
    "pycharm": {
     "name": "#%%\n"
    }
   }
  },
  {
   "cell_type": "code",
   "execution_count": 10,
   "outputs": [],
   "source": [],
   "metadata": {
    "collapsed": false,
    "pycharm": {
     "name": "#%%\n"
    }
   }
  },
  {
   "cell_type": "code",
   "execution_count": 10,
   "outputs": [],
   "source": [],
   "metadata": {
    "collapsed": false,
    "pycharm": {
     "name": "#%%\n"
    }
   }
  },
  {
   "cell_type": "code",
   "execution_count": 10,
   "outputs": [],
   "source": [],
   "metadata": {
    "collapsed": false,
    "pycharm": {
     "name": "#%%\n"
    }
   }
  },
  {
   "cell_type": "code",
   "execution_count": 11,
   "outputs": [],
   "source": [
    "data_scoring['Years in current job'].fillna('10+ years', inplace=True)\n",
    "data_scoring['Credit Score'].fillna(data_scoring['Credit Score'].median(), inplace=True)\n",
    "data_scoring['Annual Income'].fillna(data_scoring['Annual Income'].median(), inplace=True)\n",
    "data_scoring['Months since last delinquent'].fillna(data_scoring['Months since last delinquent'].median(), inplace=True)\n",
    "data_scoring['Maximum Open Credit'].fillna(data_scoring['Maximum Open Credit'].median(), inplace=True)\n",
    "data_scoring['Bankruptcies'].fillna(data_scoring['Bankruptcies'].median(), inplace=True)\n",
    "data_scoring['Tax Liens'].fillna(data_scoring['Tax Liens'].median(), inplace=True)"
   ],
   "metadata": {
    "collapsed": false,
    "pycharm": {
     "name": "#%%\n"
    }
   }
  },
  {
   "cell_type": "code",
   "execution_count": 12,
   "outputs": [
    {
     "data": {
      "text/plain": "       Years in current job_1 year  Years in current job_10+ years  \\\n0                                0                               0   \n1                                0                               1   \n2                                0                               0   \n3                                0                               0   \n4                                0                               0   \n...                            ...                             ...   \n99995                            0                               0   \n99996                            1                               0   \n99997                            0                               0   \n99998                            0                               0   \n99999                            0                               1   \n\n       Years in current job_2 years  Years in current job_3 years  \\\n0                                 0                             0   \n1                                 0                             0   \n2                                 0                             0   \n3                                 0                             1   \n4                                 0                             0   \n...                             ...                           ...   \n99995                             0                             0   \n99996                             0                             0   \n99997                             0                             0   \n99998                             0                             0   \n99999                             0                             0   \n\n       Years in current job_4 years  Years in current job_5 years  \\\n0                                 0                             0   \n1                                 0                             0   \n2                                 0                             0   \n3                                 0                             0   \n4                                 0                             1   \n...                             ...                           ...   \n99995                             0                             0   \n99996                             0                             0   \n99997                             0                             0   \n99998                             0                             0   \n99999                             0                             0   \n\n       Years in current job_6 years  Years in current job_7 years  \\\n0                                 0                             0   \n1                                 0                             0   \n2                                 0                             0   \n3                                 0                             0   \n4                                 0                             0   \n...                             ...                           ...   \n99995                             0                             1   \n99996                             0                             0   \n99997                             1                             0   \n99998                             0                             0   \n99999                             0                             0   \n\n       Years in current job_8 years  Years in current job_9 years  \\\n0                                 1                             0   \n1                                 0                             0   \n2                                 1                             0   \n3                                 0                             0   \n4                                 0                             0   \n...                             ...                           ...   \n99995                             0                             0   \n99996                             0                             0   \n99997                             0                             0   \n99998                             0                             1   \n99999                             0                             0   \n\n       Years in current job_< 1 year  \n0                                  0  \n1                                  0  \n2                                  0  \n3                                  0  \n4                                  0  \n...                              ...  \n99995                              0  \n99996                              0  \n99997                              0  \n99998                              0  \n99999                              0  \n\n[100000 rows x 11 columns]",
      "text/html": "<div>\n<style scoped>\n    .dataframe tbody tr th:only-of-type {\n        vertical-align: middle;\n    }\n\n    .dataframe tbody tr th {\n        vertical-align: top;\n    }\n\n    .dataframe thead th {\n        text-align: right;\n    }\n</style>\n<table border=\"1\" class=\"dataframe\">\n  <thead>\n    <tr style=\"text-align: right;\">\n      <th></th>\n      <th>Years in current job_1 year</th>\n      <th>Years in current job_10+ years</th>\n      <th>Years in current job_2 years</th>\n      <th>Years in current job_3 years</th>\n      <th>Years in current job_4 years</th>\n      <th>Years in current job_5 years</th>\n      <th>Years in current job_6 years</th>\n      <th>Years in current job_7 years</th>\n      <th>Years in current job_8 years</th>\n      <th>Years in current job_9 years</th>\n      <th>Years in current job_&lt; 1 year</th>\n    </tr>\n  </thead>\n  <tbody>\n    <tr>\n      <th>0</th>\n      <td>0</td>\n      <td>0</td>\n      <td>0</td>\n      <td>0</td>\n      <td>0</td>\n      <td>0</td>\n      <td>0</td>\n      <td>0</td>\n      <td>1</td>\n      <td>0</td>\n      <td>0</td>\n    </tr>\n    <tr>\n      <th>1</th>\n      <td>0</td>\n      <td>1</td>\n      <td>0</td>\n      <td>0</td>\n      <td>0</td>\n      <td>0</td>\n      <td>0</td>\n      <td>0</td>\n      <td>0</td>\n      <td>0</td>\n      <td>0</td>\n    </tr>\n    <tr>\n      <th>2</th>\n      <td>0</td>\n      <td>0</td>\n      <td>0</td>\n      <td>0</td>\n      <td>0</td>\n      <td>0</td>\n      <td>0</td>\n      <td>0</td>\n      <td>1</td>\n      <td>0</td>\n      <td>0</td>\n    </tr>\n    <tr>\n      <th>3</th>\n      <td>0</td>\n      <td>0</td>\n      <td>0</td>\n      <td>1</td>\n      <td>0</td>\n      <td>0</td>\n      <td>0</td>\n      <td>0</td>\n      <td>0</td>\n      <td>0</td>\n      <td>0</td>\n    </tr>\n    <tr>\n      <th>4</th>\n      <td>0</td>\n      <td>0</td>\n      <td>0</td>\n      <td>0</td>\n      <td>0</td>\n      <td>1</td>\n      <td>0</td>\n      <td>0</td>\n      <td>0</td>\n      <td>0</td>\n      <td>0</td>\n    </tr>\n    <tr>\n      <th>...</th>\n      <td>...</td>\n      <td>...</td>\n      <td>...</td>\n      <td>...</td>\n      <td>...</td>\n      <td>...</td>\n      <td>...</td>\n      <td>...</td>\n      <td>...</td>\n      <td>...</td>\n      <td>...</td>\n    </tr>\n    <tr>\n      <th>99995</th>\n      <td>0</td>\n      <td>0</td>\n      <td>0</td>\n      <td>0</td>\n      <td>0</td>\n      <td>0</td>\n      <td>0</td>\n      <td>1</td>\n      <td>0</td>\n      <td>0</td>\n      <td>0</td>\n    </tr>\n    <tr>\n      <th>99996</th>\n      <td>1</td>\n      <td>0</td>\n      <td>0</td>\n      <td>0</td>\n      <td>0</td>\n      <td>0</td>\n      <td>0</td>\n      <td>0</td>\n      <td>0</td>\n      <td>0</td>\n      <td>0</td>\n    </tr>\n    <tr>\n      <th>99997</th>\n      <td>0</td>\n      <td>0</td>\n      <td>0</td>\n      <td>0</td>\n      <td>0</td>\n      <td>0</td>\n      <td>1</td>\n      <td>0</td>\n      <td>0</td>\n      <td>0</td>\n      <td>0</td>\n    </tr>\n    <tr>\n      <th>99998</th>\n      <td>0</td>\n      <td>0</td>\n      <td>0</td>\n      <td>0</td>\n      <td>0</td>\n      <td>0</td>\n      <td>0</td>\n      <td>0</td>\n      <td>0</td>\n      <td>1</td>\n      <td>0</td>\n    </tr>\n    <tr>\n      <th>99999</th>\n      <td>0</td>\n      <td>1</td>\n      <td>0</td>\n      <td>0</td>\n      <td>0</td>\n      <td>0</td>\n      <td>0</td>\n      <td>0</td>\n      <td>0</td>\n      <td>0</td>\n      <td>0</td>\n    </tr>\n  </tbody>\n</table>\n<p>100000 rows × 11 columns</p>\n</div>"
     },
     "execution_count": 12,
     "metadata": {},
     "output_type": "execute_result"
    }
   ],
   "source": [
    "pd.get_dummies(data_scoring['Years in current job'], prefix=\"Years in current job\")"
   ],
   "metadata": {
    "collapsed": false,
    "pycharm": {
     "name": "#%%\n"
    }
   }
  },
  {
   "cell_type": "code",
   "execution_count": 13,
   "outputs": [
    {
     "data": {
      "text/plain": "       Term_Long Term  Term_Short Term\n0                   0                1\n1                   0                1\n2                   0                1\n3                   1                0\n4                   0                1\n...               ...              ...\n99995               0                1\n99996               0                1\n99997               0                1\n99998               0                1\n99999               0                1\n\n[100000 rows x 2 columns]",
      "text/html": "<div>\n<style scoped>\n    .dataframe tbody tr th:only-of-type {\n        vertical-align: middle;\n    }\n\n    .dataframe tbody tr th {\n        vertical-align: top;\n    }\n\n    .dataframe thead th {\n        text-align: right;\n    }\n</style>\n<table border=\"1\" class=\"dataframe\">\n  <thead>\n    <tr style=\"text-align: right;\">\n      <th></th>\n      <th>Term_Long Term</th>\n      <th>Term_Short Term</th>\n    </tr>\n  </thead>\n  <tbody>\n    <tr>\n      <th>0</th>\n      <td>0</td>\n      <td>1</td>\n    </tr>\n    <tr>\n      <th>1</th>\n      <td>0</td>\n      <td>1</td>\n    </tr>\n    <tr>\n      <th>2</th>\n      <td>0</td>\n      <td>1</td>\n    </tr>\n    <tr>\n      <th>3</th>\n      <td>1</td>\n      <td>0</td>\n    </tr>\n    <tr>\n      <th>4</th>\n      <td>0</td>\n      <td>1</td>\n    </tr>\n    <tr>\n      <th>...</th>\n      <td>...</td>\n      <td>...</td>\n    </tr>\n    <tr>\n      <th>99995</th>\n      <td>0</td>\n      <td>1</td>\n    </tr>\n    <tr>\n      <th>99996</th>\n      <td>0</td>\n      <td>1</td>\n    </tr>\n    <tr>\n      <th>99997</th>\n      <td>0</td>\n      <td>1</td>\n    </tr>\n    <tr>\n      <th>99998</th>\n      <td>0</td>\n      <td>1</td>\n    </tr>\n    <tr>\n      <th>99999</th>\n      <td>0</td>\n      <td>1</td>\n    </tr>\n  </tbody>\n</table>\n<p>100000 rows × 2 columns</p>\n</div>"
     },
     "execution_count": 13,
     "metadata": {},
     "output_type": "execute_result"
    }
   ],
   "source": [
    "pd.get_dummies(data_scoring['Term'], prefix=\"Term\")"
   ],
   "metadata": {
    "collapsed": false,
    "pycharm": {
     "name": "#%%\n"
    }
   }
  },
  {
   "cell_type": "code",
   "execution_count": 14,
   "outputs": [
    {
     "data": {
      "text/plain": "       Home Ownership_HaveMortgage  Home Ownership_Home Mortgage  \\\n0                                0                             1   \n1                                0                             1   \n2                                0                             0   \n3                                0                             0   \n4                                0                             0   \n...                            ...                           ...   \n99995                            0                             0   \n99996                            0                             0   \n99997                            0                             0   \n99998                            0                             0   \n99999                            0                             0   \n\n       Home Ownership_Own Home  Home Ownership_Rent  \n0                            0                    0  \n1                            0                    0  \n2                            1                    0  \n3                            1                    0  \n4                            0                    1  \n...                        ...                  ...  \n99995                        1                    0  \n99996                        0                    1  \n99997                        0                    1  \n99998                        0                    1  \n99999                        1                    0  \n\n[100000 rows x 4 columns]",
      "text/html": "<div>\n<style scoped>\n    .dataframe tbody tr th:only-of-type {\n        vertical-align: middle;\n    }\n\n    .dataframe tbody tr th {\n        vertical-align: top;\n    }\n\n    .dataframe thead th {\n        text-align: right;\n    }\n</style>\n<table border=\"1\" class=\"dataframe\">\n  <thead>\n    <tr style=\"text-align: right;\">\n      <th></th>\n      <th>Home Ownership_HaveMortgage</th>\n      <th>Home Ownership_Home Mortgage</th>\n      <th>Home Ownership_Own Home</th>\n      <th>Home Ownership_Rent</th>\n    </tr>\n  </thead>\n  <tbody>\n    <tr>\n      <th>0</th>\n      <td>0</td>\n      <td>1</td>\n      <td>0</td>\n      <td>0</td>\n    </tr>\n    <tr>\n      <th>1</th>\n      <td>0</td>\n      <td>1</td>\n      <td>0</td>\n      <td>0</td>\n    </tr>\n    <tr>\n      <th>2</th>\n      <td>0</td>\n      <td>0</td>\n      <td>1</td>\n      <td>0</td>\n    </tr>\n    <tr>\n      <th>3</th>\n      <td>0</td>\n      <td>0</td>\n      <td>1</td>\n      <td>0</td>\n    </tr>\n    <tr>\n      <th>4</th>\n      <td>0</td>\n      <td>0</td>\n      <td>0</td>\n      <td>1</td>\n    </tr>\n    <tr>\n      <th>...</th>\n      <td>...</td>\n      <td>...</td>\n      <td>...</td>\n      <td>...</td>\n    </tr>\n    <tr>\n      <th>99995</th>\n      <td>0</td>\n      <td>0</td>\n      <td>1</td>\n      <td>0</td>\n    </tr>\n    <tr>\n      <th>99996</th>\n      <td>0</td>\n      <td>0</td>\n      <td>0</td>\n      <td>1</td>\n    </tr>\n    <tr>\n      <th>99997</th>\n      <td>0</td>\n      <td>0</td>\n      <td>0</td>\n      <td>1</td>\n    </tr>\n    <tr>\n      <th>99998</th>\n      <td>0</td>\n      <td>0</td>\n      <td>0</td>\n      <td>1</td>\n    </tr>\n    <tr>\n      <th>99999</th>\n      <td>0</td>\n      <td>0</td>\n      <td>1</td>\n      <td>0</td>\n    </tr>\n  </tbody>\n</table>\n<p>100000 rows × 4 columns</p>\n</div>"
     },
     "execution_count": 14,
     "metadata": {},
     "output_type": "execute_result"
    }
   ],
   "source": [
    "pd.get_dummies(data_scoring['Home Ownership'], prefix=\"Home Ownership\")"
   ],
   "metadata": {
    "collapsed": false,
    "pycharm": {
     "name": "#%%\n"
    }
   }
  },
  {
   "cell_type": "code",
   "execution_count": 15,
   "outputs": [
    {
     "data": {
      "text/plain": "  Loan Status  Current Loan Amount  Credit Score  Annual Income  Monthly Debt  \\\n0  Fully Paid               445412         709.0      1167493.0       5214.74   \n1  Fully Paid               262328         724.0      1174162.0      33295.98   \n2  Fully Paid             99999999         741.0      2231892.0      29200.53   \n3  Fully Paid               347666         721.0       806949.0       8741.90   \n4  Fully Paid               176220         724.0      1174162.0      20639.70   \n\n   Years of Credit History  Months since last delinquent  \\\n0                     17.2                          32.0   \n1                     21.1                           8.0   \n2                     14.9                          29.0   \n3                     12.0                          32.0   \n4                      6.1                          32.0   \n\n   Number of Open Accounts  Number of Credit Problems  Current Credit Balance  \\\n0                        6                          1                  228190   \n1                       35                          0                  229976   \n2                       18                          1                  297996   \n3                        9                          0                  256329   \n4                       15                          0                  253460   \n\n   ...  Purpose_Medical Bills  Purpose_Other  Purpose_Take a Trip  \\\n0  ...                      0              0                    0   \n1  ...                      0              0                    0   \n2  ...                      0              0                    0   \n3  ...                      0              0                    0   \n4  ...                      0              0                    0   \n\n   Purpose_major_purchase  Purpose_moving  Purpose_other  \\\n0                       0               0              0   \n1                       0               0              0   \n2                       0               0              0   \n3                       0               0              0   \n4                       0               0              0   \n\n   Purpose_renewable_energy  Purpose_small_business  Purpose_vacation  \\\n0                         0                       0                 0   \n1                         0                       0                 0   \n2                         0                       0                 0   \n3                         0                       0                 0   \n4                         0                       0                 0   \n\n   Purpose_wedding  \n0                0  \n1                0  \n2                0  \n3                0  \n4                0  \n\n[5 rows x 46 columns]",
      "text/html": "<div>\n<style scoped>\n    .dataframe tbody tr th:only-of-type {\n        vertical-align: middle;\n    }\n\n    .dataframe tbody tr th {\n        vertical-align: top;\n    }\n\n    .dataframe thead th {\n        text-align: right;\n    }\n</style>\n<table border=\"1\" class=\"dataframe\">\n  <thead>\n    <tr style=\"text-align: right;\">\n      <th></th>\n      <th>Loan Status</th>\n      <th>Current Loan Amount</th>\n      <th>Credit Score</th>\n      <th>Annual Income</th>\n      <th>Monthly Debt</th>\n      <th>Years of Credit History</th>\n      <th>Months since last delinquent</th>\n      <th>Number of Open Accounts</th>\n      <th>Number of Credit Problems</th>\n      <th>Current Credit Balance</th>\n      <th>...</th>\n      <th>Purpose_Medical Bills</th>\n      <th>Purpose_Other</th>\n      <th>Purpose_Take a Trip</th>\n      <th>Purpose_major_purchase</th>\n      <th>Purpose_moving</th>\n      <th>Purpose_other</th>\n      <th>Purpose_renewable_energy</th>\n      <th>Purpose_small_business</th>\n      <th>Purpose_vacation</th>\n      <th>Purpose_wedding</th>\n    </tr>\n  </thead>\n  <tbody>\n    <tr>\n      <th>0</th>\n      <td>Fully Paid</td>\n      <td>445412</td>\n      <td>709.0</td>\n      <td>1167493.0</td>\n      <td>5214.74</td>\n      <td>17.2</td>\n      <td>32.0</td>\n      <td>6</td>\n      <td>1</td>\n      <td>228190</td>\n      <td>...</td>\n      <td>0</td>\n      <td>0</td>\n      <td>0</td>\n      <td>0</td>\n      <td>0</td>\n      <td>0</td>\n      <td>0</td>\n      <td>0</td>\n      <td>0</td>\n      <td>0</td>\n    </tr>\n    <tr>\n      <th>1</th>\n      <td>Fully Paid</td>\n      <td>262328</td>\n      <td>724.0</td>\n      <td>1174162.0</td>\n      <td>33295.98</td>\n      <td>21.1</td>\n      <td>8.0</td>\n      <td>35</td>\n      <td>0</td>\n      <td>229976</td>\n      <td>...</td>\n      <td>0</td>\n      <td>0</td>\n      <td>0</td>\n      <td>0</td>\n      <td>0</td>\n      <td>0</td>\n      <td>0</td>\n      <td>0</td>\n      <td>0</td>\n      <td>0</td>\n    </tr>\n    <tr>\n      <th>2</th>\n      <td>Fully Paid</td>\n      <td>99999999</td>\n      <td>741.0</td>\n      <td>2231892.0</td>\n      <td>29200.53</td>\n      <td>14.9</td>\n      <td>29.0</td>\n      <td>18</td>\n      <td>1</td>\n      <td>297996</td>\n      <td>...</td>\n      <td>0</td>\n      <td>0</td>\n      <td>0</td>\n      <td>0</td>\n      <td>0</td>\n      <td>0</td>\n      <td>0</td>\n      <td>0</td>\n      <td>0</td>\n      <td>0</td>\n    </tr>\n    <tr>\n      <th>3</th>\n      <td>Fully Paid</td>\n      <td>347666</td>\n      <td>721.0</td>\n      <td>806949.0</td>\n      <td>8741.90</td>\n      <td>12.0</td>\n      <td>32.0</td>\n      <td>9</td>\n      <td>0</td>\n      <td>256329</td>\n      <td>...</td>\n      <td>0</td>\n      <td>0</td>\n      <td>0</td>\n      <td>0</td>\n      <td>0</td>\n      <td>0</td>\n      <td>0</td>\n      <td>0</td>\n      <td>0</td>\n      <td>0</td>\n    </tr>\n    <tr>\n      <th>4</th>\n      <td>Fully Paid</td>\n      <td>176220</td>\n      <td>724.0</td>\n      <td>1174162.0</td>\n      <td>20639.70</td>\n      <td>6.1</td>\n      <td>32.0</td>\n      <td>15</td>\n      <td>0</td>\n      <td>253460</td>\n      <td>...</td>\n      <td>0</td>\n      <td>0</td>\n      <td>0</td>\n      <td>0</td>\n      <td>0</td>\n      <td>0</td>\n      <td>0</td>\n      <td>0</td>\n      <td>0</td>\n      <td>0</td>\n    </tr>\n  </tbody>\n</table>\n<p>5 rows × 46 columns</p>\n</div>"
     },
     "execution_count": 15,
     "metadata": {},
     "output_type": "execute_result"
    }
   ],
   "source": [
    "data_scoring = pd.concat([data_scoring,\n",
    "                          pd.get_dummies(data_scoring['Years in current job'], prefix=\"Years in current job\"),\n",
    "                          pd.get_dummies(data_scoring['Term'], prefix=\"Term\"),\n",
    "                          pd.get_dummies(data_scoring['Home Ownership'], prefix=\"Home Ownership\"),\n",
    "                          pd.get_dummies(data_scoring['Purpose'], prefix=\"Purpose\")], axis=1)\n",
    "data_scoring.drop(columns=['Years in current job', 'Term', 'Home Ownership', 'Purpose'], inplace=True)\n",
    "data_scoring.head()"
   ],
   "metadata": {
    "collapsed": false,
    "pycharm": {
     "name": "#%%\n"
    }
   }
  },
  {
   "cell_type": "code",
   "execution_count": 16,
   "outputs": [
    {
     "data": {
      "text/plain": "(100000, 46)"
     },
     "execution_count": 16,
     "metadata": {},
     "output_type": "execute_result"
    }
   ],
   "source": [
    "data_scoring.shape"
   ],
   "metadata": {
    "collapsed": false,
    "pycharm": {
     "name": "#%%\n"
    }
   }
  },
  {
   "cell_type": "code",
   "execution_count": 17,
   "outputs": [
    {
     "data": {
      "text/plain": "   Loan Status  Current Loan Amount  Credit Score  Annual Income  \\\n0            0               445412         709.0      1167493.0   \n1            0               262328         724.0      1174162.0   \n2            0             99999999         741.0      2231892.0   \n3            0               347666         721.0       806949.0   \n4            0               176220         724.0      1174162.0   \n\n   Monthly Debt  Years of Credit History  Months since last delinquent  \\\n0       5214.74                     17.2                          32.0   \n1      33295.98                     21.1                           8.0   \n2      29200.53                     14.9                          29.0   \n3       8741.90                     12.0                          32.0   \n4      20639.70                      6.1                          32.0   \n\n   Number of Open Accounts  Number of Credit Problems  Current Credit Balance  \\\n0                        6                          1                  228190   \n1                       35                          0                  229976   \n2                       18                          1                  297996   \n3                        9                          0                  256329   \n4                       15                          0                  253460   \n\n   ...  Purpose_Medical Bills  Purpose_Other  Purpose_Take a Trip  \\\n0  ...                      0              0                    0   \n1  ...                      0              0                    0   \n2  ...                      0              0                    0   \n3  ...                      0              0                    0   \n4  ...                      0              0                    0   \n\n   Purpose_major_purchase  Purpose_moving  Purpose_other  \\\n0                       0               0              0   \n1                       0               0              0   \n2                       0               0              0   \n3                       0               0              0   \n4                       0               0              0   \n\n   Purpose_renewable_energy  Purpose_small_business  Purpose_vacation  \\\n0                         0                       0                 0   \n1                         0                       0                 0   \n2                         0                       0                 0   \n3                         0                       0                 0   \n4                         0                       0                 0   \n\n   Purpose_wedding  \n0                0  \n1                0  \n2                0  \n3                0  \n4                0  \n\n[5 rows x 46 columns]",
      "text/html": "<div>\n<style scoped>\n    .dataframe tbody tr th:only-of-type {\n        vertical-align: middle;\n    }\n\n    .dataframe tbody tr th {\n        vertical-align: top;\n    }\n\n    .dataframe thead th {\n        text-align: right;\n    }\n</style>\n<table border=\"1\" class=\"dataframe\">\n  <thead>\n    <tr style=\"text-align: right;\">\n      <th></th>\n      <th>Loan Status</th>\n      <th>Current Loan Amount</th>\n      <th>Credit Score</th>\n      <th>Annual Income</th>\n      <th>Monthly Debt</th>\n      <th>Years of Credit History</th>\n      <th>Months since last delinquent</th>\n      <th>Number of Open Accounts</th>\n      <th>Number of Credit Problems</th>\n      <th>Current Credit Balance</th>\n      <th>...</th>\n      <th>Purpose_Medical Bills</th>\n      <th>Purpose_Other</th>\n      <th>Purpose_Take a Trip</th>\n      <th>Purpose_major_purchase</th>\n      <th>Purpose_moving</th>\n      <th>Purpose_other</th>\n      <th>Purpose_renewable_energy</th>\n      <th>Purpose_small_business</th>\n      <th>Purpose_vacation</th>\n      <th>Purpose_wedding</th>\n    </tr>\n  </thead>\n  <tbody>\n    <tr>\n      <th>0</th>\n      <td>0</td>\n      <td>445412</td>\n      <td>709.0</td>\n      <td>1167493.0</td>\n      <td>5214.74</td>\n      <td>17.2</td>\n      <td>32.0</td>\n      <td>6</td>\n      <td>1</td>\n      <td>228190</td>\n      <td>...</td>\n      <td>0</td>\n      <td>0</td>\n      <td>0</td>\n      <td>0</td>\n      <td>0</td>\n      <td>0</td>\n      <td>0</td>\n      <td>0</td>\n      <td>0</td>\n      <td>0</td>\n    </tr>\n    <tr>\n      <th>1</th>\n      <td>0</td>\n      <td>262328</td>\n      <td>724.0</td>\n      <td>1174162.0</td>\n      <td>33295.98</td>\n      <td>21.1</td>\n      <td>8.0</td>\n      <td>35</td>\n      <td>0</td>\n      <td>229976</td>\n      <td>...</td>\n      <td>0</td>\n      <td>0</td>\n      <td>0</td>\n      <td>0</td>\n      <td>0</td>\n      <td>0</td>\n      <td>0</td>\n      <td>0</td>\n      <td>0</td>\n      <td>0</td>\n    </tr>\n    <tr>\n      <th>2</th>\n      <td>0</td>\n      <td>99999999</td>\n      <td>741.0</td>\n      <td>2231892.0</td>\n      <td>29200.53</td>\n      <td>14.9</td>\n      <td>29.0</td>\n      <td>18</td>\n      <td>1</td>\n      <td>297996</td>\n      <td>...</td>\n      <td>0</td>\n      <td>0</td>\n      <td>0</td>\n      <td>0</td>\n      <td>0</td>\n      <td>0</td>\n      <td>0</td>\n      <td>0</td>\n      <td>0</td>\n      <td>0</td>\n    </tr>\n    <tr>\n      <th>3</th>\n      <td>0</td>\n      <td>347666</td>\n      <td>721.0</td>\n      <td>806949.0</td>\n      <td>8741.90</td>\n      <td>12.0</td>\n      <td>32.0</td>\n      <td>9</td>\n      <td>0</td>\n      <td>256329</td>\n      <td>...</td>\n      <td>0</td>\n      <td>0</td>\n      <td>0</td>\n      <td>0</td>\n      <td>0</td>\n      <td>0</td>\n      <td>0</td>\n      <td>0</td>\n      <td>0</td>\n      <td>0</td>\n    </tr>\n    <tr>\n      <th>4</th>\n      <td>0</td>\n      <td>176220</td>\n      <td>724.0</td>\n      <td>1174162.0</td>\n      <td>20639.70</td>\n      <td>6.1</td>\n      <td>32.0</td>\n      <td>15</td>\n      <td>0</td>\n      <td>253460</td>\n      <td>...</td>\n      <td>0</td>\n      <td>0</td>\n      <td>0</td>\n      <td>0</td>\n      <td>0</td>\n      <td>0</td>\n      <td>0</td>\n      <td>0</td>\n      <td>0</td>\n      <td>0</td>\n    </tr>\n  </tbody>\n</table>\n<p>5 rows × 46 columns</p>\n</div>"
     },
     "execution_count": 17,
     "metadata": {},
     "output_type": "execute_result"
    }
   ],
   "source": [
    "data_scoring['Loan Status'] = data_scoring['Loan Status'].factorize()[0]\n",
    "data_scoring.head()"
   ],
   "metadata": {
    "collapsed": false,
    "pycharm": {
     "name": "#%%\n"
    }
   }
  },
  {
   "cell_type": "code",
   "execution_count": 18,
   "outputs": [],
   "source": [
    "X = data_scoring.drop(['Loan Status'], axis=1)\n",
    "y = data_scoring['Loan Status']"
   ],
   "metadata": {
    "collapsed": false,
    "pycharm": {
     "name": "#%%\n"
    }
   }
  },
  {
   "cell_type": "code",
   "execution_count": 19,
   "outputs": [
    {
     "data": {
      "text/plain": "   Current Loan Amount  Credit Score  Annual Income  Monthly Debt  \\\n0               445412         709.0      1167493.0       5214.74   \n1               262328         724.0      1174162.0      33295.98   \n2             99999999         741.0      2231892.0      29200.53   \n3               347666         721.0       806949.0       8741.90   \n4               176220         724.0      1174162.0      20639.70   \n\n   Years of Credit History  Months since last delinquent  \\\n0                     17.2                          32.0   \n1                     21.1                           8.0   \n2                     14.9                          29.0   \n3                     12.0                          32.0   \n4                      6.1                          32.0   \n\n   Number of Open Accounts  Number of Credit Problems  Current Credit Balance  \\\n0                        6                          1                  228190   \n1                       35                          0                  229976   \n2                       18                          1                  297996   \n3                        9                          0                  256329   \n4                       15                          0                  253460   \n\n   Maximum Open Credit  ...  Purpose_Medical Bills  Purpose_Other  \\\n0             416746.0  ...                      0              0   \n1             850784.0  ...                      0              0   \n2             750090.0  ...                      0              0   \n3             386958.0  ...                      0              0   \n4             427174.0  ...                      0              0   \n\n   Purpose_Take a Trip  Purpose_major_purchase  Purpose_moving  Purpose_other  \\\n0                    0                       0               0              0   \n1                    0                       0               0              0   \n2                    0                       0               0              0   \n3                    0                       0               0              0   \n4                    0                       0               0              0   \n\n   Purpose_renewable_energy  Purpose_small_business  Purpose_vacation  \\\n0                         0                       0                 0   \n1                         0                       0                 0   \n2                         0                       0                 0   \n3                         0                       0                 0   \n4                         0                       0                 0   \n\n   Purpose_wedding  \n0                0  \n1                0  \n2                0  \n3                0  \n4                0  \n\n[5 rows x 45 columns]",
      "text/html": "<div>\n<style scoped>\n    .dataframe tbody tr th:only-of-type {\n        vertical-align: middle;\n    }\n\n    .dataframe tbody tr th {\n        vertical-align: top;\n    }\n\n    .dataframe thead th {\n        text-align: right;\n    }\n</style>\n<table border=\"1\" class=\"dataframe\">\n  <thead>\n    <tr style=\"text-align: right;\">\n      <th></th>\n      <th>Current Loan Amount</th>\n      <th>Credit Score</th>\n      <th>Annual Income</th>\n      <th>Monthly Debt</th>\n      <th>Years of Credit History</th>\n      <th>Months since last delinquent</th>\n      <th>Number of Open Accounts</th>\n      <th>Number of Credit Problems</th>\n      <th>Current Credit Balance</th>\n      <th>Maximum Open Credit</th>\n      <th>...</th>\n      <th>Purpose_Medical Bills</th>\n      <th>Purpose_Other</th>\n      <th>Purpose_Take a Trip</th>\n      <th>Purpose_major_purchase</th>\n      <th>Purpose_moving</th>\n      <th>Purpose_other</th>\n      <th>Purpose_renewable_energy</th>\n      <th>Purpose_small_business</th>\n      <th>Purpose_vacation</th>\n      <th>Purpose_wedding</th>\n    </tr>\n  </thead>\n  <tbody>\n    <tr>\n      <th>0</th>\n      <td>445412</td>\n      <td>709.0</td>\n      <td>1167493.0</td>\n      <td>5214.74</td>\n      <td>17.2</td>\n      <td>32.0</td>\n      <td>6</td>\n      <td>1</td>\n      <td>228190</td>\n      <td>416746.0</td>\n      <td>...</td>\n      <td>0</td>\n      <td>0</td>\n      <td>0</td>\n      <td>0</td>\n      <td>0</td>\n      <td>0</td>\n      <td>0</td>\n      <td>0</td>\n      <td>0</td>\n      <td>0</td>\n    </tr>\n    <tr>\n      <th>1</th>\n      <td>262328</td>\n      <td>724.0</td>\n      <td>1174162.0</td>\n      <td>33295.98</td>\n      <td>21.1</td>\n      <td>8.0</td>\n      <td>35</td>\n      <td>0</td>\n      <td>229976</td>\n      <td>850784.0</td>\n      <td>...</td>\n      <td>0</td>\n      <td>0</td>\n      <td>0</td>\n      <td>0</td>\n      <td>0</td>\n      <td>0</td>\n      <td>0</td>\n      <td>0</td>\n      <td>0</td>\n      <td>0</td>\n    </tr>\n    <tr>\n      <th>2</th>\n      <td>99999999</td>\n      <td>741.0</td>\n      <td>2231892.0</td>\n      <td>29200.53</td>\n      <td>14.9</td>\n      <td>29.0</td>\n      <td>18</td>\n      <td>1</td>\n      <td>297996</td>\n      <td>750090.0</td>\n      <td>...</td>\n      <td>0</td>\n      <td>0</td>\n      <td>0</td>\n      <td>0</td>\n      <td>0</td>\n      <td>0</td>\n      <td>0</td>\n      <td>0</td>\n      <td>0</td>\n      <td>0</td>\n    </tr>\n    <tr>\n      <th>3</th>\n      <td>347666</td>\n      <td>721.0</td>\n      <td>806949.0</td>\n      <td>8741.90</td>\n      <td>12.0</td>\n      <td>32.0</td>\n      <td>9</td>\n      <td>0</td>\n      <td>256329</td>\n      <td>386958.0</td>\n      <td>...</td>\n      <td>0</td>\n      <td>0</td>\n      <td>0</td>\n      <td>0</td>\n      <td>0</td>\n      <td>0</td>\n      <td>0</td>\n      <td>0</td>\n      <td>0</td>\n      <td>0</td>\n    </tr>\n    <tr>\n      <th>4</th>\n      <td>176220</td>\n      <td>724.0</td>\n      <td>1174162.0</td>\n      <td>20639.70</td>\n      <td>6.1</td>\n      <td>32.0</td>\n      <td>15</td>\n      <td>0</td>\n      <td>253460</td>\n      <td>427174.0</td>\n      <td>...</td>\n      <td>0</td>\n      <td>0</td>\n      <td>0</td>\n      <td>0</td>\n      <td>0</td>\n      <td>0</td>\n      <td>0</td>\n      <td>0</td>\n      <td>0</td>\n      <td>0</td>\n    </tr>\n  </tbody>\n</table>\n<p>5 rows × 45 columns</p>\n</div>"
     },
     "execution_count": 19,
     "metadata": {},
     "output_type": "execute_result"
    }
   ],
   "source": [
    "X.head()"
   ],
   "metadata": {
    "collapsed": false,
    "pycharm": {
     "name": "#%%\n"
    }
   }
  },
  {
   "cell_type": "code",
   "execution_count": 20,
   "outputs": [
    {
     "data": {
      "text/plain": "0    0\n1    0\n2    0\n3    0\n4    0\nName: Loan Status, dtype: int64"
     },
     "execution_count": 20,
     "metadata": {},
     "output_type": "execute_result"
    }
   ],
   "source": [
    "y.head()"
   ],
   "metadata": {
    "collapsed": false,
    "pycharm": {
     "name": "#%%\n"
    }
   }
  },
  {
   "cell_type": "code",
   "execution_count": 21,
   "outputs": [
    {
     "data": {
      "text/plain": "                      model  train_score  test_score\n0             MLPClassifier            0           0\n1         Linear Regression            0           0\n2  Random Forest Classifier            0           0",
      "text/html": "<div>\n<style scoped>\n    .dataframe tbody tr th:only-of-type {\n        vertical-align: middle;\n    }\n\n    .dataframe tbody tr th {\n        vertical-align: top;\n    }\n\n    .dataframe thead th {\n        text-align: right;\n    }\n</style>\n<table border=\"1\" class=\"dataframe\">\n  <thead>\n    <tr style=\"text-align: right;\">\n      <th></th>\n      <th>model</th>\n      <th>train_score</th>\n      <th>test_score</th>\n    </tr>\n  </thead>\n  <tbody>\n    <tr>\n      <th>0</th>\n      <td>MLPClassifier</td>\n      <td>0</td>\n      <td>0</td>\n    </tr>\n    <tr>\n      <th>1</th>\n      <td>Linear Regression</td>\n      <td>0</td>\n      <td>0</td>\n    </tr>\n    <tr>\n      <th>2</th>\n      <td>Random Forest Classifier</td>\n      <td>0</td>\n      <td>0</td>\n    </tr>\n  </tbody>\n</table>\n</div>"
     },
     "execution_count": 21,
     "metadata": {},
     "output_type": "execute_result"
    }
   ],
   "source": [
    "result = pd.DataFrame({'model' : ['MLPClassifier', 'Linear Regression', 'Random Forest Classifier', ],\n",
    "                       'train_score': 0, 'test_score': 0})\n",
    "result"
   ],
   "metadata": {
    "collapsed": false,
    "pycharm": {
     "name": "#%%\n"
    }
   }
  },
  {
   "cell_type": "code",
   "execution_count": 22,
   "outputs": [],
   "source": [
    "X_train, X_test, y_train, y_test = train_test_split(X, y, train_size=0.80, random_state=43)"
   ],
   "metadata": {
    "collapsed": false,
    "pycharm": {
     "name": "#%%\n"
    }
   }
  },
  {
   "cell_type": "code",
   "execution_count": 23,
   "outputs": [
    {
     "data": {
      "text/plain": "(array([[ 0.6065484 ,  0.81695766,  1.05132077, ..., -0.36453805,\n          0.16466507, -0.76780375],\n        [-3.05376438,  0.92116205, -1.45832446, ...,  0.20437739,\n         -1.55269878, -0.4466992 ],\n        [ 0.60640394,  0.68064537,  1.02124813, ...,  1.03703898,\n         -0.83001099, -0.03599018],\n        ...,\n        [-2.30803851, -1.42368943,  1.14256392, ..., -0.24701649,\n         -0.37911961,  0.27610275],\n        [-1.53702887,  2.14957042,  0.32455352, ...,  2.15323347,\n          1.31972591, -0.8797298 ],\n        [ 0.37167029, -0.95543218, -0.1484898 , ..., -0.6294416 ,\n          0.14225137,  0.78002714]]),\n array([1, 1, 1, 0, 0, 0, 0, 1, 0, 1, 0, 0, 0, 1, 0, 1, 1, 0, 1, 0, 1, 1,\n        0, 1, 0, 0, 0, 1, 0, 1, 0, 1, 1, 0, 0, 1, 1, 1, 1, 1, 1, 1, 0, 1,\n        0, 0, 0, 1, 1, 1, 1, 0, 0, 1, 0, 1, 1, 1, 0, 0, 1, 0, 1, 1, 1, 0,\n        0, 0, 0, 1, 0, 0, 1, 1, 0, 1, 0, 1, 0, 0, 0, 0, 1, 0, 1, 0, 0, 0,\n        1, 0, 0, 1, 0, 0, 1, 1, 1, 0, 1, 0]))"
     },
     "execution_count": 23,
     "metadata": {},
     "output_type": "execute_result"
    }
   ],
   "source": [
    "from sklearn.datasets import make_classification\n",
    "\n",
    "make_classification(n_samples=100, random_state=1)"
   ],
   "metadata": {
    "collapsed": false,
    "pycharm": {
     "name": "#%%\n"
    }
   }
  },
  {
   "cell_type": "code",
   "execution_count": null,
   "outputs": [],
   "source": [],
   "metadata": {
    "collapsed": false,
    "pycharm": {
     "name": "#%%\n"
    }
   }
  }
 ],
 "metadata": {
  "kernelspec": {
   "display_name": "Python 3",
   "language": "python",
   "name": "python3"
  },
  "language_info": {
   "codemirror_mode": {
    "name": "ipython",
    "version": 2
   },
   "file_extension": ".py",
   "mimetype": "text/x-python",
   "name": "python",
   "nbconvert_exporter": "python",
   "pygments_lexer": "ipython2",
   "version": "2.7.6"
  }
 },
 "nbformat": 4,
 "nbformat_minor": 0
}